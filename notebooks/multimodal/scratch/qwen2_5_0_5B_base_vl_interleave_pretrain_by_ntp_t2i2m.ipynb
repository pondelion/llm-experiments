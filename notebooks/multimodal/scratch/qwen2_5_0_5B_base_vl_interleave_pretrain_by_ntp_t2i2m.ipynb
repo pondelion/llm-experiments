{
  "nbformat": 4,
  "nbformat_minor": 0,
  "metadata": {
    "colab": {
      "provenance": [],
      "gpuType": "T4"
    },
    "kernelspec": {
      "name": "python3",
      "display_name": "Python 3"
    },
    "language_info": {
      "name": "python"
    },
    "accelerator": "GPU"
  },
  "cells": [
    {
      "cell_type": "markdown",
      "source": [
        "vision encoder : full tuning  \n",
        "aligner : full tuning  \n",
        "llm : freezed  "
      ],
      "metadata": {
        "id": "ath4KYGopAH1"
      }
    },
    {
      "cell_type": "code",
      "execution_count": null,
      "metadata": {
        "colab": {
          "base_uri": "https://localhost:8080/"
        },
        "id": "2exTP_lz2yF_",
        "outputId": "6423cdf5-cacd-4381-e449-cd67010a3a04"
      },
      "outputs": [
        {
          "output_type": "stream",
          "name": "stdout",
          "text": [
            "\u001b[2K     \u001b[90m━━━━━━━━━━━━━━━━━━━━━━━━━━━━━━━━━━━━━━━━\u001b[0m \u001b[32m44.4/44.4 kB\u001b[0m \u001b[31m1.7 MB/s\u001b[0m eta \u001b[36m0:00:00\u001b[0m\n",
            "\u001b[2K     \u001b[90m━━━━━━━━━━━━━━━━━━━━━━━━━━━━━━━━━━━━━━━━\u001b[0m \u001b[32m71.6/71.6 kB\u001b[0m \u001b[31m4.2 MB/s\u001b[0m eta \u001b[36m0:00:00\u001b[0m\n",
            "\u001b[?25h  Preparing metadata (setup.py) ... \u001b[?25l\u001b[?25hdone\n",
            "\u001b[2K     \u001b[90m━━━━━━━━━━━━━━━━━━━━━━━━━━━━━━━━━━━━━━━━\u001b[0m \u001b[32m44.1/44.1 kB\u001b[0m \u001b[31m1.6 MB/s\u001b[0m eta \u001b[36m0:00:00\u001b[0m\n",
            "\u001b[2K   \u001b[90m━━━━━━━━━━━━━━━━━━━━━━━━━━━━━━━━━━━━━━━━\u001b[0m \u001b[32m480.6/480.6 kB\u001b[0m \u001b[31m13.9 MB/s\u001b[0m eta \u001b[36m0:00:00\u001b[0m\n",
            "\u001b[2K   \u001b[90m━━━━━━━━━━━━━━━━━━━━━━━━━━━━━━━━━━━━━━━━\u001b[0m \u001b[32m64.4/64.4 kB\u001b[0m \u001b[31m3.4 MB/s\u001b[0m eta \u001b[36m0:00:00\u001b[0m\n",
            "\u001b[2K   \u001b[90m━━━━━━━━━━━━━━━━━━━━━━━━━━━━━━━━━━━━━━━━\u001b[0m \u001b[32m10.1/10.1 MB\u001b[0m \u001b[31m23.8 MB/s\u001b[0m eta \u001b[36m0:00:00\u001b[0m\n",
            "\u001b[2K   \u001b[90m━━━━━━━━━━━━━━━━━━━━━━━━━━━━━━━━━━━━━━━━\u001b[0m \u001b[32m116.3/116.3 kB\u001b[0m \u001b[31m5.4 MB/s\u001b[0m eta \u001b[36m0:00:00\u001b[0m\n",
            "\u001b[2K   \u001b[90m━━━━━━━━━━━━━━━━━━━━━━━━━━━━━━━━━━━━━━━━\u001b[0m \u001b[32m179.3/179.3 kB\u001b[0m \u001b[31m7.6 MB/s\u001b[0m eta \u001b[36m0:00:00\u001b[0m\n",
            "\u001b[2K   \u001b[90m━━━━━━━━━━━━━━━━━━━━━━━━━━━━━━━━━━━━━━━━\u001b[0m \u001b[32m143.5/143.5 kB\u001b[0m \u001b[31m9.4 MB/s\u001b[0m eta \u001b[36m0:00:00\u001b[0m\n",
            "\u001b[2K   \u001b[90m━━━━━━━━━━━━━━━━━━━━━━━━━━━━━━━━━━━━━━━━\u001b[0m \u001b[32m363.4/363.4 MB\u001b[0m \u001b[31m4.1 MB/s\u001b[0m eta \u001b[36m0:00:00\u001b[0m\n",
            "\u001b[2K   \u001b[90m━━━━━━━━━━━━━━━━━━━━━━━━━━━━━━━━━━━━━━━━\u001b[0m \u001b[32m13.8/13.8 MB\u001b[0m \u001b[31m65.3 MB/s\u001b[0m eta \u001b[36m0:00:00\u001b[0m\n",
            "\u001b[2K   \u001b[90m━━━━━━━━━━━━━━━━━━━━━━━━━━━━━━━━━━━━━━━━\u001b[0m \u001b[32m24.6/24.6 MB\u001b[0m \u001b[31m71.5 MB/s\u001b[0m eta \u001b[36m0:00:00\u001b[0m\n",
            "\u001b[2K   \u001b[90m━━━━━━━━━━━━━━━━━━━━━━━━━━━━━━━━━━━━━━━━\u001b[0m \u001b[32m883.7/883.7 kB\u001b[0m \u001b[31m53.6 MB/s\u001b[0m eta \u001b[36m0:00:00\u001b[0m\n",
            "\u001b[2K   \u001b[90m━━━━━━━━━━━━━━━━━━━━━━━━━━━━━━━━━━━━━━━━\u001b[0m \u001b[32m664.8/664.8 MB\u001b[0m \u001b[31m2.1 MB/s\u001b[0m eta \u001b[36m0:00:00\u001b[0m\n",
            "\u001b[2K   \u001b[90m━━━━━━━━━━━━━━━━━━━━━━━━━━━━━━━━━━━━━━━━\u001b[0m \u001b[32m211.5/211.5 MB\u001b[0m \u001b[31m5.9 MB/s\u001b[0m eta \u001b[36m0:00:00\u001b[0m\n",
            "\u001b[2K   \u001b[90m━━━━━━━━━━━━━━━━━━━━━━━━━━━━━━━━━━━━━━━━\u001b[0m \u001b[32m56.3/56.3 MB\u001b[0m \u001b[31m13.2 MB/s\u001b[0m eta \u001b[36m0:00:00\u001b[0m\n",
            "\u001b[2K   \u001b[90m━━━━━━━━━━━━━━━━━━━━━━━━━━━━━━━━━━━━━━━━\u001b[0m \u001b[32m127.9/127.9 MB\u001b[0m \u001b[31m7.5 MB/s\u001b[0m eta \u001b[36m0:00:00\u001b[0m\n",
            "\u001b[2K   \u001b[90m━━━━━━━━━━━━━━━━━━━━━━━━━━━━━━━━━━━━━━━━\u001b[0m \u001b[32m207.5/207.5 MB\u001b[0m \u001b[31m5.6 MB/s\u001b[0m eta \u001b[36m0:00:00\u001b[0m\n",
            "\u001b[2K   \u001b[90m━━━━━━━━━━━━━━━━━━━━━━━━━━━━━━━━━━━━━━━━\u001b[0m \u001b[32m21.1/21.1 MB\u001b[0m \u001b[31m65.9 MB/s\u001b[0m eta \u001b[36m0:00:00\u001b[0m\n",
            "\u001b[2K   \u001b[90m━━━━━━━━━━━━━━━━━━━━━━━━━━━━━━━━━━━━━━━━\u001b[0m \u001b[32m194.8/194.8 kB\u001b[0m \u001b[31m17.1 MB/s\u001b[0m eta \u001b[36m0:00:00\u001b[0m\n",
            "\u001b[?25h  Building wheel for autoawq (setup.py) ... \u001b[?25l\u001b[?25hdone\n",
            "\u001b[31mERROR: pip's dependency resolver does not currently take into account all the packages that are installed. This behaviour is the source of the following dependency conflicts.\n",
            "gcsfs 2024.10.0 requires fsspec==2024.10.0, but you have fsspec 2024.9.0 which is incompatible.\u001b[0m\u001b[31m\n",
            "\u001b[0m"
          ]
        }
      ],
      "source": [
        "!pip install -q -U datasets einops transformers autoawq"
      ]
    },
    {
      "cell_type": "code",
      "source": [],
      "metadata": {
        "id": "Hu0aKAxv3BoD"
      },
      "execution_count": null,
      "outputs": []
    },
    {
      "cell_type": "code",
      "source": [
        "from typing import Tuple, Any, List, Dict\n",
        "import math\n",
        "import os\n",
        "import copy\n",
        "\n",
        "import pandas as pd\n",
        "import numpy as np\n",
        "import torch\n",
        "import torch.nn as nn\n",
        "import torch.nn.functional as F\n",
        "import torchvision\n",
        "import matplotlib.pyplot as plt\n",
        "from fastprogress import progress_bar as pb\n",
        "import datasets\n",
        "from datasets import load_dataset\n",
        "import transformers\n",
        "from transformers import AutoTokenizer, AutoModel, AutoModelForCausalLM, CLIPTextModel, CLIPVisionModel\n",
        "# from sentence_transformers import SentenceTransformer\n",
        "import einops\n",
        "from PIL import Image\n",
        "\n",
        "import warnings\n",
        "warnings.simplefilter('ignore')\n",
        "\n",
        "os.environ['TOKENIZERS_PARALLELISM'] = 'false'"
      ],
      "metadata": {
        "id": "jxMc_LOK3B8y"
      },
      "execution_count": null,
      "outputs": []
    },
    {
      "cell_type": "code",
      "source": [],
      "metadata": {
        "id": "QEdeku8pdQVI"
      },
      "execution_count": null,
      "outputs": []
    },
    {
      "cell_type": "markdown",
      "source": [
        "## Configs"
      ],
      "metadata": {
        "id": "B7v9wl47dZOU"
      }
    },
    {
      "cell_type": "code",
      "source": [
        "IMAGE_SIZE = (224, 224)\n",
        "N_PATCHES_PER_IMAGE = 50#(IMAGE_SIZE[0] // vision_encoder.config.patch_size) * (IMAGE_SIZE[1] // vision_encoder.config.patch_size)\n",
        "# N_COMPRESSED_PATCHES_PER_IMAGE = 10\n",
        "N_COMPRESSED_PATCHES_PER_IMAGE = 50\n",
        "\n",
        "IMAGE_TOKEN = '<|imagetoken|>'\n",
        "BOI_TOKEN = '<|boi|>'  # begining of image token\n",
        "EOI_TOKEN = '<|eoi|>'  # end of image token\n",
        "# CLS_TOKEN = '<|cls|>'\n",
        "\n",
        "TEXT_PADDING_MAX_LENGTH = 80 + 150 + N_COMPRESSED_PATCHES_PER_IMAGE\n",
        "\n",
        "N_EPOCHS = 40\n",
        "TRAIN_BATCH_SIZE = TEST_BATCH_SIZE = 8#16#8#32\n",
        "LR = 5e-5\n",
        "WEIGHT_DECAY = 1e-2\n",
        "USE_AMP = True\n",
        "AMP_DTYPE = torch.bfloat16\n",
        "\n",
        "dtype = torch.float32#torch.bfloat16\n",
        "llm_dtype = torch.bfloat16\n",
        "\n",
        "TRAIN_VISION_ENCODER = True"
      ],
      "metadata": {
        "id": "tH8pvG-Pda75"
      },
      "execution_count": null,
      "outputs": []
    },
    {
      "cell_type": "code",
      "source": [
        "device = \"cuda\" if torch.cuda.is_available() else \"cpu\""
      ],
      "metadata": {
        "id": "u-bSIm14ddkx"
      },
      "execution_count": null,
      "outputs": []
    },
    {
      "cell_type": "markdown",
      "source": [
        "## Load LLM Model and Tokenizer"
      ],
      "metadata": {
        "id": "UeNmM2zodQrT"
      }
    },
    {
      "cell_type": "code",
      "source": [
        "if device == 'cuda':\n",
        "    tokenizer = AutoTokenizer.from_pretrained(\"Qwen/Qwen2.5-0.5B-Instruct-AWQ\")\n",
        "    llm_model = AutoModelForCausalLM.from_pretrained(\"Qwen/Qwen2.5-0.5B-Instruct-AWQ\", torch_dtype=llm_dtype).to(device).eval()\n",
        "else:\n",
        "    tokenizer = AutoTokenizer.from_pretrained(\"Qwen/Qwen2.5-0.5B-Instruct\")\n",
        "    llm_model = AutoModelForCausalLM.from_pretrained(\"Qwen/Qwen2.5-0.5B-Instruct\", torch_dtype=llm_dtype).to(device).eval()"
      ],
      "metadata": {
        "colab": {
          "base_uri": "https://localhost:8080/"
        },
        "id": "qmIb7Kd8dYBO",
        "outputId": "4b9feb6c-7925-4854-b2a9-710182b6e8af"
      },
      "execution_count": null,
      "outputs": [
        {
          "output_type": "stream",
          "name": "stderr",
          "text": [
            "You have loaded an AWQ model on CPU and have a CUDA device available, make sure to set your model on a GPU device in order to run your model.\n",
            "We suggest you to set `torch_dtype=torch.float16` for better efficiency with AWQ.\n",
            "`low_cpu_mem_usage` was None, now default to True since model is quantized.\n"
          ]
        }
      ]
    },
    {
      "cell_type": "code",
      "source": [
        "_ = llm_model.requires_grad_(False)"
      ],
      "metadata": {
        "id": "A4CwPXu3dlG8"
      },
      "execution_count": null,
      "outputs": []
    },
    {
      "cell_type": "code",
      "source": [
        "tokenizer.add_tokens([IMAGE_TOKEN, BOI_TOKEN, EOI_TOKEN], special_tokens=True)"
      ],
      "metadata": {
        "colab": {
          "base_uri": "https://localhost:8080/"
        },
        "id": "CALiMlsJdli6",
        "outputId": "adafe337-3d06-4b4b-8f1e-691ec0a7daae"
      },
      "execution_count": null,
      "outputs": [
        {
          "output_type": "execute_result",
          "data": {
            "text/plain": [
              "3"
            ]
          },
          "metadata": {},
          "execution_count": 6
        }
      ]
    },
    {
      "cell_type": "code",
      "source": [
        "IMAGE_TOKEN_ID = tokenizer.convert_tokens_to_ids(IMAGE_TOKEN)"
      ],
      "metadata": {
        "id": "dEIvRkMwdsZz"
      },
      "execution_count": null,
      "outputs": []
    },
    {
      "cell_type": "code",
      "source": [
        "tokenizer"
      ],
      "metadata": {
        "colab": {
          "base_uri": "https://localhost:8080/"
        },
        "id": "sXdbyea4hwou",
        "outputId": "89ab22e3-e81f-4cfb-aab6-6f5a4131c3d6"
      },
      "execution_count": null,
      "outputs": [
        {
          "output_type": "execute_result",
          "data": {
            "text/plain": [
              "Qwen2TokenizerFast(name_or_path='Qwen/Qwen2.5-0.5B-Instruct-AWQ', vocab_size=151643, model_max_length=131072, is_fast=True, padding_side='right', truncation_side='right', special_tokens={'eos_token': '<|im_end|>', 'pad_token': '<|endoftext|>', 'additional_special_tokens': ['<|im_start|>', '<|im_end|>', '<|object_ref_start|>', '<|object_ref_end|>', '<|box_start|>', '<|box_end|>', '<|quad_start|>', '<|quad_end|>', '<|vision_start|>', '<|vision_end|>', '<|vision_pad|>', '<|image_pad|>', '<|video_pad|>']}, clean_up_tokenization_spaces=False, added_tokens_decoder={\n",
              "\t151643: AddedToken(\"<|endoftext|>\", rstrip=False, lstrip=False, single_word=False, normalized=False, special=True),\n",
              "\t151644: AddedToken(\"<|im_start|>\", rstrip=False, lstrip=False, single_word=False, normalized=False, special=True),\n",
              "\t151645: AddedToken(\"<|im_end|>\", rstrip=False, lstrip=False, single_word=False, normalized=False, special=True),\n",
              "\t151646: AddedToken(\"<|object_ref_start|>\", rstrip=False, lstrip=False, single_word=False, normalized=False, special=True),\n",
              "\t151647: AddedToken(\"<|object_ref_end|>\", rstrip=False, lstrip=False, single_word=False, normalized=False, special=True),\n",
              "\t151648: AddedToken(\"<|box_start|>\", rstrip=False, lstrip=False, single_word=False, normalized=False, special=True),\n",
              "\t151649: AddedToken(\"<|box_end|>\", rstrip=False, lstrip=False, single_word=False, normalized=False, special=True),\n",
              "\t151650: AddedToken(\"<|quad_start|>\", rstrip=False, lstrip=False, single_word=False, normalized=False, special=True),\n",
              "\t151651: AddedToken(\"<|quad_end|>\", rstrip=False, lstrip=False, single_word=False, normalized=False, special=True),\n",
              "\t151652: AddedToken(\"<|vision_start|>\", rstrip=False, lstrip=False, single_word=False, normalized=False, special=True),\n",
              "\t151653: AddedToken(\"<|vision_end|>\", rstrip=False, lstrip=False, single_word=False, normalized=False, special=True),\n",
              "\t151654: AddedToken(\"<|vision_pad|>\", rstrip=False, lstrip=False, single_word=False, normalized=False, special=True),\n",
              "\t151655: AddedToken(\"<|image_pad|>\", rstrip=False, lstrip=False, single_word=False, normalized=False, special=True),\n",
              "\t151656: AddedToken(\"<|video_pad|>\", rstrip=False, lstrip=False, single_word=False, normalized=False, special=True),\n",
              "\t151657: AddedToken(\"<tool_call>\", rstrip=False, lstrip=False, single_word=False, normalized=False, special=False),\n",
              "\t151658: AddedToken(\"</tool_call>\", rstrip=False, lstrip=False, single_word=False, normalized=False, special=False),\n",
              "\t151659: AddedToken(\"<|fim_prefix|>\", rstrip=False, lstrip=False, single_word=False, normalized=False, special=False),\n",
              "\t151660: AddedToken(\"<|fim_middle|>\", rstrip=False, lstrip=False, single_word=False, normalized=False, special=False),\n",
              "\t151661: AddedToken(\"<|fim_suffix|>\", rstrip=False, lstrip=False, single_word=False, normalized=False, special=False),\n",
              "\t151662: AddedToken(\"<|fim_pad|>\", rstrip=False, lstrip=False, single_word=False, normalized=False, special=False),\n",
              "\t151663: AddedToken(\"<|repo_name|>\", rstrip=False, lstrip=False, single_word=False, normalized=False, special=False),\n",
              "\t151664: AddedToken(\"<|file_sep|>\", rstrip=False, lstrip=False, single_word=False, normalized=False, special=False),\n",
              "\t151665: AddedToken(\"<|imagetoken|>\", rstrip=False, lstrip=False, single_word=False, normalized=False, special=True),\n",
              "\t151666: AddedToken(\"<|boi|>\", rstrip=False, lstrip=False, single_word=False, normalized=False, special=True),\n",
              "\t151667: AddedToken(\"<|eoi|>\", rstrip=False, lstrip=False, single_word=False, normalized=False, special=True),\n",
              "}\n",
              ")"
            ]
          },
          "metadata": {},
          "execution_count": 8
        }
      ]
    },
    {
      "cell_type": "markdown",
      "source": [
        "## Load Vision Encoder Model"
      ],
      "metadata": {
        "id": "sgFgBPSKdvGD"
      }
    },
    {
      "cell_type": "code",
      "source": [
        "vision_encoder = CLIPVisionModel.from_pretrained(\"openai/clip-vit-base-patch32\", torch_dtype=dtype, attn_implementation=\"sdpa\").to(device).eval()"
      ],
      "metadata": {
        "id": "uOyIQjxndQRF"
      },
      "execution_count": null,
      "outputs": []
    },
    {
      "cell_type": "code",
      "source": [
        "_ = vision_encoder.requires_grad_(False)"
      ],
      "metadata": {
        "id": "1xoN7D6Yd1GS"
      },
      "execution_count": null,
      "outputs": []
    },
    {
      "cell_type": "markdown",
      "source": [
        "## Prepare Dataset"
      ],
      "metadata": {
        "id": "_EP4-er82060"
      }
    },
    {
      "cell_type": "code",
      "source": [
        "data_part_no_list = [0]\n",
        "hf_dataset = load_dataset('jackyhate/text-to-image-2M', trust_remote_code=True, data_files=[f\"data_512_2M/data_00000{no}.tar\" for no in data_part_no_list], cache_dir='./cache_data')['train']"
      ],
      "metadata": {
        "id": "Rmk_I7l2228f"
      },
      "execution_count": null,
      "outputs": []
    },
    {
      "cell_type": "code",
      "source": [
        "# hf_dataset_posi = hf_dataset\n",
        "hf_dataset_sampled = hf_dataset.select(range(1000))"
      ],
      "metadata": {
        "id": "R2dRpO5jMekz"
      },
      "execution_count": null,
      "outputs": []
    },
    {
      "cell_type": "code",
      "source": [
        "hf_dataset_sampled"
      ],
      "metadata": {
        "colab": {
          "base_uri": "https://localhost:8080/"
        },
        "id": "UIJ9e185j0Pm",
        "outputId": "856bbbd4-841f-484a-b94f-8ffd24b022de"
      },
      "execution_count": null,
      "outputs": [
        {
          "output_type": "execute_result",
          "data": {
            "text/plain": [
              "Dataset({\n",
              "    features: ['__key__', '__url__', 'jpg', 'json'],\n",
              "    num_rows: 1000\n",
              "})"
            ]
          },
          "metadata": {},
          "execution_count": 13
        }
      ]
    },
    {
      "cell_type": "code",
      "source": [],
      "metadata": {
        "id": "rvqxQoFXeEAT"
      },
      "execution_count": null,
      "outputs": []
    },
    {
      "cell_type": "code",
      "source": [
        "image_transforms = torchvision.transforms.Compose(\n",
        "    [\n",
        "        torchvision.transforms.Resize(IMAGE_SIZE, interpolation=torchvision.transforms.InterpolationMode.BILINEAR),\n",
        "        torchvision.transforms.CenterCrop(IMAGE_SIZE),\n",
        "        torchvision.transforms.ToTensor(),\n",
        "        torchvision.transforms.Normalize([0.5], [0.5]),\n",
        "    ]\n",
        ")"
      ],
      "metadata": {
        "id": "Vgvq5J7De5Cp"
      },
      "execution_count": null,
      "outputs": []
    },
    {
      "cell_type": "code",
      "source": [
        "# tokenizer.encode('<|im_start|>assistant')"
      ],
      "metadata": {
        "id": "kV_FzOGwYDfh"
      },
      "execution_count": null,
      "outputs": []
    },
    {
      "cell_type": "code",
      "source": [
        "torch.tensor([False, False, False, True, False, False, True, False]).long().argmax()"
      ],
      "metadata": {
        "colab": {
          "base_uri": "https://localhost:8080/"
        },
        "id": "29J-uyoyaG1M",
        "outputId": "60440fe0-dffd-4bb2-aa25-807acc8ccbf9"
      },
      "execution_count": null,
      "outputs": [
        {
          "output_type": "execute_result",
          "data": {
            "text/plain": [
              "tensor(3)"
            ]
          },
          "metadata": {},
          "execution_count": 16
        }
      ]
    },
    {
      "cell_type": "code",
      "source": [
        "@torch.inference_mode()\n",
        "def tokenize_text(texts, tokenizer=tokenizer, ignore_label = -100):\n",
        "    non_prediction_target_text = f'<|vision_start|>{N_COMPRESSED_PATCHES_PER_IMAGE * IMAGE_TOKEN}<|vision_end|> describe the text'\n",
        "    # end_of_non_prediction_target_token = tokenizer.encode(non_prediction_target_text)[-1]\n",
        "    end_of_non_prediction_target_token = tokenizer.encode('<|im_start|>assistant')[-1]\n",
        "    conversation_text_list = []\n",
        "    for text in texts:\n",
        "        conversations = [\n",
        "            {'content': non_prediction_target_text, 'role': 'user'},\n",
        "            {'content': text, 'role': 'assistant'},\n",
        "        ]\n",
        "        conversation_text = tokenizer.apply_chat_template(\n",
        "            conversations, tokenize=False\n",
        "        )\n",
        "        conversation_text_list.append(conversation_text)\n",
        "\n",
        "    inputs = tokenizer(conversation_text_list, padding='max_length', max_length=TEXT_PADDING_MAX_LENGTH, truncation=True, return_tensors='pt')\n",
        "    inputs['loss_target_pos_mask'] = torch.zeros_like(inputs['input_ids'])\n",
        "    loss_target_start_idx = (inputs['input_ids'] == end_of_non_prediction_target_token).long().argmax(dim=-1) + 1\n",
        "    # print(loss_target_start_idx)\n",
        "    assert (loss_target_start_idx == loss_target_start_idx[0]).all()\n",
        "    loss_target_start_idx = loss_target_start_idx[0]\n",
        "    inputs['loss_target_pos_mask'][torch.arange(inputs['loss_target_pos_mask'].shape[0]), loss_target_start_idx:] = 1\n",
        "    inputs = {k: v.to(device) for k, v in inputs.items()}\n",
        "    return inputs\n",
        "\n",
        "def preprocess_data(examples, vision_encoder=vision_encoder):\n",
        "    # print('preprocess_data')\n",
        "    images = [image.convert(\"RGB\") for image in examples['jpg']]\n",
        "    images = [image_transforms(image) for image in images]\n",
        "    image_embs = vision_encoder(torch.stack(images).to(device)).last_hidden_state\n",
        "\n",
        "    examples[\"pixel_values\"] = images\n",
        "    examples[\"image_embs\"] = image_embs\n",
        "    tokenized_inputs = tokenize_text([d['prompt'] for d in examples['json']])\n",
        "    examples[\"input_ids\"] = tokenized_inputs['input_ids']\n",
        "    examples[\"attention_mask\"] = tokenized_inputs['attention_mask']\n",
        "    examples[\"loss_target_pos_mask\"] = tokenized_inputs['loss_target_pos_mask']\n",
        "\n",
        "    return examples\n",
        "\n",
        "def collate_fn(examples):\n",
        "    pixel_values = torch.stack([example[\"pixel_values\"] for example in examples])\n",
        "    pixel_values = pixel_values.to(memory_format=torch.contiguous_format)\n",
        "    image_embs = torch.stack([example[\"image_embs\"] for example in examples])\n",
        "    input_ids = torch.stack([example[\"input_ids\"] for example in examples])\n",
        "    attention_mask = torch.stack([example[\"attention_mask\"] for example in examples])\n",
        "    loss_target_pos_mask = torch.stack([example[\"loss_target_pos_mask\"] for example in examples])\n",
        "\n",
        "    return {\n",
        "        \"pixel_values\": pixel_values,\n",
        "        'image_embs': image_embs,\n",
        "        \"input_ids\": input_ids,\n",
        "        'attention_mask': attention_mask,\n",
        "        'loss_target_pos_mask': loss_target_pos_mask,\n",
        "    }"
      ],
      "metadata": {
        "id": "Cp_iprWKe7KQ"
      },
      "execution_count": null,
      "outputs": []
    },
    {
      "cell_type": "code",
      "source": [
        "%%time\n",
        "hf_dataset_sampled = hf_dataset_sampled.with_transform(preprocess_data)"
      ],
      "metadata": {
        "colab": {
          "base_uri": "https://localhost:8080/"
        },
        "id": "Yd4Okb94gKhb",
        "outputId": "668d583a-17e0-4e04-f5e8-4892eeb02e77"
      },
      "execution_count": null,
      "outputs": [
        {
          "output_type": "stream",
          "name": "stdout",
          "text": [
            "CPU times: user 2.45 s, sys: 817 ms, total: 3.27 s\n",
            "Wall time: 3.9 s\n"
          ]
        }
      ]
    },
    {
      "cell_type": "code",
      "source": [
        "_d = hf_dataset_sampled[0]"
      ],
      "metadata": {
        "id": "Tjl4lwOigfxD"
      },
      "execution_count": null,
      "outputs": []
    },
    {
      "cell_type": "code",
      "source": [
        "_d.keys()"
      ],
      "metadata": {
        "colab": {
          "base_uri": "https://localhost:8080/"
        },
        "id": "IZwxKc-mgoK7",
        "outputId": "2185004b-bdf4-4675-9294-04a5086af66b"
      },
      "execution_count": null,
      "outputs": [
        {
          "output_type": "execute_result",
          "data": {
            "text/plain": [
              "dict_keys(['__key__', '__url__', 'jpg', 'json', 'pixel_values', 'image_embs', 'input_ids', 'attention_mask', 'loss_target_pos_mask'])"
            ]
          },
          "metadata": {},
          "execution_count": 84
        }
      ]
    },
    {
      "cell_type": "code",
      "source": [
        "tokenizer.decode(_d['input_ids'])"
      ],
      "metadata": {
        "colab": {
          "base_uri": "https://localhost:8080/",
          "height": 313
        },
        "id": "faDPcQ59cMPR",
        "outputId": "6bf38120-cd1d-44c8-81b7-400a2e6bb829"
      },
      "execution_count": null,
      "outputs": [
        {
          "output_type": "execute_result",
          "data": {
            "text/plain": [
              "'<|im_start|>system\\nYou are Qwen, created by Alibaba Cloud. You are a helpful assistant.<|im_end|>\\n<|im_start|>user\\n<|boi|><|imagetoken|><|imagetoken|><|imagetoken|><|imagetoken|><|imagetoken|><|imagetoken|><|imagetoken|><|imagetoken|><|imagetoken|><|imagetoken|><|imagetoken|><|imagetoken|><|imagetoken|><|imagetoken|><|imagetoken|><|imagetoken|><|imagetoken|><|imagetoken|><|imagetoken|><|imagetoken|><|imagetoken|><|imagetoken|><|imagetoken|><|imagetoken|><|imagetoken|><|imagetoken|><|imagetoken|><|imagetoken|><|imagetoken|><|imagetoken|><|imagetoken|><|imagetoken|><|imagetoken|><|imagetoken|><|imagetoken|><|imagetoken|><|imagetoken|><|imagetoken|><|imagetoken|><|imagetoken|><|imagetoken|><|imagetoken|><|imagetoken|><|imagetoken|><|imagetoken|><|imagetoken|><|imagetoken|><|imagetoken|><|imagetoken|><|imagetoken|><|eoi|> describe the text<|im_end|>\\n<|im_start|>assistant\\nA group of people is gathered under a large tree with green leaves. In the center, a man is wearing a colorful shirt with a yellow and red design and a matching headband. He is standing with his hands pressed together in a prayer gesture. Surrounding him are other individuals, some of whom are also wearing headbands. The group appears to be participating in a ceremony or event.<|im_end|>\\n<|endoftext|><|endoftext|><|endoftext|><|endoftext|><|endoftext|><|endoftext|><|endoftext|><|endoftext|><|endoftext|><|endoftext|><|endoftext|><|endoftext|><|endoftext|><|endoftext|><|endoftext|><|endoftext|><|endoftext|><|endoftext|><|endoftext|><|endoftext|><|endoftext|><|endoftext|><|endoftext|><|endoftext|><|endoftext|><|endoftext|><|endoftext|><|endoftext|><|endoftext|><|endoftext|><|endoftext|><|endoftext|><|endoftext|><|endoftext|><|endoftext|><|endoftext|><|endoftext|><|endoftext|><|endoftext|><|endoftext|><|endoftext|><|endoftext|><|endoftext|><|endoftext|><|endoftext|><|endoftext|><|endoftext|><|endoftext|><|endoftext|><|endoftext|><|endoftext|><|endoftext|><|endoftext|><|endoftext|><|endoftext|><|endoftext|><|endoftext|><|endoftext|><|endoftext|><|endoftext|><|endoftext|><|endoftext|><|endoftext|><|endoftext|><|endoftext|><|endoftext|><|endoftext|><|endoftext|><|endoftext|><|endoftext|><|endoftext|><|endoftext|><|endoftext|><|endoftext|><|endoftext|><|endoftext|><|endoftext|><|endoftext|><|endoftext|><|endoftext|><|endoftext|><|endoftext|><|endoftext|><|endoftext|><|endoftext|><|endoftext|><|endoftext|><|endoftext|><|endoftext|><|endoftext|><|endoftext|><|endoftext|><|endoftext|><|endoftext|><|endoftext|><|endoftext|><|endoftext|><|endoftext|><|endoftext|><|endoftext|><|endoftext|><|endoftext|><|endoftext|><|endoftext|><|endoftext|><|endoftext|><|endoftext|><|endoftext|><|endoftext|><|endoftext|><|endoftext|><|endoftext|><|endoftext|><|endoftext|><|endoftext|><|endoftext|>'"
            ],
            "application/vnd.google.colaboratory.intrinsic+json": {
              "type": "string"
            }
          },
          "metadata": {},
          "execution_count": 85
        }
      ]
    },
    {
      "cell_type": "code",
      "source": [
        "tokenizer.decode(_d['input_ids'] * _d['loss_target_pos_mask'])"
      ],
      "metadata": {
        "colab": {
          "base_uri": "https://localhost:8080/",
          "height": 122
        },
        "id": "zUtzGVkuc4-N",
        "outputId": "f99b27f5-b777-400d-b14e-7a25c7231b76"
      },
      "execution_count": null,
      "outputs": [
        {
          "output_type": "execute_result",
          "data": {
            "text/plain": [
              "'!!!!!!!!!!!!!!!!!!!!!!!!!!!!!!!!!!!!!!!!!!!!!!!!!!!!!!!!!!!!!!!!!!!!!!!!!!!!!!!!!!!\\nA group of people is gathered under a large tree with green leaves. In the center, a man is wearing a colorful shirt with a yellow and red design and a matching headband. He is standing with his hands pressed together in a prayer gesture. Surrounding him are other individuals, some of whom are also wearing headbands. The group appears to be participating in a ceremony or event.<|im_end|>\\n<|endoftext|><|endoftext|><|endoftext|><|endoftext|><|endoftext|><|endoftext|><|endoftext|><|endoftext|><|endoftext|><|endoftext|><|endoftext|><|endoftext|><|endoftext|><|endoftext|><|endoftext|><|endoftext|><|endoftext|><|endoftext|><|endoftext|><|endoftext|><|endoftext|><|endoftext|><|endoftext|><|endoftext|><|endoftext|><|endoftext|><|endoftext|><|endoftext|><|endoftext|><|endoftext|><|endoftext|><|endoftext|><|endoftext|><|endoftext|><|endoftext|><|endoftext|><|endoftext|><|endoftext|><|endoftext|><|endoftext|><|endoftext|><|endoftext|><|endoftext|><|endoftext|><|endoftext|><|endoftext|><|endoftext|><|endoftext|><|endoftext|><|endoftext|><|endoftext|><|endoftext|><|endoftext|><|endoftext|><|endoftext|><|endoftext|><|endoftext|><|endoftext|><|endoftext|><|endoftext|><|endoftext|><|endoftext|><|endoftext|><|endoftext|><|endoftext|><|endoftext|><|endoftext|><|endoftext|><|endoftext|><|endoftext|><|endoftext|><|endoftext|><|endoftext|><|endoftext|><|endoftext|><|endoftext|><|endoftext|><|endoftext|><|endoftext|><|endoftext|><|endoftext|><|endoftext|><|endoftext|><|endoftext|><|endoftext|><|endoftext|><|endoftext|><|endoftext|><|endoftext|><|endoftext|><|endoftext|><|endoftext|><|endoftext|><|endoftext|><|endoftext|><|endoftext|><|endoftext|><|endoftext|><|endoftext|><|endoftext|><|endoftext|><|endoftext|><|endoftext|><|endoftext|><|endoftext|><|endoftext|><|endoftext|><|endoftext|><|endoftext|><|endoftext|><|endoftext|><|endoftext|><|endoftext|><|endoftext|><|endoftext|><|endoftext|>'"
            ],
            "application/vnd.google.colaboratory.intrinsic+json": {
              "type": "string"
            }
          },
          "metadata": {},
          "execution_count": 86
        }
      ]
    },
    {
      "cell_type": "code",
      "source": [],
      "metadata": {
        "id": "7jsTwjgpN9e6"
      },
      "execution_count": null,
      "outputs": []
    },
    {
      "cell_type": "code",
      "source": [
        "hf_dataset_sampled = hf_dataset_sampled.train_test_split(test_size=0.1, shuffle=True)"
      ],
      "metadata": {
        "id": "XU9HcL5MOFp-"
      },
      "execution_count": null,
      "outputs": []
    },
    {
      "cell_type": "code",
      "source": [
        "train_dataloader = torch.utils.data.DataLoader(\n",
        "    hf_dataset_sampled['train'],\n",
        "    shuffle=True,\n",
        "    collate_fn=collate_fn,\n",
        "    batch_size=TRAIN_BATCH_SIZE,\n",
        ")\n",
        "test_dataloader = torch.utils.data.DataLoader(\n",
        "    hf_dataset_sampled['test'],\n",
        "    shuffle=False,\n",
        "    collate_fn=collate_fn,\n",
        "    batch_size=TEST_BATCH_SIZE,\n",
        ")"
      ],
      "metadata": {
        "id": "gC8CFMnmOGOi"
      },
      "execution_count": null,
      "outputs": []
    },
    {
      "cell_type": "code",
      "source": [
        "_batch = next(iter(train_dataloader))"
      ],
      "metadata": {
        "colab": {
          "base_uri": "https://localhost:8080/"
        },
        "id": "MVcVPE6map5k",
        "outputId": "b3d0a695-667c-4d6e-d742-740a2885eec0"
      },
      "execution_count": null,
      "outputs": [
        {
          "output_type": "stream",
          "name": "stdout",
          "text": [
            "tensor([83, 83, 83, 83, 83, 83, 83, 83, 83, 83, 83, 83, 83, 83, 83, 83, 83, 83,\n",
            "        83, 83, 83, 83, 83, 83, 83, 83, 83, 83, 83, 83, 83, 83, 83, 83, 83, 83,\n",
            "        83, 83, 83, 83, 83, 83, 83, 83, 83, 83, 83, 83, 83, 83, 83, 83, 83, 83,\n",
            "        83, 83, 83, 83, 83, 83, 83, 83, 83, 83])\n"
          ]
        }
      ]
    },
    {
      "cell_type": "code",
      "source": [
        "# tokenizer.batch_decode(_batch['input_ids'] * _batch['loss_target_pos_mask'])"
      ],
      "metadata": {
        "id": "fcmCgMCmavHL"
      },
      "execution_count": null,
      "outputs": []
    },
    {
      "cell_type": "code",
      "source": [],
      "metadata": {
        "id": "qVLkFDCzPZma"
      },
      "execution_count": null,
      "outputs": []
    },
    {
      "cell_type": "markdown",
      "source": [
        "## Image Text Interleaved Embedding Utils"
      ],
      "metadata": {
        "id": "yEeKCF4BPsII"
      }
    },
    {
      "cell_type": "code",
      "source": [
        "def convert_to_text_vision_interleaved_emb(\n",
        "    input_ids: torch.LongTensor,\n",
        "    attention_mask: torch.LongTensor,\n",
        "    llm_model: torch.nn.Module,\n",
        "    vision_encoder: torch.nn.Module,\n",
        "    pre_calc_image_emb: torch.FloatTensor = None,\n",
        "    vision_emb_compresser: torch.nn.Module = None,\n",
        "    text_emb_projector: torch.nn.Module = None,\n",
        "    images: torch.FloatTensor = [],\n",
        "    image_token_id: int = IMAGE_TOKEN_ID,\n",
        "    debug: bool = False,\n",
        "    validate_image_emb: bool = True,\n",
        "):\n",
        "    \"\"\"\n",
        "    input_ids: (bs, max_seq_len)\n",
        "    attention_mask: (bs, max_seq_len)\n",
        "    pre_calc_image_emb: (n_images, n_image_tokens_per_image, image_emb_dim)\n",
        "    \"\"\"\n",
        "    if validate_image_emb:\n",
        "        _image_emb = llm_model.model.embed_tokens(torch.tensor([IMAGE_TOKEN_ID]).long().to(input_ids.device))   # (1, text_emb_dim)\n",
        "        # _image_emb = llm_model.embed_tokens(torch.tensor([151644]).long())   # (1, text_emb_dim)\n",
        "    text_embed = llm_model.model.embed_tokens(input_ids)  # (bs, max_seq_len) => (bs, max_seq_len, text_emb_dim)\n",
        "    if text_emb_projector is not None:\n",
        "        text_embed = text_emb_projector(text_embed)  # (bs, max_seq_len, text_emb_dim) => (bs, max_seq_len, text_emb_dim)\n",
        "    if pre_calc_image_emb is not None:\n",
        "        vision_embed = pre_calc_image_emb  # (n_images, n_image_token, image_emb_dim)\n",
        "    else:\n",
        "        vision_embed = vision_encoder(images).last_hidden_state  # (n_images, ch, h, w) => (n_images, n_image_token, image_emb_dim)\n",
        "    if vision_emb_compresser is not None:\n",
        "        vision_embed = vision_emb_compresser(vision_embed)  # (n_images, n_image_token, image_emb_dim) => (n_images, n_image_token_compressed, image_emb_dim)\n",
        "    n_images, n_image_token_compressed_per_image, emb_dim = vision_embed.shape\n",
        "    assert (input_ids == image_token_id).sum() == (n_images * n_image_token_compressed_per_image)\n",
        "    assert text_embed.shape[-1] == vision_embed.shape[-1]  # text_emb_dim == image_emb_dim\n",
        "    bs = input_ids.shape[0]\n",
        "\n",
        "    vision_embed = einops.rearrange(vision_embed, 'ni nt d -> (ni nt) d')  # -> (n_images x n_image_token_compressed_per_image, emb_dim)\n",
        "    text_embed = einops.rearrange(text_embed, 'bs sl d -> (bs sl) d')  # -> (bs x max_seq_len, emb_dim)\n",
        "    image_token_pos_mask = input_ids == image_token_id  # (bs, max_seq_len)\n",
        "    image_token_pos_mask = einops.rearrange(image_token_pos_mask, 'bs sl -> (bs sl)')  # -> (bs x max_seq_len,)\n",
        "    assert vision_embed.shape[0] == image_token_pos_mask.sum()\n",
        "    # print(text_embed.requires_grad, vision_embed.requires_grad)\n",
        "    text_embed[image_token_pos_mask] = vision_embed.to(text_embed.dtype)   # (bs x max_seq_len, emb_dim)\n",
        "    text_vision_emb = einops.rearrange(text_embed, '(bs sl) d -> bs sl d', bs=bs)  # -> (bs, max_seq_len, emb_dim)\n",
        "    image_token_pos_mask = einops.rearrange(image_token_pos_mask, '(bs sl) -> bs sl', bs=bs)  # -> (bs, max_seq_len)\n",
        "    # print(text_vision_emb.requires_grad)\n",
        "\n",
        "    text_vision_mask = attention_mask\n",
        "\n",
        "    if validate_image_emb:\n",
        "        # ensure placeholder image token emb is replaced by actual image emb of vision encoder output\n",
        "        assert not (text_vision_emb == _image_emb.repeat(text_vision_emb.shape[0], text_vision_emb.shape[1], 1)).all(dim=-1).any()\n",
        "    return text_vision_emb, text_vision_mask, image_token_pos_mask\n"
      ],
      "metadata": {
        "id": "NAq9cZcQPw0C"
      },
      "execution_count": null,
      "outputs": []
    },
    {
      "cell_type": "code",
      "source": [],
      "metadata": {
        "id": "rE2l5nt3Px5s"
      },
      "execution_count": null,
      "outputs": []
    },
    {
      "cell_type": "markdown",
      "source": [
        "## Model"
      ],
      "metadata": {
        "id": "G2zQQZaaP1IO"
      }
    },
    {
      "cell_type": "code",
      "source": [
        "def positionalencoding1d(d_model, length, dtype=dtype):\n",
        "    \"\"\"\n",
        "    :param d_model: dimension of the model\n",
        "    :param length: length of positions\n",
        "    :return: length*d_model position matrix\n",
        "    \"\"\"\n",
        "    if d_model % 2 != 0:\n",
        "        raise ValueError(\"Cannot use sin/cos positional encoding with \"\n",
        "                         \"odd dim (got dim={:d})\".format(d_model))\n",
        "    pe = torch.zeros(length, d_model)\n",
        "    position = torch.arange(0, length).unsqueeze(1)\n",
        "    div_term = torch.exp((torch.arange(0, d_model, 2, dtype=torch.float) *\n",
        "                         -(math.log(10000.0) / d_model)))\n",
        "    pe[:, 0::2] = torch.sin(position.float() * div_term)\n",
        "    pe[:, 1::2] = torch.cos(position.float() * div_term)\n",
        "\n",
        "    return pe.to(dtype)"
      ],
      "metadata": {
        "id": "aZq4pgu5U59l"
      },
      "execution_count": null,
      "outputs": []
    },
    {
      "cell_type": "markdown",
      "source": [
        "### Projector"
      ],
      "metadata": {
        "id": "qJ7awHn0P7Bu"
      }
    },
    {
      "cell_type": "code",
      "source": [
        "class TextEmbProjectorMLP(nn.Module):\n",
        "\n",
        "    def __init__(self, in_dim, intermediate_dim=512, out_dim=None, dropout=0.05, bias=True):\n",
        "        super().__init__()\n",
        "        if out_dim is None:\n",
        "            out_dim = in_dim\n",
        "        self._head = nn.Sequential(\n",
        "            nn.Linear(in_dim, intermediate_dim, bias=bias),\n",
        "            nn.Dropout(dropout),\n",
        "            nn.GELU(),\n",
        "            nn.Linear(intermediate_dim, out_dim, bias=bias),\n",
        "        )\n",
        "\n",
        "    def forward(self, x):\n",
        "        return self._head(x)"
      ],
      "metadata": {
        "id": "iQFCBNuSQQGJ"
      },
      "execution_count": null,
      "outputs": []
    },
    {
      "cell_type": "markdown",
      "source": [
        "### Image Emb Compressor"
      ],
      "metadata": {
        "id": "qsxaNS_-P3W_"
      }
    },
    {
      "cell_type": "code",
      "source": [
        "class ImageEmbCompressorCrossAttn(nn.Module):\n",
        "    def __init__(\n",
        "        self,\n",
        "        in_dim: int,\n",
        "        compressed_n_tokens: int,\n",
        "        hidden_size: int = None,\n",
        "        out_dim: int = None,\n",
        "        dropout: float = 0.05,\n",
        "        num_heads: int = 8,\n",
        "        n_max_tokens: int = N_PATCHES_PER_IMAGE,\n",
        "    ):\n",
        "        super().__init__()\n",
        "        if hidden_size is None:\n",
        "            hidden_size = in_dim\n",
        "        self.query_compressed_tokens = nn.Parameter(torch.rand(1, compressed_n_tokens, hidden_size))  # lernable query for compressed tokens\n",
        "        self.x_proj = nn.Linear(in_dim, hidden_size)\n",
        "        self.out_proj = nn.Linear(hidden_size, out_dim) if out_dim is not None and out_dim != hidden_size else nn.Identity\n",
        "        self.act = nn.GELU()\n",
        "        self.dropout = dropout\n",
        "        self.norm = nn.LayerNorm(hidden_size)\n",
        "        self.x_pe = positionalencoding1d(hidden_size, N_PATCHES_PER_IMAGE).unsqueeze(0)\n",
        "        self.num_heads = num_heads\n",
        "\n",
        "    def forward(self, x):\n",
        "        \"\"\"\n",
        "        x: (bs, n_patches(n_tokens), patch_emb_dim)\n",
        "        \"\"\"\n",
        "        # 1. input projection\n",
        "        x_proj = self.act(self.norm(self.x_proj(x)))  # (bs, n_tokens, patch_emb_dim) => (bs, n_tokens, hidden_size)\n",
        "        if self.x_pe is not None:\n",
        "            x_proj = x_proj + self.x_pe[:, :x_proj.shape[1], :x_proj.shape[2]].to(x.device).to(x_proj.dtype)\n",
        "\n",
        "        # 2. compression by cross attention\n",
        "        hidden_size = x_proj.shape[-1]\n",
        "        x_proj = einops.rearrange(x_proj, 'b sl (nh d) -> b nh sl d', nh=self.num_heads, d=hidden_size // self.num_heads)  # (bs, num_heads, n_tokens, hidden_size_head)\n",
        "        query_compressed_tokens = einops.rearrange(self.query_compressed_tokens, 'b sl (nh d) -> b nh sl d', nh=self.num_heads, d=hidden_size // self.num_heads)\n",
        "        compressed = F.scaled_dot_product_attention(\n",
        "            query=query_compressed_tokens.to(x_proj.device).to(x_proj.dtype), key=x_proj, value=x_proj,\n",
        "            dropout_p=self.dropout, is_causal=False\n",
        "        )  # (bs, num_heads, compressed_n_tokens, hidden_size)\n",
        "        compressed = einops.rearrange(compressed, 'b nh sl d -> b sl (nh d)', nh=self.num_heads, d=hidden_size // self.num_heads)  # (bs, compressed_n_tokens, hidden_size)\n",
        "\n",
        "        # 3. output projection\n",
        "        compressed = self.act(self.norm(compressed))  # (bs, compressed_n_tokens, hidden_size)\n",
        "        compressed = self.out_proj(compressed)  # (bs, compressed_n_tokens, out_dim)\n",
        "        return compressed"
      ],
      "metadata": {
        "id": "SQ5iinrhQ90Q"
      },
      "execution_count": null,
      "outputs": []
    },
    {
      "cell_type": "code",
      "source": [],
      "metadata": {
        "id": "BkFc_Kl2V-bE"
      },
      "execution_count": null,
      "outputs": []
    },
    {
      "cell_type": "code",
      "source": [],
      "metadata": {
        "id": "8MLwp27DWbJq"
      },
      "execution_count": null,
      "outputs": []
    },
    {
      "cell_type": "code",
      "source": [
        "# text_emb_projector = TextEmbProjectorMLP(\n",
        "#     in_dim=llm_model.config.hidden_size,\n",
        "#     intermediate_dim=1024,\n",
        "#     out_dim=llm_model.config.hidden_size,\n",
        "# ).to(dtype).to(device)\n",
        "text_emb_projector = None\n",
        "\n",
        "image_emb_compressor = ImageEmbCompressorCrossAttn(\n",
        "    in_dim=vision_encoder.config.hidden_size,\n",
        "    compressed_n_tokens=N_COMPRESSED_PATCHES_PER_IMAGE,\n",
        "    hidden_size=1024,\n",
        "    out_dim=llm_model.config.hidden_size,\n",
        "    dropout=0.0,\n",
        "    num_heads=8,\n",
        ").to(dtype).to(device)\n",
        "# image_emb_compressor = nn.Sequential(\n",
        "#     nn.Linear(vision_encoder.config.hidden_size, llm_model.config.hidden_size),\n",
        "#     nn.GELU(),\n",
        "# ).to(dtype).to(device)\n",
        "\n",
        "vision_encoder = CLIPVisionModel.from_pretrained(\"openai/clip-vit-base-patch32\", torch_dtype=dtype, attn_implementation=\"sdpa\").to(device)\n",
        "llm_model = AutoModelForCausalLM.from_pretrained(\"Qwen/Qwen2.5-0.5B-Instruct-AWQ\" if device == 'cuda' else \"Qwen/Qwen2.5-0.5B-Instruct\", torch_dtype=llm_dtype).to(device)"
      ],
      "metadata": {
        "colab": {
          "base_uri": "https://localhost:8080/"
        },
        "id": "utTqiMyWWbXS",
        "outputId": "0900af7c-71a8-488e-8d3c-79812a051ef8"
      },
      "execution_count": null,
      "outputs": [
        {
          "output_type": "stream",
          "name": "stderr",
          "text": [
            "We suggest you to set `torch_dtype=torch.float16` for better efficiency with AWQ.\n",
            "`low_cpu_mem_usage` was None, now default to True since model is quantized.\n"
          ]
        }
      ]
    },
    {
      "cell_type": "code",
      "source": [
        "llm_model = llm_model.eval().requires_grad_(False)"
      ],
      "metadata": {
        "id": "cXO7FdOS2fbz"
      },
      "execution_count": null,
      "outputs": []
    },
    {
      "cell_type": "code",
      "source": [
        "torch.save(vision_encoder.state_dict(), 'init_vision_encoder.pt')\n",
        "torch.save(image_emb_compressor.state_dict(), 'init_image_emb_compressor.pt')\n",
        "torch.save(llm_model.state_dict(), 'init_llm_model.pt')"
      ],
      "metadata": {
        "id": "7B-1XpXY5YHR"
      },
      "execution_count": null,
      "outputs": []
    },
    {
      "cell_type": "code",
      "source": [
        "# train_models = [text_emb_projector, image_emb_compressor]\n",
        "train_models = [image_emb_compressor, vision_encoder]\n",
        "# train_models = [image_emb_compressor, vision_encoder, llm_model]"
      ],
      "metadata": {
        "id": "b3xzOtEOfvG4"
      },
      "execution_count": null,
      "outputs": []
    },
    {
      "cell_type": "code",
      "source": [],
      "metadata": {
        "id": "5Y7JwuLWXaHN"
      },
      "execution_count": null,
      "outputs": []
    },
    {
      "cell_type": "code",
      "source": [
        "# _text_vison_emb, _text_vison_mask, _vision_pos_mask = convert_to_text_vision_interleaved_emb(\n",
        "#     input_ids=_batch['input_ids'],\n",
        "#     attention_mask=_batch['attention_mask'],\n",
        "#     llm_model=llm_model,\n",
        "#     vision_encoder=vision_encoder,\n",
        "#     pre_calc_image_emb=_batch['image_embs'].to(dtype),\n",
        "#     vision_emb_compresser=image_emb_compressor,\n",
        "#     text_emb_projector=text_emb_projector,\n",
        "#     images=[],\n",
        "#     image_token_id=IMAGE_TOKEN_ID,\n",
        "#     debug=False,\n",
        "# )\n",
        "# print(_text_vison_emb.shape, _text_vison_mask.shape, _vision_pos_mask.shape)\n",
        "\n",
        "# _llm_out = llm_model(\n",
        "#     attention_mask=_text_vison_mask,\n",
        "#     inputs_embeds=_text_vison_emb,\n",
        "# )\n",
        "# print(_llm_out.last_hidden_state.shape)\n"
      ],
      "metadata": {
        "id": "OHxQAO-9Xtan"
      },
      "execution_count": null,
      "outputs": []
    },
    {
      "cell_type": "code",
      "source": [],
      "metadata": {
        "id": "h0Tvh4IYbLN7"
      },
      "execution_count": null,
      "outputs": []
    },
    {
      "cell_type": "code",
      "source": [
        "def batch_to_device(batch: Dict[str, torch.Tensor], device: torch.device) -> Dict[str, torch.Tensor]:\n",
        "    return {k: v.to(device) if isinstance(v, torch.Tensor) else v for k, v in batch.items()}"
      ],
      "metadata": {
        "id": "8OMJFZZBfo4V"
      },
      "execution_count": null,
      "outputs": []
    },
    {
      "cell_type": "code",
      "source": [
        "def get_trainable_params(models):\n",
        "    params = []\n",
        "    for model in models:\n",
        "        params += [p for p in model.parameters() if p.requires_grad]\n",
        "    return params"
      ],
      "metadata": {
        "id": "dExv9avyQXf4"
      },
      "execution_count": null,
      "outputs": []
    },
    {
      "cell_type": "code",
      "source": [
        "optimizer = torch.optim.AdamW(\n",
        "    # nn.ModuleList(train_models).parameters(),\n",
        "    get_trainable_params(train_models),\n",
        "    lr=LR, weight_decay=WEIGHT_DECAY\n",
        ")\n",
        "\n",
        "scheduler = transformers.get_cosine_schedule_with_warmup(\n",
        "    optimizer,\n",
        "    num_warmup_steps=1*len(train_dataloader),\n",
        "    num_training_steps=N_EPOCHS*len(train_dataloader),\n",
        ")\n",
        "\n",
        "scaler = torch.amp.GradScaler(device=device, enabled=USE_AMP)"
      ],
      "metadata": {
        "id": "yAgQezFFedkG"
      },
      "execution_count": null,
      "outputs": []
    },
    {
      "cell_type": "code",
      "source": [],
      "metadata": {
        "id": "OiTpVS05VxS_"
      },
      "execution_count": null,
      "outputs": []
    },
    {
      "cell_type": "code",
      "source": [
        "loss_history = []\n",
        "train_acc_history = []\n",
        "test_acc_history = []\n",
        "\n",
        "for epoch in range(N_EPOCHS):\n",
        "    # Train phase\n",
        "    [m.train() for m in train_models]\n",
        "    epoch_loss = 0.0\n",
        "    pred_labels = []\n",
        "    true_labels = []\n",
        "    metric_target_mask_list = []\n",
        "    for batch in pb(train_dataloader):\n",
        "        batch = batch_to_device(batch, device)\n",
        "        target_labels = batch['input_ids'][:, 1:].clone()  # (bs, seq_len -1)\n",
        "        target_labels[batch['loss_target_pos_mask'][:, :-1] == 0] = -100\n",
        "        optimizer.zero_grad()\n",
        "        with torch.autocast(device_type=device, dtype=AMP_DTYPE, enabled=USE_AMP):\n",
        "            # 1.\n",
        "            text_vison_emb, text_vison_mask, vision_pos_mask = convert_to_text_vision_interleaved_emb(\n",
        "                input_ids=batch['input_ids'],\n",
        "                attention_mask=batch['attention_mask'],\n",
        "                llm_model=llm_model,\n",
        "                vision_encoder=vision_encoder,\n",
        "                pre_calc_image_emb=None if TRAIN_VISION_ENCODER else batch['image_embs'].to(dtype),\n",
        "                vision_emb_compresser=image_emb_compressor,\n",
        "                text_emb_projector=text_emb_projector,\n",
        "                images=batch['pixel_values'] if TRAIN_VISION_ENCODER else [],\n",
        "                image_token_id=IMAGE_TOKEN_ID,\n",
        "                debug=False,\n",
        "            )\n",
        "            # 2.\n",
        "            llm_out = llm_model(\n",
        "                attention_mask=text_vison_mask,\n",
        "                inputs_embeds=text_vison_emb.to(llm_dtype),\n",
        "            )\n",
        "            pred_logits = llm_out.logits.to(dtype)[:, :-1, :]  # (bs, seq_len - 1, vocab_size)\n",
        "            assert pred_logits.shape[:2] == target_labels.shape\n",
        "            loss = torch.nn.functional.cross_entropy(pred_logits.transpose(1, 2).float(), target_labels, ignore_index=-100)\n",
        "            if torch.isnan(loss):\n",
        "                print('loss is nan')\n",
        "                raise Exception()\n",
        "            pred_labels.append(pred_logits.argmax(-1).long().cpu().detach())\n",
        "            true_labels.append(target_labels.cpu().detach())\n",
        "            metric_target_mask_list.append((batch['loss_target_pos_mask'] * batch['attention_mask'])[:, :-1].cpu())\n",
        "        scaler.scale(loss).backward()\n",
        "        scaler.step(optimizer)\n",
        "        # loss.backward()\n",
        "        # optimizer.step()\n",
        "        scaler.update()\n",
        "        scheduler.step()\n",
        "        epoch_loss += loss.cpu().detach()\n",
        "    pred_labels = torch.cat(pred_labels, dim=0)\n",
        "    true_labels = torch.cat(true_labels, dim=0)\n",
        "    metric_target_mask = torch.cat(metric_target_mask_list, dim=0)\n",
        "    # acc = (pred_labels.flatten() == true_labels.flatten()).float().mean()\n",
        "    acc = ((pred_labels == true_labels).long() * metric_target_mask.cpu()).sum() / metric_target_mask.sum()\n",
        "    train_acc_history.append(acc)\n",
        "    loss_history.append(epoch_loss / len(train_dataloader))\n",
        "    print(f'epoch {epoch} : loss {loss_history[-1]} : acc {acc}')\n",
        "\n",
        "    gt_texts = tokenizer.batch_decode(true_labels[:3] * metric_target_mask[:3])\n",
        "    pred_texts = tokenizer.batch_decode(pred_labels[:3] * metric_target_mask[:3])\n",
        "    print('train gt txt', gt_texts)\n",
        "    print('train pred txt', pred_texts)\n",
        "\n",
        "    # Ealuluation Phase\n",
        "    [m.eval() for m in train_models]\n",
        "    pred_labels = []\n",
        "    true_labels = []\n",
        "    metric_target_mask_list = []\n",
        "    with torch.inference_mode():\n",
        "        for batch in pb(test_dataloader):\n",
        "            batch = batch_to_device(batch, device)\n",
        "            target_labels = batch['input_ids'][:, 1:].clone()  # (bs, seq_len -1)\n",
        "            target_labels[batch['loss_target_pos_mask'][:, :-1] == 0] = -100\n",
        "            with torch.autocast(device_type=\"cuda\", dtype=AMP_DTYPE, enabled=USE_AMP):\n",
        "                # 1.\n",
        "                text_vison_emb, text_vison_mask, vision_pos_mask = convert_to_text_vision_interleaved_emb(\n",
        "                    input_ids=batch['input_ids'],\n",
        "                    attention_mask=batch['attention_mask'],\n",
        "                    llm_model=llm_model,\n",
        "                    vision_encoder=vision_encoder,\n",
        "                    pre_calc_image_emb=None if TRAIN_VISION_ENCODER else batch['image_embs'].to(dtype),\n",
        "                    vision_emb_compresser=image_emb_compressor,\n",
        "                    text_emb_projector=text_emb_projector,\n",
        "                    images=batch['pixel_values'] if TRAIN_VISION_ENCODER else [],\n",
        "                    image_token_id=IMAGE_TOKEN_ID,\n",
        "                    debug=False,\n",
        "                )\n",
        "                # 2.\n",
        "                llm_out = llm_model(\n",
        "                    attention_mask=text_vison_mask,\n",
        "                    inputs_embeds=text_vison_emb.to(llm_dtype),\n",
        "                )\n",
        "                pred_logits = llm_out.logits.to(dtype)[:, :-1, :]  # (bs, seq_len -1, vocab_size)\n",
        "                assert pred_logits.shape[:2] == target_labels.shape\n",
        "                loss = torch.nn.functional.cross_entropy(pred_logits.transpose(1, 2).float(), target_labels, ignore_index=-100)\n",
        "                if torch.isnan(loss):\n",
        "                    print('loss is nan')\n",
        "                    raise Exception()\n",
        "                pred_labels.append(pred_logits.argmax(-1).long().cpu().detach())\n",
        "                true_labels.append(target_labels.cpu().detach())\n",
        "                metric_target_mask_list.append((batch['loss_target_pos_mask'] * batch['attention_mask'])[:, :-1].cpu())\n",
        "    pred_labels = torch.cat(pred_labels, dim=0)\n",
        "    true_labels = torch.cat(true_labels, dim=0)\n",
        "    metric_target_mask = torch.cat(metric_target_mask_list, dim=0)\n",
        "    # acc = (pred_labels.flatten() == true_labels.flatten()).float().mean()\n",
        "    acc = ((pred_labels == true_labels).long() * metric_target_mask.cpu()).sum() / metric_target_mask.sum()\n",
        "    test_acc_history.append(acc)\n",
        "    print(f'epoch {epoch} : test acc {test_acc_history[-1]}')\n",
        "\n",
        "    gt_texts = tokenizer.batch_decode(true_labels[:3] * metric_target_mask[:3])\n",
        "    pred_texts = tokenizer.batch_decode(pred_labels[:3] * metric_target_mask[:3])\n",
        "    print('test gt txt', gt_texts)\n",
        "    print('test pred txt', pred_texts)\n",
        "\n",
        "    print(scheduler.get_lr())"
      ],
      "metadata": {
        "colab": {
          "base_uri": "https://localhost:8080/",
          "height": 1000
        },
        "id": "579jnDb4bM6W",
        "outputId": "8a721015-a974-45b5-f15e-2e84fb916fca"
      },
      "execution_count": null,
      "outputs": [
        {
          "output_type": "display_data",
          "data": {
            "text/plain": [
              "<IPython.core.display.HTML object>"
            ],
            "text/html": [
              "\n",
              "<style>\n",
              "    /* Turns off some styling */\n",
              "    progress {\n",
              "        /* gets rid of default border in Firefox and Opera. */\n",
              "        border: none;\n",
              "        /* Needs to be in here for Safari polyfill so background images work as expected. */\n",
              "        background-size: auto;\n",
              "    }\n",
              "    progress:not([value]), progress:not([value])::-webkit-progress-bar {\n",
              "        background: repeating-linear-gradient(45deg, #7e7e7e, #7e7e7e 10px, #5c5c5c 10px, #5c5c5c 20px);\n",
              "    }\n",
              "    .progress-bar-interrupted, .progress-bar-interrupted::-webkit-progress-bar {\n",
              "        background: #F44336;\n",
              "    }\n",
              "</style>\n"
            ]
          },
          "metadata": {}
        },
        {
          "output_type": "display_data",
          "data": {
            "text/plain": [
              "<IPython.core.display.HTML object>"
            ],
            "text/html": [
              "\n",
              "    <div>\n",
              "      <progress value='113' class='' max='113' style='width:300px; height:20px; vertical-align: middle;'></progress>\n",
              "      100.00% [113/113 04:31&lt;00:00]\n",
              "    </div>\n",
              "    "
            ]
          },
          "metadata": {}
        },
        {
          "output_type": "stream",
          "name": "stdout",
          "text": [
            "epoch 0 : loss 12.745174407958984 : acc 0.4722232222557068\n",
            "train gt txt ['!!!!!!!!!!!!!!!!!!!!!!!!!!!!!!!!!!!!!!!!!!!!!!!!!!!!!!!!!!!!!!!!!!!!!!!!!!!!!!!!!!!A pair of blue-handled wire cutters with black grips and a silver cutting mechanism is displayed against a white background.<|im_end|>\\n<|endoftext|>!!!!!!!!!!!!!!!!!!!!!!!!!!!!!!!!!!!!!!!!!!!!!!!!!!!!!!!!!!!!!!!!!!!!!!!!!!!!!!!!!!!!!!!!!!!!!!!!!!!!!!!!!!!!!!!!!!!!!!!!!!!!!!!!!!!!!!!!!!!!!!!!!!!!!!!!!!!!!!!!!!!!!!!!!', '!!!!!!!!!!!!!!!!!!!!!!!!!!!!!!!!!!!!!!!!!!!!!!!!!!!!!!!!!!!!!!!!!!!!!!!!!!!!!!!!!!!A serene beach scene with a clear blue sky, a calm sea, and a sandy shore. There are two thatched-roof huts on stilts near the water, and a wooden pier extends into the sea. Palm trees with lush green leaves are scattered along the beach, and there are several lounge chairs placed on the sand.<|im_end|>\\n<|endoftext|>!!!!!!!!!!!!!!!!!!!!!!!!!!!!!!!!!!!!!!!!!!!!!!!!!!!!!!!!!!!!!!!!!!!!!!!!!!!!!!!!!!!!!!!!!!!!!!!!!!!!!!!!!!!!!!!!!!!!!!!!!!!!!!', \"!!!!!!!!!!!!!!!!!!!!!!!!!!!!!!!!!!!!!!!!!!!!!!!!!!!!!!!!!!!!!!!!!!!!!!!!!!!!!!!!!!!A white sweatshirt with a graphic design on the front. The design features the name 'ROMNEY' in blue with the numbers '08' in red, and the words 'FOR PRESIDENT' below. The sweatshirt has a ribbed collar and cuffs, and is shown against a white background.<|im_end|>\\n<|endoftext|>!!!!!!!!!!!!!!!!!!!!!!!!!!!!!!!!!!!!!!!!!!!!!!!!!!!!!!!!!!!!!!!!!!!!!!!!!!!!!!!!!!!!!!!!!!!!!!!!!!!!!!!!!!!!!!!!!!!!!!!!!!!!!!!!!!!\"]\n",
            "train pred txt ['!!!!!!!!!!!!!!!!!!!!!!!!!!!!!!!!!!!!!!!!!!!!!!!!!!!!!!!!!!!!!!!!!!!!!!!!!!!!!!!!!!!I text of characters andled, polesters, a handles, a pair handle blade. shown. a white background. The\\n<|endoftext|>!!!!!!!!!!!!!!!!!!!!!!!!!!!!!!!!!!!!!!!!!!!!!!!!!!!!!!!!!!!!!!!!!!!!!!!!!!!!!!!!!!!!!!!!!!!!!!!!!!!!!!!!!!!!!!!!!!!!!!!!!!!!!!!!!!!!!!!!!!!!!!!!!!!!!!!!!!!!!!!!!!!!!!!!!', '!!!!!!!!!!!!!!!!!!!!!!!!!!!!!!!!!!!!!!!!!!!!!!!!!!!!!!!!!!!!!!!!!!!!!!!!!!!!!!!!!!!抱歉 text and in, waves gentle blue sky and warm gentle sea, and a group beach. The are several people are cottof cottuts, thets, the water, and a couple bridge in into the water. The trees and colorful green leaves and scattered around the shore, and a are several colorful chairs and along the sand. The\\n<|endoftext|>!!!!!!!!!!!!!!!!!!!!!!!!!!!!!!!!!!!!!!!!!!!!!!!!!!!!!!!!!!!!!!!!!!!!!!!!!!!!!!!!!!!!!!!!!!!!!!!!!!!!!!!!!!!!!!!!!!!!!!!!!!!!!!', '!!!!!!!!!!!!!!!!!!!!!!!!!!!!!!!!!!!!!!!!!!!!!!!!!!!!!!!!!!!!!!!!!!!!!!!!!!!!!!!!!!!The text papershirt is a red design of it front,<|im_end|> graphic is a image \"QA\\' in bold letters a words \\'11\\' in white. and the text \\'ROM SALEIDENT\\' in the The designshirt is a brightbed design, neck, and the slightly in the white background. The\\n<|endoftext|>!!!!!!!!!!!!!!!!!!!!!!!!!!!!!!!!!!!!!!!!!!!!!!!!!!!!!!!!!!!!!!!!!!!!!!!!!!!!!!!!!!!!!!!!!!!!!!!!!!!!!!!!!!!!!!!!!!!!!!!!!!!!!!!!!!!']\n"
          ]
        },
        {
          "output_type": "display_data",
          "data": {
            "text/plain": [
              "<IPython.core.display.HTML object>"
            ],
            "text/html": [
              "\n",
              "<style>\n",
              "    /* Turns off some styling */\n",
              "    progress {\n",
              "        /* gets rid of default border in Firefox and Opera. */\n",
              "        border: none;\n",
              "        /* Needs to be in here for Safari polyfill so background images work as expected. */\n",
              "        background-size: auto;\n",
              "    }\n",
              "    progress:not([value]), progress:not([value])::-webkit-progress-bar {\n",
              "        background: repeating-linear-gradient(45deg, #7e7e7e, #7e7e7e 10px, #5c5c5c 10px, #5c5c5c 20px);\n",
              "    }\n",
              "    .progress-bar-interrupted, .progress-bar-interrupted::-webkit-progress-bar {\n",
              "        background: #F44336;\n",
              "    }\n",
              "</style>\n"
            ]
          },
          "metadata": {}
        },
        {
          "output_type": "display_data",
          "data": {
            "text/plain": [
              "<IPython.core.display.HTML object>"
            ],
            "text/html": [
              "\n",
              "    <div>\n",
              "      <progress value='13' class='' max='13' style='width:300px; height:20px; vertical-align: middle;'></progress>\n",
              "      100.00% [13/13 00:20&lt;00:00]\n",
              "    </div>\n",
              "    "
            ]
          },
          "metadata": {}
        },
        {
          "output_type": "stream",
          "name": "stdout",
          "text": [
            "epoch 0 : test acc 0.4831814467906952\n",
            "test gt txt [\"!!!!!!!!!!!!!!!!!!!!!!!!!!!!!!!!!!!!!!!!!!!!!!!!!!!!!!!!!!!!!!!!!!!!!!!!!!!!!!!!!!!The image features a close-up of a person's face with a surgical mask, likely a doctor, with the text 'Volunteer Spotlight: Dr. Bill McCure' overlaid on top. The text is in a red and white color scheme, with the words 'Volunteer Spotlight' in red and 'Dr. Bill McCure' in white. Below the text, there is a smaller text that reads 'Training the next generation of surgeons in Cuba'. The image has a dark background, and the person's face is illuminated, suggesting a focus on the doctor's identity and the work they are involved in.<|im_end|>\\n<|endoftext|>!!!!!!!!!!!!!!!!!!!!!!!!!!!!!!!!!!!!!!!!!!!!!!!!!!!!!!!!!!!!!!!!!!!!!!\", \"!!!!!!!!!!!!!!!!!!!!!!!!!!!!!!!!!!!!!!!!!!!!!!!!!!!!!!!!!!!!!!!!!!!!!!!!!!!!!!!!!!!A rocket is launching into the sky, with its bright trail of smoke visible against the backdrop of a blue sky with scattered clouds. The rocket's body is elongated and cylindrical, with a pointed tip and a flared base. The sky is dotted with small, round, out-of-focus light spots, possibly from the sun or other light sources.<|im_end|>\\n<|endoftext|>!!!!!!!!!!!!!!!!!!!!!!!!!!!!!!!!!!!!!!!!!!!!!!!!!!!!!!!!!!!!!!!!!!!!!!!!!!!!!!!!!!!!!!!!!!!!!!!!!!!!!!!!!!!!!!!!!!!!!!!!!!!\", '!!!!!!!!!!!!!!!!!!!!!!!!!!!!!!!!!!!!!!!!!!!!!!!!!!!!!!!!!!!!!!!!!!!!!!!!!!!!!!!!!!!A family of three, consisting of a man and two children, is swimming in the ocean. The man is wearing a green mask and snorkel, while the children are wearing pink and green masks, respectively. They are all floating near the surface of the water, surrounded by a clear blue ocean with a mountainous island in the background. The sky is partly cloudy, and the water is calm.<|im_end|>\\n<|endoftext|>!!!!!!!!!!!!!!!!!!!!!!!!!!!!!!!!!!!!!!!!!!!!!!!!!!!!!!!!!!!!!!!!!!!!!!!!!!!!!!!!!!!!!!!!!!!!!!!!!!!!!!!!!!!!!!!!!']\n",
            "test pred txt ['!!!!!!!!!!!!!!!!!!!!!!!!!!!!!!!!!!!!!!!!!!!!!!!!!!!!!!!!!!!!!!!!!!!!!!!!!!!!!!!!!!!描述 text you a vibrant-up of a human\\'s face, a slight mask on indicating indicating medical or wearing their text \"Theunteer for: A. Smith\\'.ull\\'. writtenaid on the. The text describes in a bold font white color scheme, with the doctor \\'Volunteer Spotlight\\' in bold and \\'Dr. Bill McCure\\' in white. The the text, there is a small image \\' reads \\'Vol for future generation of doctors\\' the.\\'<|im_end|> image and a blurred background and and the text in face is blurred by with they medical on the medical\\'s appearance and the medical they do doing in.<|im_end|>\\n<|endoftext|>!!!!!!!!!!!!!!!!!!!!!!!!!!!!!!!!!!!!!!!!!!!!!!!!!!!!!!!!!!!!!!!!!!!!!!', '!!!!!!!!!!!!!!!!!!!!!!!!!!!!!!!!!!!!!!!!!!!!!!!!!!!!!!!!!!!!!!!!!!!!!!!!!!!!!!!!!!!抱歉 text is a from space sky, and its engines yellow of smoke and from the dark of the clear sky. a clouds. The rocket is body is aated and has, with a bright top. a longared tail. The rocket is filled with bright white bright pieces glowing-of-control stars spots, which the the rocket or other nearby sources. The\\n<|endoftext|>!!!!!!!!!!!!!!!!!!!!!!!!!!!!!!!!!!!!!!!!!!!!!!!!!!!!!!!!!!!!!!!!!!!!!!!!!!!!!!!!!!!!!!!!!!!!!!!!!!!!!!!!!!!!!!!!!!!!!!!!!!!', '!!!!!!!!!!!!!!!!!!!!!!!!!!!!!!!!!!!!!!!!!!!!!!!!!!!!!!!!!!!!!!!!!!!!!!!!!!!!!!!!!!!抱歉 text of characters is including of a father, a women, is described in the ocean. The man is wearing a blue shirt, theel, while the two are wearing colorful snork blue snork, respectively. The are all swimming in the water of the water, with by a beautiful blue sky. no gentle range background in the background. The text is a cloudy with and the temperature temperature reflecting and<|im_end|>\\n<|endoftext|>!!!!!!!!!!!!!!!!!!!!!!!!!!!!!!!!!!!!!!!!!!!!!!!!!!!!!!!!!!!!!!!!!!!!!!!!!!!!!!!!!!!!!!!!!!!!!!!!!!!!!!!!!!!!!!!!!']\n",
            "[5e-05]\n"
          ]
        },
        {
          "output_type": "display_data",
          "data": {
            "text/plain": [
              "<IPython.core.display.HTML object>"
            ],
            "text/html": [
              "\n",
              "<style>\n",
              "    /* Turns off some styling */\n",
              "    progress {\n",
              "        /* gets rid of default border in Firefox and Opera. */\n",
              "        border: none;\n",
              "        /* Needs to be in here for Safari polyfill so background images work as expected. */\n",
              "        background-size: auto;\n",
              "    }\n",
              "    progress:not([value]), progress:not([value])::-webkit-progress-bar {\n",
              "        background: repeating-linear-gradient(45deg, #7e7e7e, #7e7e7e 10px, #5c5c5c 10px, #5c5c5c 20px);\n",
              "    }\n",
              "    .progress-bar-interrupted, .progress-bar-interrupted::-webkit-progress-bar {\n",
              "        background: #F44336;\n",
              "    }\n",
              "</style>\n"
            ]
          },
          "metadata": {}
        },
        {
          "output_type": "display_data",
          "data": {
            "text/plain": [
              "<IPython.core.display.HTML object>"
            ],
            "text/html": [
              "\n",
              "    <div>\n",
              "      <progress value='113' class='' max='113' style='width:300px; height:20px; vertical-align: middle;'></progress>\n",
              "      100.00% [113/113 04:29&lt;00:00]\n",
              "    </div>\n",
              "    "
            ]
          },
          "metadata": {}
        },
        {
          "output_type": "stream",
          "name": "stdout",
          "text": [
            "epoch 1 : loss 12.743030548095703 : acc 0.4723857641220093\n",
            "train gt txt ['!!!!!!!!!!!!!!!!!!!!!!!!!!!!!!!!!!!!!!!!!!!!!!!!!!!!!!!!!!!!!!!!!!!!!!!!!!!!!!!!!!!A black leather chair with a high backrest and armrests, featuring a tufted design on the seat cushion and backrest, and wooden legs.<|im_end|>\\n<|endoftext|>!!!!!!!!!!!!!!!!!!!!!!!!!!!!!!!!!!!!!!!!!!!!!!!!!!!!!!!!!!!!!!!!!!!!!!!!!!!!!!!!!!!!!!!!!!!!!!!!!!!!!!!!!!!!!!!!!!!!!!!!!!!!!!!!!!!!!!!!!!!!!!!!!!!!!!!!!!!!!!!!!', '!!!!!!!!!!!!!!!!!!!!!!!!!!!!!!!!!!!!!!!!!!!!!!!!!!!!!!!!!!!!!!!!!!!!!!!!!!!!!!!!!!!A man with short white hair wearing a colorful Hawaiian shirt and glasses is smiling at the camera. He is surrounded by a crowd of people, some of whom are wearing glasses and ties. The man is standing in front of a red carpet, suggesting a formal event or red carpet event.<|im_end|>\\n<|endoftext|>!!!!!!!!!!!!!!!!!!!!!!!!!!!!!!!!!!!!!!!!!!!!!!!!!!!!!!!!!!!!!!!!!!!!!!!!!!!!!!!!!!!!!!!!!!!!!!!!!!!!!!!!!!!!!!!!!!!!!!!!!!!!!!!!!!!!!!!!', '!!!!!!!!!!!!!!!!!!!!!!!!!!!!!!!!!!!!!!!!!!!!!!!!!!!!!!!!!!!!!!!!!!!!!!!!!!!!!!!!!!!A brown leather handbag with a floral pattern and a tassel zipper pull is displayed against a white background.<|im_end|>\\n<|endoftext|>!!!!!!!!!!!!!!!!!!!!!!!!!!!!!!!!!!!!!!!!!!!!!!!!!!!!!!!!!!!!!!!!!!!!!!!!!!!!!!!!!!!!!!!!!!!!!!!!!!!!!!!!!!!!!!!!!!!!!!!!!!!!!!!!!!!!!!!!!!!!!!!!!!!!!!!!!!!!!!!!!!!!!!!!!!!']\n",
            "train pred txt ['!!!!!!!!!!!!!!!!!!!!!!!!!!!!!!!!!!!!!!!!!!!!!!!!!!!!!!!!!!!!!!!!!!!!!!!!!!!!!!!!!!!I text and jacket, a red backrest, arests is a a comfortablefted seat, the seat,, arest cushion is a legs.<|im_end|>\\n<|endoftext|>!!!!!!!!!!!!!!!!!!!!!!!!!!!!!!!!!!!!!!!!!!!!!!!!!!!!!!!!!!!!!!!!!!!!!!!!!!!!!!!!!!!!!!!!!!!!!!!!!!!!!!!!!!!!!!!!!!!!!!!!!!!!!!!!!!!!!!!!!!!!!!!!!!!!!!!!!!!!!!!!!', '!!!!!!!!!!!!!!!!!!!!!!!!!!!!!!!!!!!!!!!!!!!!!!!!!!!!!!!!!!!!!!!!!!!!!!!!!!!!!!!!!!!Sure text named a hair hair and a red shirt shirt is a is standing. the camera.<|im_end|> is standing by a group of people, and of whom are dressed colorful, some, The man is dressed in front of a large car, and a formal event. a carpet event. The\\n<|endoftext|>!!!!!!!!!!!!!!!!!!!!!!!!!!!!!!!!!!!!!!!!!!!!!!!!!!!!!!!!!!!!!!!!!!!!!!!!!!!!!!!!!!!!!!!!!!!!!!!!!!!!!!!!!!!!!!!!!!!!!!!!!!!!!!!!!!!!!!!!', '!!!!!!!!!!!!!!!!!!!!!!!!!!!!!!!!!!!!!!!!!!!!!!!!!!!!!!!!!!!!!!!!!!!!!!!!!!!!!!!!!!!The textie jacketbag, a sleek design, a goldassel closure.. described on the backdrop background. The\\n<|endoftext|>!!!!!!!!!!!!!!!!!!!!!!!!!!!!!!!!!!!!!!!!!!!!!!!!!!!!!!!!!!!!!!!!!!!!!!!!!!!!!!!!!!!!!!!!!!!!!!!!!!!!!!!!!!!!!!!!!!!!!!!!!!!!!!!!!!!!!!!!!!!!!!!!!!!!!!!!!!!!!!!!!!!!!!!!!!!']\n"
          ]
        },
        {
          "output_type": "display_data",
          "data": {
            "text/plain": [
              "<IPython.core.display.HTML object>"
            ],
            "text/html": [
              "\n",
              "<style>\n",
              "    /* Turns off some styling */\n",
              "    progress {\n",
              "        /* gets rid of default border in Firefox and Opera. */\n",
              "        border: none;\n",
              "        /* Needs to be in here for Safari polyfill so background images work as expected. */\n",
              "        background-size: auto;\n",
              "    }\n",
              "    progress:not([value]), progress:not([value])::-webkit-progress-bar {\n",
              "        background: repeating-linear-gradient(45deg, #7e7e7e, #7e7e7e 10px, #5c5c5c 10px, #5c5c5c 20px);\n",
              "    }\n",
              "    .progress-bar-interrupted, .progress-bar-interrupted::-webkit-progress-bar {\n",
              "        background: #F44336;\n",
              "    }\n",
              "</style>\n"
            ]
          },
          "metadata": {}
        },
        {
          "output_type": "display_data",
          "data": {
            "text/plain": [
              "<IPython.core.display.HTML object>"
            ],
            "text/html": [
              "\n",
              "    <div>\n",
              "      <progress value='13' class='' max='13' style='width:300px; height:20px; vertical-align: middle;'></progress>\n",
              "      100.00% [13/13 00:20&lt;00:00]\n",
              "    </div>\n",
              "    "
            ]
          },
          "metadata": {}
        },
        {
          "output_type": "stream",
          "name": "stdout",
          "text": [
            "epoch 1 : test acc 0.48119303584098816\n",
            "test gt txt [\"!!!!!!!!!!!!!!!!!!!!!!!!!!!!!!!!!!!!!!!!!!!!!!!!!!!!!!!!!!!!!!!!!!!!!!!!!!!!!!!!!!!The image features a close-up of a person's face with a surgical mask, likely a doctor, with the text 'Volunteer Spotlight: Dr. Bill McCure' overlaid on top. The text is in a red and white color scheme, with the words 'Volunteer Spotlight' in red and 'Dr. Bill McCure' in white. Below the text, there is a smaller text that reads 'Training the next generation of surgeons in Cuba'. The image has a dark background, and the person's face is illuminated, suggesting a focus on the doctor's identity and the work they are involved in.<|im_end|>\\n<|endoftext|>!!!!!!!!!!!!!!!!!!!!!!!!!!!!!!!!!!!!!!!!!!!!!!!!!!!!!!!!!!!!!!!!!!!!!!\", \"!!!!!!!!!!!!!!!!!!!!!!!!!!!!!!!!!!!!!!!!!!!!!!!!!!!!!!!!!!!!!!!!!!!!!!!!!!!!!!!!!!!A rocket is launching into the sky, with its bright trail of smoke visible against the backdrop of a blue sky with scattered clouds. The rocket's body is elongated and cylindrical, with a pointed tip and a flared base. The sky is dotted with small, round, out-of-focus light spots, possibly from the sun or other light sources.<|im_end|>\\n<|endoftext|>!!!!!!!!!!!!!!!!!!!!!!!!!!!!!!!!!!!!!!!!!!!!!!!!!!!!!!!!!!!!!!!!!!!!!!!!!!!!!!!!!!!!!!!!!!!!!!!!!!!!!!!!!!!!!!!!!!!!!!!!!!!\", '!!!!!!!!!!!!!!!!!!!!!!!!!!!!!!!!!!!!!!!!!!!!!!!!!!!!!!!!!!!!!!!!!!!!!!!!!!!!!!!!!!!A family of three, consisting of a man and two children, is swimming in the ocean. The man is wearing a green mask and snorkel, while the children are wearing pink and green masks, respectively. They are all floating near the surface of the water, surrounded by a clear blue ocean with a mountainous island in the background. The sky is partly cloudy, and the water is calm.<|im_end|>\\n<|endoftext|>!!!!!!!!!!!!!!!!!!!!!!!!!!!!!!!!!!!!!!!!!!!!!!!!!!!!!!!!!!!!!!!!!!!!!!!!!!!!!!!!!!!!!!!!!!!!!!!!!!!!!!!!!!!!!!!!!']\n",
            "test pred txt ['!!!!!!!!!!!!!!!!!!!!!!!!!!!!!!!!!!!!!!!!!!!!!!!!!!!!!!!!!!!!!!!!!!!!!!!!!!!!!!!!!!!描述 text you a vibrant-up of a human\\'s face, a slight mask on indicating used medical or wearing their text \"Theunteer for\\'. A. Smith\\'.ull\\' writtenaid on the. The text describes in a bold font blue color scheme, with the doctor \\'Volunteer Spotlight\\' in bold and \\'Dr. Bill McCure\\' in white. The the text, there is a small image with reads \\'Vol for future generation of doctors\\' the.\\'<|im_end|> image and a blurred background and and the text in face is blurred by suggesting they medical on the medical\\'s appearance and the medical they do doing in.<|im_end|>\\n<|endoftext|>!!!!!!!!!!!!!!!!!!!!!!!!!!!!!!!!!!!!!!!!!!!!!!!!!!!!!!!!!!!!!!!!!!!!!!', '!!!!!!!!!!!!!!!!!!!!!!!!!!!!!!!!!!!!!!!!!!!!!!!!!!!!!!!!!!!!!!!!!!!!!!!!!!!!!!!!!!!抱歉 text is a from space sky, and its engines yellow of smoke and from the sky of the clear sky. a clouds. The rocket is body is aated and has, with a bright top. a longared tail. The rocket is filled with bright white bright pieces glowing-of-control stars spots, which the the rocket or other nearby sources. The\\n<|endoftext|>!!!!!!!!!!!!!!!!!!!!!!!!!!!!!!!!!!!!!!!!!!!!!!!!!!!!!!!!!!!!!!!!!!!!!!!!!!!!!!!!!!!!!!!!!!!!!!!!!!!!!!!!!!!!!!!!!!!!!!!!!!!', '!!!!!!!!!!!!!!!!!!!!!!!!!!!!!!!!!!!!!!!!!!!!!!!!!!!!!!!!!!!!!!!!!!!!!!!!!!!!!!!!!!!抱歉 text of characters is including of a father, a women, is described in the ocean. The man is wearing a red shirt, theel, while the two are wearing colorful snork blue snork, respectively. The are all swimming in the water of the water, with by a beautiful blue sky. no gentle range background in the background. The text is a cloudy with and the temperature temperature calm and<|im_end|>\\n<|endoftext|>!!!!!!!!!!!!!!!!!!!!!!!!!!!!!!!!!!!!!!!!!!!!!!!!!!!!!!!!!!!!!!!!!!!!!!!!!!!!!!!!!!!!!!!!!!!!!!!!!!!!!!!!!!!!!!!!!']\n",
            "[4.9918932703355256e-05]\n"
          ]
        },
        {
          "output_type": "display_data",
          "data": {
            "text/plain": [
              "<IPython.core.display.HTML object>"
            ],
            "text/html": [
              "\n",
              "<style>\n",
              "    /* Turns off some styling */\n",
              "    progress {\n",
              "        /* gets rid of default border in Firefox and Opera. */\n",
              "        border: none;\n",
              "        /* Needs to be in here for Safari polyfill so background images work as expected. */\n",
              "        background-size: auto;\n",
              "    }\n",
              "    progress:not([value]), progress:not([value])::-webkit-progress-bar {\n",
              "        background: repeating-linear-gradient(45deg, #7e7e7e, #7e7e7e 10px, #5c5c5c 10px, #5c5c5c 20px);\n",
              "    }\n",
              "    .progress-bar-interrupted, .progress-bar-interrupted::-webkit-progress-bar {\n",
              "        background: #F44336;\n",
              "    }\n",
              "</style>\n"
            ]
          },
          "metadata": {}
        },
        {
          "output_type": "display_data",
          "data": {
            "text/plain": [
              "<IPython.core.display.HTML object>"
            ],
            "text/html": [
              "\n",
              "    <div>\n",
              "      <progress value='113' class='' max='113' style='width:300px; height:20px; vertical-align: middle;'></progress>\n",
              "      100.00% [113/113 04:29&lt;00:00]\n",
              "    </div>\n",
              "    "
            ]
          },
          "metadata": {}
        },
        {
          "output_type": "stream",
          "name": "stdout",
          "text": [
            "epoch 2 : loss 12.75291633605957 : acc 0.47207874059677124\n",
            "train gt txt [\"!!!!!!!!!!!!!!!!!!!!!!!!!!!!!!!!!!!!!!!!!!!!!!!!!!!!!!!!!!!!!!!!!!!!!!!!!!!!!!!!!!!The cover of the book 'All Saints' by K.D. Miller, featuring an ornate red and black border with intricate designs and a central image of a cross.<|im_end|>\\n<|endoftext|>!!!!!!!!!!!!!!!!!!!!!!!!!!!!!!!!!!!!!!!!!!!!!!!!!!!!!!!!!!!!!!!!!!!!!!!!!!!!!!!!!!!!!!!!!!!!!!!!!!!!!!!!!!!!!!!!!!!!!!!!!!!!!!!!!!!!!!!!!!!!!!!!!!!!!!!!!!!!!!!\", '!!!!!!!!!!!!!!!!!!!!!!!!!!!!!!!!!!!!!!!!!!!!!!!!!!!!!!!!!!!!!!!!!!!!!!!!!!!!!!!!!!!A modern glass pendant light with a clear dome-shaped shade and a metallic finish hangs from a white ceiling. The light is turned on, casting a soft glow and creating a warm ambiance.<|im_end|>\\n<|endoftext|>!!!!!!!!!!!!!!!!!!!!!!!!!!!!!!!!!!!!!!!!!!!!!!!!!!!!!!!!!!!!!!!!!!!!!!!!!!!!!!!!!!!!!!!!!!!!!!!!!!!!!!!!!!!!!!!!!!!!!!!!!!!!!!!!!!!!!!!!!!!!!!!!!!!!!!!!!!!!', '!!!!!!!!!!!!!!!!!!!!!!!!!!!!!!!!!!!!!!!!!!!!!!!!!!!!!!!!!!!!!!!!!!!!!!!!!!!!!!!!!!!A black leather jacket with silver zippers and buttons is displayed on a mannequin. The jacket has a collar, two front pockets with zippers, and a zipper closure down the front. There are also two zipper pockets on the left side of the jacket. The mannequin is wearing a black shirt underneath the jacket.<|im_end|>\\n<|endoftext|>!!!!!!!!!!!!!!!!!!!!!!!!!!!!!!!!!!!!!!!!!!!!!!!!!!!!!!!!!!!!!!!!!!!!!!!!!!!!!!!!!!!!!!!!!!!!!!!!!!!!!!!!!!!!!!!!!!!!!!!!!!!!!!!']\n",
            "train pred txt ['!!!!!!!!!!!!!!!!!!!!!!!!!!!!!!!!!!!!!!!!!!!!!!!!!!!!!!!!!!!!!!!!!!!!!!!!!!!!!!!!!!!对不起 text of the text \"The the\\' is Stephen.. Hall is titled the imageate cover and white background, a details, patterns gold image of a young,<|im_end|>\\n<|endoftext|>!!!!!!!!!!!!!!!!!!!!!!!!!!!!!!!!!!!!!!!!!!!!!!!!!!!!!!!!!!!!!!!!!!!!!!!!!!!!!!!!!!!!!!!!!!!!!!!!!!!!!!!!!!!!!!!!!!!!!!!!!!!!!!!!!!!!!!!!!!!!!!!!!!!!!!!!!!!!!!!', '!!!!!!!!!!!!!!!!!!!!!!!!!!!!!!!!!!!!!!!!!!!!!!!!!!!!!!!!!!!!!!!!!!!!!!!!!!!!!!!!!!!抱歉 text text and with, a sleek glass shape design, a sleek finish. on the high metal. The light is designed on and and a warm, that creating a warm atmosphere. The\\n<|endoftext|>!!!!!!!!!!!!!!!!!!!!!!!!!!!!!!!!!!!!!!!!!!!!!!!!!!!!!!!!!!!!!!!!!!!!!!!!!!!!!!!!!!!!!!!!!!!!!!!!!!!!!!!!!!!!!!!!!!!!!!!!!!!!!!!!!!!!!!!!!!!!!!!!!!!!!!!!!!!!', \"!!!!!!!!!!!!!!!!!!!!!!!!!!!!!!!!!!!!!!!!!!!!!!!!!!!!!!!!!!!!!!!!!!!!!!!!!!!!!!!!!!!The text box suit is a accentsippers and a, described on the woman'squin. The man is a sleek and a buttons pockets, buttonsippers, and a back on. the front. The are two two back pockets on the back side of the jacket. The jacketnequin is wearing a black leather with, jacket, The\\n<|endoftext|>!!!!!!!!!!!!!!!!!!!!!!!!!!!!!!!!!!!!!!!!!!!!!!!!!!!!!!!!!!!!!!!!!!!!!!!!!!!!!!!!!!!!!!!!!!!!!!!!!!!!!!!!!!!!!!!!!!!!!!!!!!!!!!!\"]\n"
          ]
        },
        {
          "output_type": "display_data",
          "data": {
            "text/plain": [
              "<IPython.core.display.HTML object>"
            ],
            "text/html": [
              "\n",
              "<style>\n",
              "    /* Turns off some styling */\n",
              "    progress {\n",
              "        /* gets rid of default border in Firefox and Opera. */\n",
              "        border: none;\n",
              "        /* Needs to be in here for Safari polyfill so background images work as expected. */\n",
              "        background-size: auto;\n",
              "    }\n",
              "    progress:not([value]), progress:not([value])::-webkit-progress-bar {\n",
              "        background: repeating-linear-gradient(45deg, #7e7e7e, #7e7e7e 10px, #5c5c5c 10px, #5c5c5c 20px);\n",
              "    }\n",
              "    .progress-bar-interrupted, .progress-bar-interrupted::-webkit-progress-bar {\n",
              "        background: #F44336;\n",
              "    }\n",
              "</style>\n"
            ]
          },
          "metadata": {}
        },
        {
          "output_type": "display_data",
          "data": {
            "text/plain": [
              "<IPython.core.display.HTML object>"
            ],
            "text/html": [
              "\n",
              "    <div>\n",
              "      <progress value='13' class='' max='13' style='width:300px; height:20px; vertical-align: middle;'></progress>\n",
              "      100.00% [13/13 00:20&lt;00:00]\n",
              "    </div>\n",
              "    "
            ]
          },
          "metadata": {}
        },
        {
          "output_type": "stream",
          "name": "stdout",
          "text": [
            "epoch 2 : test acc 0.482850044965744\n",
            "test gt txt [\"!!!!!!!!!!!!!!!!!!!!!!!!!!!!!!!!!!!!!!!!!!!!!!!!!!!!!!!!!!!!!!!!!!!!!!!!!!!!!!!!!!!The image features a close-up of a person's face with a surgical mask, likely a doctor, with the text 'Volunteer Spotlight: Dr. Bill McCure' overlaid on top. The text is in a red and white color scheme, with the words 'Volunteer Spotlight' in red and 'Dr. Bill McCure' in white. Below the text, there is a smaller text that reads 'Training the next generation of surgeons in Cuba'. The image has a dark background, and the person's face is illuminated, suggesting a focus on the doctor's identity and the work they are involved in.<|im_end|>\\n<|endoftext|>!!!!!!!!!!!!!!!!!!!!!!!!!!!!!!!!!!!!!!!!!!!!!!!!!!!!!!!!!!!!!!!!!!!!!!\", \"!!!!!!!!!!!!!!!!!!!!!!!!!!!!!!!!!!!!!!!!!!!!!!!!!!!!!!!!!!!!!!!!!!!!!!!!!!!!!!!!!!!A rocket is launching into the sky, with its bright trail of smoke visible against the backdrop of a blue sky with scattered clouds. The rocket's body is elongated and cylindrical, with a pointed tip and a flared base. The sky is dotted with small, round, out-of-focus light spots, possibly from the sun or other light sources.<|im_end|>\\n<|endoftext|>!!!!!!!!!!!!!!!!!!!!!!!!!!!!!!!!!!!!!!!!!!!!!!!!!!!!!!!!!!!!!!!!!!!!!!!!!!!!!!!!!!!!!!!!!!!!!!!!!!!!!!!!!!!!!!!!!!!!!!!!!!!\", '!!!!!!!!!!!!!!!!!!!!!!!!!!!!!!!!!!!!!!!!!!!!!!!!!!!!!!!!!!!!!!!!!!!!!!!!!!!!!!!!!!!A family of three, consisting of a man and two children, is swimming in the ocean. The man is wearing a green mask and snorkel, while the children are wearing pink and green masks, respectively. They are all floating near the surface of the water, surrounded by a clear blue ocean with a mountainous island in the background. The sky is partly cloudy, and the water is calm.<|im_end|>\\n<|endoftext|>!!!!!!!!!!!!!!!!!!!!!!!!!!!!!!!!!!!!!!!!!!!!!!!!!!!!!!!!!!!!!!!!!!!!!!!!!!!!!!!!!!!!!!!!!!!!!!!!!!!!!!!!!!!!!!!!!']\n",
            "test pred txt ['!!!!!!!!!!!!!!!!!!!!!!!!!!!!!!!!!!!!!!!!!!!!!!!!!!!!!!!!!!!!!!!!!!!!!!!!!!!!!!!!!!!描述 text you a vibrant-up of a human\\'s face, a slight mask on indicating used medical or nurse their text \"Theunteer for\\'. A. Smith\\'.ull\\' writtenaid on the. The text describes in a bold font white color scheme, with the doctor \\'Volunteer Spotlight\\' in bold and \\'Dr. Bill McCure\\' in white. The the text, there is a small image \\' reads \\'Vol for future generation of doctors\\' the.\\'<|im_end|> image and a blurred background and and the text in face is blurred by suggesting they medical on the medical\\'s appearance and the medical they do doing in.<|im_end|>\\n<|endoftext|>!!!!!!!!!!!!!!!!!!!!!!!!!!!!!!!!!!!!!!!!!!!!!!!!!!!!!!!!!!!!!!!!!!!!!!', '!!!!!!!!!!!!!!!!!!!!!!!!!!!!!!!!!!!!!!!!!!!!!!!!!!!!!!!!!!!!!!!!!!!!!!!!!!!!!!!!!!!抱歉 text is a from space sky, and its engines yellow of smoke and from the sky of the clear sky. a clouds. The rocket is body is aated and has, with a bright top. a longared tail. The rocket is filled with colorful white bright pieces glowing-of-control stars spots, which the the rocket or other nearby sources. The\\n<|endoftext|>!!!!!!!!!!!!!!!!!!!!!!!!!!!!!!!!!!!!!!!!!!!!!!!!!!!!!!!!!!!!!!!!!!!!!!!!!!!!!!!!!!!!!!!!!!!!!!!!!!!!!!!!!!!!!!!!!!!!!!!!!!!', '!!!!!!!!!!!!!!!!!!!!!!!!!!!!!!!!!!!!!!!!!!!!!!!!!!!!!!!!!!!!!!!!!!!!!!!!!!!!!!!!!!!抱歉 text of characters is including of a father, a women, is described in the ocean. The man is wearing a blue shirt, theel, while the two are wearing swim snork blue snork, respectively. The are all swimming in the water of the water, with by a beautiful blue sky. no gentle range background in the background. The text is a cloudy, and the temperature temperature calm and<|im_end|>\\n<|endoftext|>!!!!!!!!!!!!!!!!!!!!!!!!!!!!!!!!!!!!!!!!!!!!!!!!!!!!!!!!!!!!!!!!!!!!!!!!!!!!!!!!!!!!!!!!!!!!!!!!!!!!!!!!!!!!!!!!!']\n",
            "[4.967625656594782e-05]\n"
          ]
        },
        {
          "output_type": "display_data",
          "data": {
            "text/plain": [
              "<IPython.core.display.HTML object>"
            ],
            "text/html": [
              "\n",
              "<style>\n",
              "    /* Turns off some styling */\n",
              "    progress {\n",
              "        /* gets rid of default border in Firefox and Opera. */\n",
              "        border: none;\n",
              "        /* Needs to be in here for Safari polyfill so background images work as expected. */\n",
              "        background-size: auto;\n",
              "    }\n",
              "    progress:not([value]), progress:not([value])::-webkit-progress-bar {\n",
              "        background: repeating-linear-gradient(45deg, #7e7e7e, #7e7e7e 10px, #5c5c5c 10px, #5c5c5c 20px);\n",
              "    }\n",
              "    .progress-bar-interrupted, .progress-bar-interrupted::-webkit-progress-bar {\n",
              "        background: #F44336;\n",
              "    }\n",
              "</style>\n"
            ]
          },
          "metadata": {}
        },
        {
          "output_type": "display_data",
          "data": {
            "text/plain": [
              "<IPython.core.display.HTML object>"
            ],
            "text/html": [
              "\n",
              "    <div>\n",
              "      <progress value='113' class='' max='113' style='width:300px; height:20px; vertical-align: middle;'></progress>\n",
              "      100.00% [113/113 04:29&lt;00:00]\n",
              "    </div>\n",
              "    "
            ]
          },
          "metadata": {}
        },
        {
          "output_type": "stream",
          "name": "stdout",
          "text": [
            "epoch 3 : loss 12.748438835144043 : acc 0.4723496437072754\n",
            "train gt txt [\"!!!!!!!!!!!!!!!!!!!!!!!!!!!!!!!!!!!!!!!!!!!!!!!!!!!!!!!!!!!!!!!!!!!!!!!!!!!!!!!!!!!The first image shows the exterior of a hotel building with a prominent sign that reads 'CANDLEWOOD SUITES'. The building has a beige color with a white trim around the windows and doors. There are multiple windows on each floor, and the hotel appears to have a modern design. The roof is visible, and there are two air conditioning units on the ground near the building. The parking lot is empty, and there are no visible vehicles or people.<|im_end|>\\n<|endoftext|>!!!!!!!!!!!!!!!!!!!!!!!!!!!!!!!!!!!!!!!!!!!!!!!!!!!!!!!!!!!!!!!!!!!!!!!!!!!!!!!!!!!!!!!!!!!!!!!!!!!!!!\", '!!!!!!!!!!!!!!!!!!!!!!!!!!!!!!!!!!!!!!!!!!!!!!!!!!!!!!!!!!!!!!!!!!!!!!!!!!!!!!!!!!!A black and green camouflage hoodie with a hood, front zip, and long sleeves. The hoodie is modeled on a mannequin, and the image is a close-up of the upper body. The camouflage pattern is detailed with shades of green, black, and brown, and the fabric appears to be a thick, textured material.<|im_end|>\\n<|endoftext|>!!!!!!!!!!!!!!!!!!!!!!!!!!!!!!!!!!!!!!!!!!!!!!!!!!!!!!!!!!!!!!!!!!!!!!!!!!!!!!!!!!!!!!!!!!!!!!!!!!!!!!!!!!!!!!!!!!!!!!!!!!!!!!!', \"!!!!!!!!!!!!!!!!!!!!!!!!!!!!!!!!!!!!!!!!!!!!!!!!!!!!!!!!!!!!!!!!!!!!!!!!!!!!!!!!!!!The second image is a children's book illustration titled 'Baby Giggles Tales Part 4'. It features a young boy with dark skin and curly hair, wearing a red, white, and blue tank top and shorts, sitting on the ground with his legs crossed. He is holding a globe in his hands. The background includes a large American flag with 50 stars, and the overall color scheme is blue, red, white, and black. The illustration is detailed and colorful, with a playful and educational theme.<|im_end|>\\n<|endoftext|>!!!!!!!!!!!!!!!!!!!!!!!!!!!!!!!!!!!!!!!!!!!!!!!!!!!!!!!!!!!!!!!!!!!!!!!!!!!!!!!!!!!!!!!!\"]\n",
            "train pred txt ['!!!!!!!!!!!!!!!!!!!!!!!!!!!!!!!!!!!!!!!!!!!!!!!!!!!!!!!!!!!!!!!!!!!!!!!!!!!!!!!!!!!I text sentence describes a text of a house,, a modern entrance. reads \"WelcomeasaST HOTIT\\'. The second is a modern color scheme a white roof, the windows. doors. The are several rooms on the side, and the exterior has to be a modern and with The second of a, and the are some types conditioning units on the roof floor the building. The interior lot is visible, and there are no vehicles signs. signs. The\\n<|endoftext|>!!!!!!!!!!!!!!!!!!!!!!!!!!!!!!!!!!!!!!!!!!!!!!!!!!!!!!!!!!!!!!!!!!!!!!!!!!!!!!!!!!!!!!!!!!!!!!!!!!!!!!', \"!!!!!!!!!!!!!!!!!!!!!!!!!!!!!!!!!!!!!!!!!!!!!!!!!!!!!!!!!!!!!!!!!!!!!!!!!!!!!!!!!!!The text box white striped suit is a red that a and, and back sleeves.<|im_end|> design is made after the black'squin, with the design is a black-up of the eyes body. The design pattern is a and subtle of black and brown, and brown. and the overall is to be a blend, textured fabric. The\\n<|endoftext|>!!!!!!!!!!!!!!!!!!!!!!!!!!!!!!!!!!!!!!!!!!!!!!!!!!!!!!!!!!!!!!!!!!!!!!!!!!!!!!!!!!!!!!!!!!!!!!!!!!!!!!!!!!!!!!!!!!!!!!!!!!!!!!!\", '!!!!!!!!!!!!!!!!!!!!!!!!!!!!!!!!!!!!!!!!!!!!!!!!!!!!!!!!!!!!!!!!!!!!!!!!!!!!!!!!!!!I text paragraph is a picture\\'s drawing titled. \"The Birdsumbles\\'.\\'. 1\\'. The depicts a baby child with a hair and a hair, playing a colorful shirt white, and blue striped top. a. and on a floor with a eyes crossed. The is smiling a baby and his hands and The illustration is a colorful, flag, a1 stars stars, and the illustration design scheme is bright and white, white, and blue. The illustration is simple and realistic, with the playful and energetic tone.<|im_end|>\\n<|endoftext|>!!!!!!!!!!!!!!!!!!!!!!!!!!!!!!!!!!!!!!!!!!!!!!!!!!!!!!!!!!!!!!!!!!!!!!!!!!!!!!!!!!!!!!!!']\n"
          ]
        },
        {
          "output_type": "display_data",
          "data": {
            "text/plain": [
              "<IPython.core.display.HTML object>"
            ],
            "text/html": [
              "\n",
              "<style>\n",
              "    /* Turns off some styling */\n",
              "    progress {\n",
              "        /* gets rid of default border in Firefox and Opera. */\n",
              "        border: none;\n",
              "        /* Needs to be in here for Safari polyfill so background images work as expected. */\n",
              "        background-size: auto;\n",
              "    }\n",
              "    progress:not([value]), progress:not([value])::-webkit-progress-bar {\n",
              "        background: repeating-linear-gradient(45deg, #7e7e7e, #7e7e7e 10px, #5c5c5c 10px, #5c5c5c 20px);\n",
              "    }\n",
              "    .progress-bar-interrupted, .progress-bar-interrupted::-webkit-progress-bar {\n",
              "        background: #F44336;\n",
              "    }\n",
              "</style>\n"
            ]
          },
          "metadata": {}
        },
        {
          "output_type": "display_data",
          "data": {
            "text/plain": [
              "<IPython.core.display.HTML object>"
            ],
            "text/html": [
              "\n",
              "    <div>\n",
              "      <progress value='13' class='' max='13' style='width:300px; height:20px; vertical-align: middle;'></progress>\n",
              "      100.00% [13/13 00:20&lt;00:00]\n",
              "    </div>\n",
              "    "
            ]
          },
          "metadata": {}
        },
        {
          "output_type": "stream",
          "name": "stdout",
          "text": [
            "epoch 3 : test acc 0.482850044965744\n",
            "test gt txt [\"!!!!!!!!!!!!!!!!!!!!!!!!!!!!!!!!!!!!!!!!!!!!!!!!!!!!!!!!!!!!!!!!!!!!!!!!!!!!!!!!!!!The image features a close-up of a person's face with a surgical mask, likely a doctor, with the text 'Volunteer Spotlight: Dr. Bill McCure' overlaid on top. The text is in a red and white color scheme, with the words 'Volunteer Spotlight' in red and 'Dr. Bill McCure' in white. Below the text, there is a smaller text that reads 'Training the next generation of surgeons in Cuba'. The image has a dark background, and the person's face is illuminated, suggesting a focus on the doctor's identity and the work they are involved in.<|im_end|>\\n<|endoftext|>!!!!!!!!!!!!!!!!!!!!!!!!!!!!!!!!!!!!!!!!!!!!!!!!!!!!!!!!!!!!!!!!!!!!!!\", \"!!!!!!!!!!!!!!!!!!!!!!!!!!!!!!!!!!!!!!!!!!!!!!!!!!!!!!!!!!!!!!!!!!!!!!!!!!!!!!!!!!!A rocket is launching into the sky, with its bright trail of smoke visible against the backdrop of a blue sky with scattered clouds. The rocket's body is elongated and cylindrical, with a pointed tip and a flared base. The sky is dotted with small, round, out-of-focus light spots, possibly from the sun or other light sources.<|im_end|>\\n<|endoftext|>!!!!!!!!!!!!!!!!!!!!!!!!!!!!!!!!!!!!!!!!!!!!!!!!!!!!!!!!!!!!!!!!!!!!!!!!!!!!!!!!!!!!!!!!!!!!!!!!!!!!!!!!!!!!!!!!!!!!!!!!!!!\", '!!!!!!!!!!!!!!!!!!!!!!!!!!!!!!!!!!!!!!!!!!!!!!!!!!!!!!!!!!!!!!!!!!!!!!!!!!!!!!!!!!!A family of three, consisting of a man and two children, is swimming in the ocean. The man is wearing a green mask and snorkel, while the children are wearing pink and green masks, respectively. They are all floating near the surface of the water, surrounded by a clear blue ocean with a mountainous island in the background. The sky is partly cloudy, and the water is calm.<|im_end|>\\n<|endoftext|>!!!!!!!!!!!!!!!!!!!!!!!!!!!!!!!!!!!!!!!!!!!!!!!!!!!!!!!!!!!!!!!!!!!!!!!!!!!!!!!!!!!!!!!!!!!!!!!!!!!!!!!!!!!!!!!!!']\n",
            "test pred txt ['!!!!!!!!!!!!!!!!!!!!!!!!!!!!!!!!!!!!!!!!!!!!!!!!!!!!!!!!!!!!!!!!!!!!!!!!!!!!!!!!!!!描述 text you a vibrant-up of a human\\'s face, a slight mask on indicating wearing medical or wearing their text \"Theunteer for: A. Smith\\'.ull\\' writtenaid on the. The text describes in a bold font white color scheme, with the doctor \"Volunteer Spotlight\\' in bold and \\'Dr. Bill McCure\\' in white. The the text, there is a small image \\' reads \\'Vol for future generation of doctors\\' the.\\'<|im_end|> image and a blurred background and and the text in face is blurred by with that medical on the medical\\'s appearance and the medical they do doing in.<|im_end|>\\n<|endoftext|>!!!!!!!!!!!!!!!!!!!!!!!!!!!!!!!!!!!!!!!!!!!!!!!!!!!!!!!!!!!!!!!!!!!!!!', '!!!!!!!!!!!!!!!!!!!!!!!!!!!!!!!!!!!!!!!!!!!!!!!!!!!!!!!!!!!!!!!!!!!!!!!!!!!!!!!!!!!抱歉 text is a from space sky, and its engines yellow of smoke and from the dark of the clear sky. a clouds. The rocket is body is aated and has, with a bright top. a longared tail. The rocket is filled with bright white bright pieces glowing-of-control stars spots, which the the rocket or other nearby sources. The\\n<|endoftext|>!!!!!!!!!!!!!!!!!!!!!!!!!!!!!!!!!!!!!!!!!!!!!!!!!!!!!!!!!!!!!!!!!!!!!!!!!!!!!!!!!!!!!!!!!!!!!!!!!!!!!!!!!!!!!!!!!!!!!!!!!!!', '!!!!!!!!!!!!!!!!!!!!!!!!!!!!!!!!!!!!!!!!!!!!!!!!!!!!!!!!!!!!!!!!!!!!!!!!!!!!!!!!!!!抱歉 text of characters is including of a father, a women, is described in the ocean. The man is wearing a red shirt, theel, while the two are wearing swim snork blue snork, respectively. The are all swimming in the water of the water, with by a beautiful blue sky. no gentle range background in the background. The text is a cloudy, and the temperature temperature calm and<|im_end|>\\n<|endoftext|>!!!!!!!!!!!!!!!!!!!!!!!!!!!!!!!!!!!!!!!!!!!!!!!!!!!!!!!!!!!!!!!!!!!!!!!!!!!!!!!!!!!!!!!!!!!!!!!!!!!!!!!!!!!!!!!!!']\n",
            "[4.92735454356513e-05]\n"
          ]
        },
        {
          "output_type": "display_data",
          "data": {
            "text/plain": [
              "<IPython.core.display.HTML object>"
            ],
            "text/html": [
              "\n",
              "<style>\n",
              "    /* Turns off some styling */\n",
              "    progress {\n",
              "        /* gets rid of default border in Firefox and Opera. */\n",
              "        border: none;\n",
              "        /* Needs to be in here for Safari polyfill so background images work as expected. */\n",
              "        background-size: auto;\n",
              "    }\n",
              "    progress:not([value]), progress:not([value])::-webkit-progress-bar {\n",
              "        background: repeating-linear-gradient(45deg, #7e7e7e, #7e7e7e 10px, #5c5c5c 10px, #5c5c5c 20px);\n",
              "    }\n",
              "    .progress-bar-interrupted, .progress-bar-interrupted::-webkit-progress-bar {\n",
              "        background: #F44336;\n",
              "    }\n",
              "</style>\n"
            ]
          },
          "metadata": {}
        },
        {
          "output_type": "display_data",
          "data": {
            "text/plain": [
              "<IPython.core.display.HTML object>"
            ],
            "text/html": [
              "\n",
              "    <div>\n",
              "      <progress value='113' class='' max='113' style='width:300px; height:20px; vertical-align: middle;'></progress>\n",
              "      100.00% [113/113 04:28&lt;00:00]\n",
              "    </div>\n",
              "    "
            ]
          },
          "metadata": {}
        },
        {
          "output_type": "stream",
          "name": "stdout",
          "text": [
            "epoch 4 : loss 12.751080513000488 : acc 0.4722232222557068\n",
            "train gt txt ['!!!!!!!!!!!!!!!!!!!!!!!!!!!!!!!!!!!!!!!!!!!!!!!!!!!!!!!!!!!!!!!!!!!!!!!!!!!!!!!!!!!A pair of pink sneakers with a glowing neon light effect on the soles and a black strap with a silver buckle on the left shoe.<|im_end|>\\n<|endoftext|>!!!!!!!!!!!!!!!!!!!!!!!!!!!!!!!!!!!!!!!!!!!!!!!!!!!!!!!!!!!!!!!!!!!!!!!!!!!!!!!!!!!!!!!!!!!!!!!!!!!!!!!!!!!!!!!!!!!!!!!!!!!!!!!!!!!!!!!!!!!!!!!!!!!!!!!!!!!!!!!!!!!!!', '!!!!!!!!!!!!!!!!!!!!!!!!!!!!!!!!!!!!!!!!!!!!!!!!!!!!!!!!!!!!!!!!!!!!!!!!!!!!!!!!!!!A whimsical castle with multiple spires and turrets, surrounded by a lush landscape with trees and bushes. The castle is adorned with intricate architectural details and features a prominent clock tower. In the foreground, there are two street lamps and a small wooden bridge leading to the castle. The sky is overcast with a mix of clouds and a hint of blue.<|im_end|>\\n<|endoftext|>!!!!!!!!!!!!!!!!!!!!!!!!!!!!!!!!!!!!!!!!!!!!!!!!!!!!!!!!!!!!!!!!!!!!!!!!!!!!!!!!!!!!!!!!!!!!!!!!!!!!!!!!!!!!!!!!!!!!!!!!!', \"!!!!!!!!!!!!!!!!!!!!!!!!!!!!!!!!!!!!!!!!!!!!!!!!!!!!!!!!!!!!!!!!!!!!!!!!!!!!!!!!!!!A silver-colored wicker basket with a circular pattern is displayed against a white background. Above the basket, there is a circular label with a white border and the text '10 x 3' in black, followed by the word 'HOOP' in black. The label has a golden outline.<|im_end|>\\n<|endoftext|>!!!!!!!!!!!!!!!!!!!!!!!!!!!!!!!!!!!!!!!!!!!!!!!!!!!!!!!!!!!!!!!!!!!!!!!!!!!!!!!!!!!!!!!!!!!!!!!!!!!!!!!!!!!!!!!!!!!!!!!!!!!!!!!!!!!!\"]\n",
            "train pred txt ['!!!!!!!!!!!!!!!!!!!!!!!!!!!!!!!!!!!!!!!!!!!!!!!!!!!!!!!!!!!!!!!!!!!!!!!!!!!!!!!!!!!I text of texty. a bright red red.. the frontles. a sleek leather. a sleek color. the heel side.<|im_end|>\\n<|endoftext|>!!!!!!!!!!!!!!!!!!!!!!!!!!!!!!!!!!!!!!!!!!!!!!!!!!!!!!!!!!!!!!!!!!!!!!!!!!!!!!!!!!!!!!!!!!!!!!!!!!!!!!!!!!!!!!!!!!!!!!!!!!!!!!!!!!!!!!!!!!!!!!!!!!!!!!!!!!!!!!!!!!!!!', '!!!!!!!!!!!!!!!!!!!!!!!!!!!!!!!!!!!!!!!!!!!!!!!!!!!!!!!!!!!!!!!!!!!!!!!!!!!!!!!!!!!抱歉 textical,, a layersires, aurrets, the by a dense forest of trees and flowers. The castle is a with intricate car details and orn a grand tower tower that The the distance, a is two towers lamps, a small bridge bridge. to the castle. The castle is acast with a few of clouds and rain hint of rain, The\\n<|endoftext|>!!!!!!!!!!!!!!!!!!!!!!!!!!!!!!!!!!!!!!!!!!!!!!!!!!!!!!!!!!!!!!!!!!!!!!!!!!!!!!!!!!!!!!!!!!!!!!!!!!!!!!!!!!!!!!!!!!!!!!!!!', '!!!!!!!!!!!!!!!!!!!!!!!!!!!!!!!!!!!!!!!!!!!!!!!!!!!!!!!!!!!!!!!!!!!!!!!!!!!!!!!!!!!I text dollar,isp basket, a woven opening of described on the white background. The the basket, a is a small pattern with the text background, a text \"Silver00 10 written a letters indicating by \\' text \\'SilverPE\\'. in white. Below basket is a white color and Below\\n<|endoftext|>!!!!!!!!!!!!!!!!!!!!!!!!!!!!!!!!!!!!!!!!!!!!!!!!!!!!!!!!!!!!!!!!!!!!!!!!!!!!!!!!!!!!!!!!!!!!!!!!!!!!!!!!!!!!!!!!!!!!!!!!!!!!!!!!!!!!']\n"
          ]
        },
        {
          "output_type": "display_data",
          "data": {
            "text/plain": [
              "<IPython.core.display.HTML object>"
            ],
            "text/html": [
              "\n",
              "<style>\n",
              "    /* Turns off some styling */\n",
              "    progress {\n",
              "        /* gets rid of default border in Firefox and Opera. */\n",
              "        border: none;\n",
              "        /* Needs to be in here for Safari polyfill so background images work as expected. */\n",
              "        background-size: auto;\n",
              "    }\n",
              "    progress:not([value]), progress:not([value])::-webkit-progress-bar {\n",
              "        background: repeating-linear-gradient(45deg, #7e7e7e, #7e7e7e 10px, #5c5c5c 10px, #5c5c5c 20px);\n",
              "    }\n",
              "    .progress-bar-interrupted, .progress-bar-interrupted::-webkit-progress-bar {\n",
              "        background: #F44336;\n",
              "    }\n",
              "</style>\n"
            ]
          },
          "metadata": {}
        },
        {
          "output_type": "display_data",
          "data": {
            "text/plain": [
              "<IPython.core.display.HTML object>"
            ],
            "text/html": [
              "\n",
              "    <div>\n",
              "      <progress value='13' class='' max='13' style='width:300px; height:20px; vertical-align: middle;'></progress>\n",
              "      100.00% [13/13 00:20&lt;00:00]\n",
              "    </div>\n",
              "    "
            ]
          },
          "metadata": {}
        },
        {
          "output_type": "stream",
          "name": "stdout",
          "text": [
            "epoch 4 : test acc 0.48268434405326843\n",
            "test gt txt [\"!!!!!!!!!!!!!!!!!!!!!!!!!!!!!!!!!!!!!!!!!!!!!!!!!!!!!!!!!!!!!!!!!!!!!!!!!!!!!!!!!!!The image features a close-up of a person's face with a surgical mask, likely a doctor, with the text 'Volunteer Spotlight: Dr. Bill McCure' overlaid on top. The text is in a red and white color scheme, with the words 'Volunteer Spotlight' in red and 'Dr. Bill McCure' in white. Below the text, there is a smaller text that reads 'Training the next generation of surgeons in Cuba'. The image has a dark background, and the person's face is illuminated, suggesting a focus on the doctor's identity and the work they are involved in.<|im_end|>\\n<|endoftext|>!!!!!!!!!!!!!!!!!!!!!!!!!!!!!!!!!!!!!!!!!!!!!!!!!!!!!!!!!!!!!!!!!!!!!!\", \"!!!!!!!!!!!!!!!!!!!!!!!!!!!!!!!!!!!!!!!!!!!!!!!!!!!!!!!!!!!!!!!!!!!!!!!!!!!!!!!!!!!A rocket is launching into the sky, with its bright trail of smoke visible against the backdrop of a blue sky with scattered clouds. The rocket's body is elongated and cylindrical, with a pointed tip and a flared base. The sky is dotted with small, round, out-of-focus light spots, possibly from the sun or other light sources.<|im_end|>\\n<|endoftext|>!!!!!!!!!!!!!!!!!!!!!!!!!!!!!!!!!!!!!!!!!!!!!!!!!!!!!!!!!!!!!!!!!!!!!!!!!!!!!!!!!!!!!!!!!!!!!!!!!!!!!!!!!!!!!!!!!!!!!!!!!!!\", '!!!!!!!!!!!!!!!!!!!!!!!!!!!!!!!!!!!!!!!!!!!!!!!!!!!!!!!!!!!!!!!!!!!!!!!!!!!!!!!!!!!A family of three, consisting of a man and two children, is swimming in the ocean. The man is wearing a green mask and snorkel, while the children are wearing pink and green masks, respectively. They are all floating near the surface of the water, surrounded by a clear blue ocean with a mountainous island in the background. The sky is partly cloudy, and the water is calm.<|im_end|>\\n<|endoftext|>!!!!!!!!!!!!!!!!!!!!!!!!!!!!!!!!!!!!!!!!!!!!!!!!!!!!!!!!!!!!!!!!!!!!!!!!!!!!!!!!!!!!!!!!!!!!!!!!!!!!!!!!!!!!!!!!!']\n",
            "test pred txt ['!!!!!!!!!!!!!!!!!!!!!!!!!!!!!!!!!!!!!!!!!!!!!!!!!!!!!!!!!!!!!!!!!!!!!!!!!!!!!!!!!!!描述 text you a vibrant-up of a human\\'s face, a slight mask on indicating used medical or nurse their text \"Theunteer for: A. Smith\\'.ull\\' writtenaid on the. The text describes in a bold font white color scheme, with the doctor \"Volunteer Spotlight\\' in bold and \\'Dr. Bill McCure\\' in white. The the text, there is a small image \\' reads \\'Vol for future generation of doctors\\' the.\\'<|im_end|> image and a blurred background and and the text in face is blurred by suggesting that medical on the medical\\'s appearance and the medical they do doing in.<|im_end|>\\n<|endoftext|>!!!!!!!!!!!!!!!!!!!!!!!!!!!!!!!!!!!!!!!!!!!!!!!!!!!!!!!!!!!!!!!!!!!!!!', '!!!!!!!!!!!!!!!!!!!!!!!!!!!!!!!!!!!!!!!!!!!!!!!!!!!!!!!!!!!!!!!!!!!!!!!!!!!!!!!!!!!抱歉 text is a from space sky, its its engines yellow of smoke and from the dark of the clear sky. a clouds. The rocket is body is aated and has, with a bright top. a longared tail. The rocket is filled with bright white bright pieces bright-of-control stars spots, which the the rocket or other nearby sources. The\\n<|endoftext|>!!!!!!!!!!!!!!!!!!!!!!!!!!!!!!!!!!!!!!!!!!!!!!!!!!!!!!!!!!!!!!!!!!!!!!!!!!!!!!!!!!!!!!!!!!!!!!!!!!!!!!!!!!!!!!!!!!!!!!!!!!!', '!!!!!!!!!!!!!!!!!!!!!!!!!!!!!!!!!!!!!!!!!!!!!!!!!!!!!!!!!!!!!!!!!!!!!!!!!!!!!!!!!!!抱歉 text of characters is including of a father, a women, is described in the ocean. The man is wearing a red shirt, theel, while the two are wearing colorful snork blue snork, respectively. The are all swimming in the water of the water, with by a beautiful blue sky. no gentle range background in the background. The text is a cloudy, and the temperature temperature calm and<|im_end|>\\n<|endoftext|>!!!!!!!!!!!!!!!!!!!!!!!!!!!!!!!!!!!!!!!!!!!!!!!!!!!!!!!!!!!!!!!!!!!!!!!!!!!!!!!!!!!!!!!!!!!!!!!!!!!!!!!!!!!!!!!!!']\n",
            "[4.8713411048678635e-05]\n"
          ]
        },
        {
          "output_type": "display_data",
          "data": {
            "text/plain": [
              "<IPython.core.display.HTML object>"
            ],
            "text/html": [
              "\n",
              "<style>\n",
              "    /* Turns off some styling */\n",
              "    progress {\n",
              "        /* gets rid of default border in Firefox and Opera. */\n",
              "        border: none;\n",
              "        /* Needs to be in here for Safari polyfill so background images work as expected. */\n",
              "        background-size: auto;\n",
              "    }\n",
              "    progress:not([value]), progress:not([value])::-webkit-progress-bar {\n",
              "        background: repeating-linear-gradient(45deg, #7e7e7e, #7e7e7e 10px, #5c5c5c 10px, #5c5c5c 20px);\n",
              "    }\n",
              "    .progress-bar-interrupted, .progress-bar-interrupted::-webkit-progress-bar {\n",
              "        background: #F44336;\n",
              "    }\n",
              "</style>\n"
            ]
          },
          "metadata": {}
        },
        {
          "output_type": "display_data",
          "data": {
            "text/plain": [
              "<IPython.core.display.HTML object>"
            ],
            "text/html": [
              "\n",
              "    <div>\n",
              "      <progress value='113' class='' max='113' style='width:300px; height:20px; vertical-align: middle;'></progress>\n",
              "      100.00% [113/113 04:29&lt;00:00]\n",
              "    </div>\n",
              "    "
            ]
          },
          "metadata": {}
        },
        {
          "output_type": "stream",
          "name": "stdout",
          "text": [
            "epoch 5 : loss 12.743829727172852 : acc 0.47188007831573486\n",
            "train gt txt [\"!!!!!!!!!!!!!!!!!!!!!!!!!!!!!!!!!!!!!!!!!!!!!!!!!!!!!!!!!!!!!!!!!!!!!!!!!!!!!!!!!!!The second image is a close-up of the word 'CONSTRUCT' from the first image. The word is in the same white font with a shadow effect, but now it is centered on a solid pink background. The image is cropped tightly around the word, with no other elements visible.<|im_end|>\\n<|endoftext|>!!!!!!!!!!!!!!!!!!!!!!!!!!!!!!!!!!!!!!!!!!!!!!!!!!!!!!!!!!!!!!!!!!!!!!!!!!!!!!!!!!!!!!!!!!!!!!!!!!!!!!!!!!!!!!!!!!!!!!!!!!!!!!!!!!!!!!!\", \"!!!!!!!!!!!!!!!!!!!!!!!!!!!!!!!!!!!!!!!!!!!!!!!!!!!!!!!!!!!!!!!!!!!!!!!!!!!!!!!!!!!A red toy truck with a white stripe is displayed in a white box with a red and white checkered pattern on the bottom. The box has a label with the text 'Soribo' and a logo above it. The truck has a detailed design with a cab, a trailer, and wheels.<|im_end|>\\n<|endoftext|>!!!!!!!!!!!!!!!!!!!!!!!!!!!!!!!!!!!!!!!!!!!!!!!!!!!!!!!!!!!!!!!!!!!!!!!!!!!!!!!!!!!!!!!!!!!!!!!!!!!!!!!!!!!!!!!!!!!!!!!!!!!!!!!!!!!!\", \"!!!!!!!!!!!!!!!!!!!!!!!!!!!!!!!!!!!!!!!!!!!!!!!!!!!!!!!!!!!!!!!!!!!!!!!!!!!!!!!!!!!A colorful illustration of a jellyfish is displayed on the cover of an educational book titled 'Jellyfish: Australia'. The book is part of the 'Adventures in Interactive Unit Studies' series, which aims to provide everyday exploring and extraordinary learning experiences. The cover features a prominent jellyfish with a large, open bell and long, flowing tentacles. The background is a gradient of blue tones, and the title and series information are prominently displayed at the bottom.<|im_end|>\\n<|endoftext|>!!!!!!!!!!!!!!!!!!!!!!!!!!!!!!!!!!!!!!!!!!!!!!!!!!!!!!!!!!!!!!!!!!!!!!!!!!!!!!!!!!!!!!!!!!!!!!!!!!!\"]\n",
            "train pred txt ['!!!!!!!!!!!!!!!!!!!!!!!!!!!!!!!!!!!!!!!!!!!!!!!!!!!!!!!!!!!!!!!!!!!!!!!!!!!!!!!!!!!As text paragraph is a description-up of a text \"textSOLE\\'. in the text image.<|im_end|> text \\' written the middle font space style a blacked. and the the has in on the white white background. The word is slightly to to the word, and the white text overlapping.<|im_end|>\\n<|endoftext|>!!!!!!!!!!!!!!!!!!!!!!!!!!!!!!!!!!!!!!!!!!!!!!!!!!!!!!!!!!!!!!!!!!!!!!!!!!!!!!!!!!!!!!!!!!!!!!!!!!!!!!!!!!!!!!!!!!!!!!!!!!!!!!!!!!!!!!!', '!!!!!!!!!!!!!!!!!!!!!!!!!!!!!!!!!!!!!!!!!!!!!!!!!!!!!!!!!!!!!!!!!!!!!!!!!!!!!!!!!!!I text fox car with a red nose on driving on the toy background. a red stripe white stripeered pattern. the back.<|im_end|> toy is a red with the text \"Redcories\\' and a price of the.<|im_end|> toy is a red picture of a red, a red, and a.<|im_end|>\\n<|endoftext|>!!!!!!!!!!!!!!!!!!!!!!!!!!!!!!!!!!!!!!!!!!!!!!!!!!!!!!!!!!!!!!!!!!!!!!!!!!!!!!!!!!!!!!!!!!!!!!!!!!!!!!!!!!!!!!!!!!!!!!!!!!!!!!!!!!!!', '!!!!!!!!!!!!!!!!!!!!!!!!!!!!!!!!!!!!!!!!!!!!!!!!!!!!!!!!!!!!!!!!!!!!!!!!!!!!!!!!!!!描述 text and of a beautifulfish, described on the screen of this online text. \"Theellyfish: A\\'s The jelly is designed of a \\'Jventures in the Art\\'\\' series, which aims to provide a activities opportunities learning learning opportunities for The jelly features a vibrant jellyfish, a vibrant, colorful mouth, a tent slender tentacles. The jelly of a vibrant of colors and, with the text \\' subtitle name are displayed displayed in the top of The\\n<|endoftext|>!!!!!!!!!!!!!!!!!!!!!!!!!!!!!!!!!!!!!!!!!!!!!!!!!!!!!!!!!!!!!!!!!!!!!!!!!!!!!!!!!!!!!!!!!!!!!!!!!!!']\n"
          ]
        },
        {
          "output_type": "display_data",
          "data": {
            "text/plain": [
              "<IPython.core.display.HTML object>"
            ],
            "text/html": [
              "\n",
              "<style>\n",
              "    /* Turns off some styling */\n",
              "    progress {\n",
              "        /* gets rid of default border in Firefox and Opera. */\n",
              "        border: none;\n",
              "        /* Needs to be in here for Safari polyfill so background images work as expected. */\n",
              "        background-size: auto;\n",
              "    }\n",
              "    progress:not([value]), progress:not([value])::-webkit-progress-bar {\n",
              "        background: repeating-linear-gradient(45deg, #7e7e7e, #7e7e7e 10px, #5c5c5c 10px, #5c5c5c 20px);\n",
              "    }\n",
              "    .progress-bar-interrupted, .progress-bar-interrupted::-webkit-progress-bar {\n",
              "        background: #F44336;\n",
              "    }\n",
              "</style>\n"
            ]
          },
          "metadata": {}
        },
        {
          "output_type": "display_data",
          "data": {
            "text/plain": [
              "<IPython.core.display.HTML object>"
            ],
            "text/html": [
              "\n",
              "    <div>\n",
              "      <progress value='13' class='' max='13' style='width:300px; height:20px; vertical-align: middle;'></progress>\n",
              "      100.00% [13/13 00:20&lt;00:00]\n",
              "    </div>\n",
              "    "
            ]
          },
          "metadata": {}
        },
        {
          "output_type": "stream",
          "name": "stdout",
          "text": [
            "epoch 5 : test acc 0.485501229763031\n",
            "test gt txt [\"!!!!!!!!!!!!!!!!!!!!!!!!!!!!!!!!!!!!!!!!!!!!!!!!!!!!!!!!!!!!!!!!!!!!!!!!!!!!!!!!!!!The image features a close-up of a person's face with a surgical mask, likely a doctor, with the text 'Volunteer Spotlight: Dr. Bill McCure' overlaid on top. The text is in a red and white color scheme, with the words 'Volunteer Spotlight' in red and 'Dr. Bill McCure' in white. Below the text, there is a smaller text that reads 'Training the next generation of surgeons in Cuba'. The image has a dark background, and the person's face is illuminated, suggesting a focus on the doctor's identity and the work they are involved in.<|im_end|>\\n<|endoftext|>!!!!!!!!!!!!!!!!!!!!!!!!!!!!!!!!!!!!!!!!!!!!!!!!!!!!!!!!!!!!!!!!!!!!!!\", \"!!!!!!!!!!!!!!!!!!!!!!!!!!!!!!!!!!!!!!!!!!!!!!!!!!!!!!!!!!!!!!!!!!!!!!!!!!!!!!!!!!!A rocket is launching into the sky, with its bright trail of smoke visible against the backdrop of a blue sky with scattered clouds. The rocket's body is elongated and cylindrical, with a pointed tip and a flared base. The sky is dotted with small, round, out-of-focus light spots, possibly from the sun or other light sources.<|im_end|>\\n<|endoftext|>!!!!!!!!!!!!!!!!!!!!!!!!!!!!!!!!!!!!!!!!!!!!!!!!!!!!!!!!!!!!!!!!!!!!!!!!!!!!!!!!!!!!!!!!!!!!!!!!!!!!!!!!!!!!!!!!!!!!!!!!!!!\", '!!!!!!!!!!!!!!!!!!!!!!!!!!!!!!!!!!!!!!!!!!!!!!!!!!!!!!!!!!!!!!!!!!!!!!!!!!!!!!!!!!!A family of three, consisting of a man and two children, is swimming in the ocean. The man is wearing a green mask and snorkel, while the children are wearing pink and green masks, respectively. They are all floating near the surface of the water, surrounded by a clear blue ocean with a mountainous island in the background. The sky is partly cloudy, and the water is calm.<|im_end|>\\n<|endoftext|>!!!!!!!!!!!!!!!!!!!!!!!!!!!!!!!!!!!!!!!!!!!!!!!!!!!!!!!!!!!!!!!!!!!!!!!!!!!!!!!!!!!!!!!!!!!!!!!!!!!!!!!!!!!!!!!!!']\n",
            "test pred txt ['!!!!!!!!!!!!!!!!!!!!!!!!!!!!!!!!!!!!!!!!!!!!!!!!!!!!!!!!!!!!!!!!!!!!!!!!!!!!!!!!!!!描述 text you a vibrant-up of a human\\'s face, a slight mask on indicating used medical or wearing their text \"Theunteer for: A. Smith\\'.ull\\' writtenaid on the. The text describes in a bold font white color scheme, with the doctor \\'Volunteer Spotlight\\' in bold and \\'Dr. Bill McCure\\' in white. The the text, there is a small image \\' reads \\'Vol for future generation of doctors\\' the.\\'<|im_end|> image and a blurred background and and the text in face is blurred by suggesting they medical on the medical\\'s appearance and the medical they do doing in.<|im_end|>\\n<|endoftext|>!!!!!!!!!!!!!!!!!!!!!!!!!!!!!!!!!!!!!!!!!!!!!!!!!!!!!!!!!!!!!!!!!!!!!!', '!!!!!!!!!!!!!!!!!!!!!!!!!!!!!!!!!!!!!!!!!!!!!!!!!!!!!!!!!!!!!!!!!!!!!!!!!!!!!!!!!!!抱歉 text is a from space sky, and its engines red of smoke and from the dark of the clear sky. a clouds. The rocket is body is aated and has, with a bright top. a longared tail. The rocket is filled with colorful white bright pieces glowing-of-control stars spots, which the the rocket or other nearby sources. The\\n<|endoftext|>!!!!!!!!!!!!!!!!!!!!!!!!!!!!!!!!!!!!!!!!!!!!!!!!!!!!!!!!!!!!!!!!!!!!!!!!!!!!!!!!!!!!!!!!!!!!!!!!!!!!!!!!!!!!!!!!!!!!!!!!!!!', '!!!!!!!!!!!!!!!!!!!!!!!!!!!!!!!!!!!!!!!!!!!!!!!!!!!!!!!!!!!!!!!!!!!!!!!!!!!!!!!!!!!抱歉 text of characters is including of a father, a women, is described in the ocean. The man is wearing a blue shirt, theel, while the two are wearing swim snork blue snork, respectively. The are all swimming in the water of the water, with by a beautiful blue sky. no gentle range background in the background. The text is a cloudy, and the temperature temperature calm and<|im_end|>\\n<|endoftext|>!!!!!!!!!!!!!!!!!!!!!!!!!!!!!!!!!!!!!!!!!!!!!!!!!!!!!!!!!!!!!!!!!!!!!!!!!!!!!!!!!!!!!!!!!!!!!!!!!!!!!!!!!!!!!!!!!']\n",
            "[4.799948609147061e-05]\n"
          ]
        },
        {
          "output_type": "display_data",
          "data": {
            "text/plain": [
              "<IPython.core.display.HTML object>"
            ],
            "text/html": [
              "\n",
              "<style>\n",
              "    /* Turns off some styling */\n",
              "    progress {\n",
              "        /* gets rid of default border in Firefox and Opera. */\n",
              "        border: none;\n",
              "        /* Needs to be in here for Safari polyfill so background images work as expected. */\n",
              "        background-size: auto;\n",
              "    }\n",
              "    progress:not([value]), progress:not([value])::-webkit-progress-bar {\n",
              "        background: repeating-linear-gradient(45deg, #7e7e7e, #7e7e7e 10px, #5c5c5c 10px, #5c5c5c 20px);\n",
              "    }\n",
              "    .progress-bar-interrupted, .progress-bar-interrupted::-webkit-progress-bar {\n",
              "        background: #F44336;\n",
              "    }\n",
              "</style>\n"
            ]
          },
          "metadata": {}
        },
        {
          "output_type": "display_data",
          "data": {
            "text/plain": [
              "<IPython.core.display.HTML object>"
            ],
            "text/html": [
              "\n",
              "    <div>\n",
              "      <progress value='113' class='' max='113' style='width:300px; height:20px; vertical-align: middle;'></progress>\n",
              "      100.00% [113/113 04:29&lt;00:00]\n",
              "    </div>\n",
              "    "
            ]
          },
          "metadata": {}
        },
        {
          "output_type": "stream",
          "name": "stdout",
          "text": [
            "epoch 6 : loss 12.748605728149414 : acc 0.47216904163360596\n",
            "train gt txt ['!!!!!!!!!!!!!!!!!!!!!!!!!!!!!!!!!!!!!!!!!!!!!!!!!!!!!!!!!!!!!!!!!!!!!!!!!!!!!!!!!!!A stylized illustration of a glass with a red rim and a white interior, containing a red wavy line pattern. The glass is set against a white background with a red border around it.<|im_end|>\\n<|endoftext|>!!!!!!!!!!!!!!!!!!!!!!!!!!!!!!!!!!!!!!!!!!!!!!!!!!!!!!!!!!!!!!!!!!!!!!!!!!!!!!!!!!!!!!!!!!!!!!!!!!!!!!!!!!!!!!!!!!!!!!!!!!!!!!!!!!!!!!!!!!!!!!!!!!!!!!!!!!', \"!!!!!!!!!!!!!!!!!!!!!!!!!!!!!!!!!!!!!!!!!!!!!!!!!!!!!!!!!!!!!!!!!!!!!!!!!!!!!!!!!!!A blue sign with white text reads 'EMERGENCY CLINICAL TREE TRAUMA' in a hospital setting. There are three people in high-visibility vests working on a tree stump in the background. The sky is clear with a few clouds, and there is a building with a clock tower in the distance.<|im_end|>\\n<|endoftext|>!!!!!!!!!!!!!!!!!!!!!!!!!!!!!!!!!!!!!!!!!!!!!!!!!!!!!!!!!!!!!!!!!!!!!!!!!!!!!!!!!!!!!!!!!!!!!!!!!!!!!!!!!!!!!!!!!!!!!!!!!!!!!!!!\", \"!!!!!!!!!!!!!!!!!!!!!!!!!!!!!!!!!!!!!!!!!!!!!!!!!!!!!!!!!!!!!!!!!!!!!!!!!!!!!!!!!!!A white paper with a handwritten message that reads 'DEFEND ATTACK!' with the word 'DEFEND' crossed out.<|im_end|>\\n<|endoftext|>!!!!!!!!!!!!!!!!!!!!!!!!!!!!!!!!!!!!!!!!!!!!!!!!!!!!!!!!!!!!!!!!!!!!!!!!!!!!!!!!!!!!!!!!!!!!!!!!!!!!!!!!!!!!!!!!!!!!!!!!!!!!!!!!!!!!!!!!!!!!!!!!!!!!!!!!!!!!!!!!!!!!!!!!!\"]\n",
            "train pred txt ['!!!!!!!!!!!!!!!!!!!!!!!!!!!!!!!!!!!!!!!!!!!!!!!!!!!!!!!!!!!!!!!!!!!!!!!!!!!!!!!!!!!I descriptionized text of a human cube a broken,, a blue rim, with a small ballaffle line.. The text is slightly against a blue background, a red border. the. The\\n<|endoftext|>!!!!!!!!!!!!!!!!!!!!!!!!!!!!!!!!!!!!!!!!!!!!!!!!!!!!!!!!!!!!!!!!!!!!!!!!!!!!!!!!!!!!!!!!!!!!!!!!!!!!!!!!!!!!!!!!!!!!!!!!!!!!!!!!!!!!!!!!!!!!!!!!!!!!!!!!!!', '!!!!!!!!!!!!!!!!!!!!!!!!!!!!!!!!!!!!!!!!!!!!!!!!!!!!!!!!!!!!!!!!!!!!!!!!!!!!!!!!!!!对不起 text text is a letters, \"PleaseERGENCY STOPONEICAL ROOM\\'.IMVERSA\\'.<|im_end|> white bold environment.<|im_end|> are also people in the fevervisibility suits, on the patient stump. the hospital. The sign is dark, a few clouds in and the are a faint in a sign tower in the distance. The\\n<|endoftext|>!!!!!!!!!!!!!!!!!!!!!!!!!!!!!!!!!!!!!!!!!!!!!!!!!!!!!!!!!!!!!!!!!!!!!!!!!!!!!!!!!!!!!!!!!!!!!!!!!!!!!!!!!!!!!!!!!!!!!!!!!!!!!!!!', '!!!!!!!!!!!!!!!!!!!!!!!!!!!!!!!!!!!!!!!!!!!!!!!!!!!!!!!!!!!!!!!!!!!!!!!!!!!!!!!!!!!I text rabbit, a red title. is \"WhiteEND THE\\'<|im_end|> a text \\'DEFEND\\' in out.<|im_end|>\\n<|endoftext|>!!!!!!!!!!!!!!!!!!!!!!!!!!!!!!!!!!!!!!!!!!!!!!!!!!!!!!!!!!!!!!!!!!!!!!!!!!!!!!!!!!!!!!!!!!!!!!!!!!!!!!!!!!!!!!!!!!!!!!!!!!!!!!!!!!!!!!!!!!!!!!!!!!!!!!!!!!!!!!!!!!!!!!!!!']\n"
          ]
        },
        {
          "output_type": "display_data",
          "data": {
            "text/plain": [
              "<IPython.core.display.HTML object>"
            ],
            "text/html": [
              "\n",
              "<style>\n",
              "    /* Turns off some styling */\n",
              "    progress {\n",
              "        /* gets rid of default border in Firefox and Opera. */\n",
              "        border: none;\n",
              "        /* Needs to be in here for Safari polyfill so background images work as expected. */\n",
              "        background-size: auto;\n",
              "    }\n",
              "    progress:not([value]), progress:not([value])::-webkit-progress-bar {\n",
              "        background: repeating-linear-gradient(45deg, #7e7e7e, #7e7e7e 10px, #5c5c5c 10px, #5c5c5c 20px);\n",
              "    }\n",
              "    .progress-bar-interrupted, .progress-bar-interrupted::-webkit-progress-bar {\n",
              "        background: #F44336;\n",
              "    }\n",
              "</style>\n"
            ]
          },
          "metadata": {}
        },
        {
          "output_type": "display_data",
          "data": {
            "text/plain": [
              "<IPython.core.display.HTML object>"
            ],
            "text/html": [
              "\n",
              "    <div>\n",
              "      <progress value='13' class='' max='13' style='width:300px; height:20px; vertical-align: middle;'></progress>\n",
              "      100.00% [13/13 00:20&lt;00:00]\n",
              "    </div>\n",
              "    "
            ]
          },
          "metadata": {}
        },
        {
          "output_type": "stream",
          "name": "stdout",
          "text": [
            "epoch 6 : test acc 0.4820215404033661\n",
            "test gt txt [\"!!!!!!!!!!!!!!!!!!!!!!!!!!!!!!!!!!!!!!!!!!!!!!!!!!!!!!!!!!!!!!!!!!!!!!!!!!!!!!!!!!!The image features a close-up of a person's face with a surgical mask, likely a doctor, with the text 'Volunteer Spotlight: Dr. Bill McCure' overlaid on top. The text is in a red and white color scheme, with the words 'Volunteer Spotlight' in red and 'Dr. Bill McCure' in white. Below the text, there is a smaller text that reads 'Training the next generation of surgeons in Cuba'. The image has a dark background, and the person's face is illuminated, suggesting a focus on the doctor's identity and the work they are involved in.<|im_end|>\\n<|endoftext|>!!!!!!!!!!!!!!!!!!!!!!!!!!!!!!!!!!!!!!!!!!!!!!!!!!!!!!!!!!!!!!!!!!!!!!\", \"!!!!!!!!!!!!!!!!!!!!!!!!!!!!!!!!!!!!!!!!!!!!!!!!!!!!!!!!!!!!!!!!!!!!!!!!!!!!!!!!!!!A rocket is launching into the sky, with its bright trail of smoke visible against the backdrop of a blue sky with scattered clouds. The rocket's body is elongated and cylindrical, with a pointed tip and a flared base. The sky is dotted with small, round, out-of-focus light spots, possibly from the sun or other light sources.<|im_end|>\\n<|endoftext|>!!!!!!!!!!!!!!!!!!!!!!!!!!!!!!!!!!!!!!!!!!!!!!!!!!!!!!!!!!!!!!!!!!!!!!!!!!!!!!!!!!!!!!!!!!!!!!!!!!!!!!!!!!!!!!!!!!!!!!!!!!!\", '!!!!!!!!!!!!!!!!!!!!!!!!!!!!!!!!!!!!!!!!!!!!!!!!!!!!!!!!!!!!!!!!!!!!!!!!!!!!!!!!!!!A family of three, consisting of a man and two children, is swimming in the ocean. The man is wearing a green mask and snorkel, while the children are wearing pink and green masks, respectively. They are all floating near the surface of the water, surrounded by a clear blue ocean with a mountainous island in the background. The sky is partly cloudy, and the water is calm.<|im_end|>\\n<|endoftext|>!!!!!!!!!!!!!!!!!!!!!!!!!!!!!!!!!!!!!!!!!!!!!!!!!!!!!!!!!!!!!!!!!!!!!!!!!!!!!!!!!!!!!!!!!!!!!!!!!!!!!!!!!!!!!!!!!']\n",
            "test pred txt ['!!!!!!!!!!!!!!!!!!!!!!!!!!!!!!!!!!!!!!!!!!!!!!!!!!!!!!!!!!!!!!!!!!!!!!!!!!!!!!!!!!!描述 text you a vibrant-up of a human\\'s face, a slight mask on indicating used medical or wearing their text \"Theunteer for: A. Smith\\'.ull\\' writtenaid on the. The text describes in a bold font white color scheme, with the doctor \\'Volunteer Spotlight\\' in bold and \\'Dr. Bill McCure\\' in white. The the text, there is a small image \\' reads \\'Vol for future generation of doctors\\' the.\\'<|im_end|> image and a blurred background and and the text in face is blurred by with they medical on the medical\\'s appearance and the medical they do doing in.<|im_end|>\\n<|endoftext|>!!!!!!!!!!!!!!!!!!!!!!!!!!!!!!!!!!!!!!!!!!!!!!!!!!!!!!!!!!!!!!!!!!!!!!', '!!!!!!!!!!!!!!!!!!!!!!!!!!!!!!!!!!!!!!!!!!!!!!!!!!!!!!!!!!!!!!!!!!!!!!!!!!!!!!!!!!!抱歉 text is a from space sky, and its engines yellow of smoke and from the dark of the clear sky. a clouds. The rocket is body is aated and has, with a bright top. a longared tail. The rocket is filled with colorful white bright pieces glowing-of-control stars spots, which the the rocket or other nearby sources. The\\n<|endoftext|>!!!!!!!!!!!!!!!!!!!!!!!!!!!!!!!!!!!!!!!!!!!!!!!!!!!!!!!!!!!!!!!!!!!!!!!!!!!!!!!!!!!!!!!!!!!!!!!!!!!!!!!!!!!!!!!!!!!!!!!!!!!', '!!!!!!!!!!!!!!!!!!!!!!!!!!!!!!!!!!!!!!!!!!!!!!!!!!!!!!!!!!!!!!!!!!!!!!!!!!!!!!!!!!!抱歉 text of characters is including of a father, a women, is described in the ocean. The man is wearing a blue shirt, theel, while the two are wearing swim snork blue snork, respectively. The are all swimming in the water of the water, with by a beautiful blue sky. no gentle range background in the background. The text is a cloudy with and the temperature temperature calm and<|im_end|>\\n<|endoftext|>!!!!!!!!!!!!!!!!!!!!!!!!!!!!!!!!!!!!!!!!!!!!!!!!!!!!!!!!!!!!!!!!!!!!!!!!!!!!!!!!!!!!!!!!!!!!!!!!!!!!!!!!!!!!!!!!!']\n",
            "[4.713640064133025e-05]\n"
          ]
        },
        {
          "output_type": "display_data",
          "data": {
            "text/plain": [
              "<IPython.core.display.HTML object>"
            ],
            "text/html": [
              "\n",
              "<style>\n",
              "    /* Turns off some styling */\n",
              "    progress {\n",
              "        /* gets rid of default border in Firefox and Opera. */\n",
              "        border: none;\n",
              "        /* Needs to be in here for Safari polyfill so background images work as expected. */\n",
              "        background-size: auto;\n",
              "    }\n",
              "    progress:not([value]), progress:not([value])::-webkit-progress-bar {\n",
              "        background: repeating-linear-gradient(45deg, #7e7e7e, #7e7e7e 10px, #5c5c5c 10px, #5c5c5c 20px);\n",
              "    }\n",
              "    .progress-bar-interrupted, .progress-bar-interrupted::-webkit-progress-bar {\n",
              "        background: #F44336;\n",
              "    }\n",
              "</style>\n"
            ]
          },
          "metadata": {}
        },
        {
          "output_type": "display_data",
          "data": {
            "text/plain": [
              "<IPython.core.display.HTML object>"
            ],
            "text/html": [
              "\n",
              "    <div>\n",
              "      <progress value='113' class='' max='113' style='width:300px; height:20px; vertical-align: middle;'></progress>\n",
              "      100.00% [113/113 04:29&lt;00:00]\n",
              "    </div>\n",
              "    "
            ]
          },
          "metadata": {}
        },
        {
          "output_type": "stream",
          "name": "stdout",
          "text": [
            "epoch 7 : loss 12.736063003540039 : acc 0.47236770391464233\n",
            "train gt txt ['!!!!!!!!!!!!!!!!!!!!!!!!!!!!!!!!!!!!!!!!!!!!!!!!!!!!!!!!!!!!!!!!!!!!!!!!!!!!!!!!!!!Four pieces of chocolate cake with walnuts are arranged on a white surface with scattered crumbs and a few whole walnuts around them.<|im_end|>\\n<|endoftext|>!!!!!!!!!!!!!!!!!!!!!!!!!!!!!!!!!!!!!!!!!!!!!!!!!!!!!!!!!!!!!!!!!!!!!!!!!!!!!!!!!!!!!!!!!!!!!!!!!!!!!!!!!!!!!!!!!!!!!!!!!!!!!!!!!!!!!!!!!!!!!!!!!!!!!!!!!!!!!!!!!!!!!!!', \"!!!!!!!!!!!!!!!!!!!!!!!!!!!!!!!!!!!!!!!!!!!!!!!!!!!!!!!!!!!!!!!!!!!!!!!!!!!!!!!!!!!A scenic view of a mountainous landscape with a clear blue sky. The image features a quote by Wayne Gretzky, which reads, 'Eight days ago, we were the toast of the town. Eight days later, we're thankful turkeys.' The quote is placed in the lower half of the image, with the mountains and sky occupying the upper half.<|im_end|>\\n<|endoftext|>!!!!!!!!!!!!!!!!!!!!!!!!!!!!!!!!!!!!!!!!!!!!!!!!!!!!!!!!!!!!!!!!!!!!!!!!!!!!!!!!!!!!!!!!!!!!!!!!!!!!!!!!!!!!!!!!!!!!!!!!\", \"!!!!!!!!!!!!!!!!!!!!!!!!!!!!!!!!!!!!!!!!!!!!!!!!!!!!!!!!!!!!!!!!!!!!!!!!!!!!!!!!!!!The cover of a book titled 'The Return of the Pickford Trailer' with a black and white image of a steam locomotive emitting smoke, set against a backdrop of trees and a clear sky. The book is part of a series called 'Railroad Memories' and features a DVD logo in the bottom left corner.<|im_end|>\\n<|endoftext|>!!!!!!!!!!!!!!!!!!!!!!!!!!!!!!!!!!!!!!!!!!!!!!!!!!!!!!!!!!!!!!!!!!!!!!!!!!!!!!!!!!!!!!!!!!!!!!!!!!!!!!!!!!!!!!!!!!!!!!!!!!!!!!!!!\"]\n",
            "train pred txt ['!!!!!!!!!!!!!!!!!!!!!!!!!!!!!!!!!!!!!!!!!!!!!!!!!!!!!!!!!!!!!!!!!!!!!!!!!!!!!!!!!!!I words of text,, anuts and presented in a plate plate. a chocolate. a few pieces piecesnuts. the. The\\n<|endoftext|>!!!!!!!!!!!!!!!!!!!!!!!!!!!!!!!!!!!!!!!!!!!!!!!!!!!!!!!!!!!!!!!!!!!!!!!!!!!!!!!!!!!!!!!!!!!!!!!!!!!!!!!!!!!!!!!!!!!!!!!!!!!!!!!!!!!!!!!!!!!!!!!!!!!!!!!!!!!!!!!!!!!!!!!', '!!!!!!!!!!!!!!!!!!!!!!!!!!!!!!!!!!!!!!!!!!!!!!!!!!!!!!!!!!!!!!!!!!!!!!!!!!!!!!!!!!!好的 text area is a mountain range area with a clear blue sky and<|im_end|> mountain is a mountain from the Dzky, \" reads \" \"Theeen without, I were all same of the world, Eight days ago, we were the forkeys.\\' The mountain is a in the foreground left of the image, emphasizing the mountain in the in the upper half. The\\n<|endoftext|>!!!!!!!!!!!!!!!!!!!!!!!!!!!!!!!!!!!!!!!!!!!!!!!!!!!!!!!!!!!!!!!!!!!!!!!!!!!!!!!!!!!!!!!!!!!!!!!!!!!!!!!!!!!!!!!!!!!!!!!!', '!!!!!!!!!!!!!!!!!!!!!!!!!!!!!!!!!!!!!!!!!!!!!!!!!!!!!!!!!!!!!!!!!!!!!!!!!!!!!!!!!!!抱歉 text of this text is \"The Art of the Kingled Baby\\' is the title and white cover of a trailerrollerotive is a and and in a blue of a and a mountain sky,<|im_end|> text is titled of a series of \\'Theway to\\' and is a series titled of the upper right corner. The\\n<|endoftext|>!!!!!!!!!!!!!!!!!!!!!!!!!!!!!!!!!!!!!!!!!!!!!!!!!!!!!!!!!!!!!!!!!!!!!!!!!!!!!!!!!!!!!!!!!!!!!!!!!!!!!!!!!!!!!!!!!!!!!!!!!!!!!!!!!']\n"
          ]
        },
        {
          "output_type": "display_data",
          "data": {
            "text/plain": [
              "<IPython.core.display.HTML object>"
            ],
            "text/html": [
              "\n",
              "<style>\n",
              "    /* Turns off some styling */\n",
              "    progress {\n",
              "        /* gets rid of default border in Firefox and Opera. */\n",
              "        border: none;\n",
              "        /* Needs to be in here for Safari polyfill so background images work as expected. */\n",
              "        background-size: auto;\n",
              "    }\n",
              "    progress:not([value]), progress:not([value])::-webkit-progress-bar {\n",
              "        background: repeating-linear-gradient(45deg, #7e7e7e, #7e7e7e 10px, #5c5c5c 10px, #5c5c5c 20px);\n",
              "    }\n",
              "    .progress-bar-interrupted, .progress-bar-interrupted::-webkit-progress-bar {\n",
              "        background: #F44336;\n",
              "    }\n",
              "</style>\n"
            ]
          },
          "metadata": {}
        },
        {
          "output_type": "display_data",
          "data": {
            "text/plain": [
              "<IPython.core.display.HTML object>"
            ],
            "text/html": [
              "\n",
              "    <div>\n",
              "      <progress value='13' class='' max='13' style='width:300px; height:20px; vertical-align: middle;'></progress>\n",
              "      100.00% [13/13 00:20&lt;00:00]\n",
              "    </div>\n",
              "    "
            ]
          },
          "metadata": {}
        },
        {
          "output_type": "stream",
          "name": "stdout",
          "text": [
            "epoch 7 : test acc 0.4831814467906952\n",
            "test gt txt [\"!!!!!!!!!!!!!!!!!!!!!!!!!!!!!!!!!!!!!!!!!!!!!!!!!!!!!!!!!!!!!!!!!!!!!!!!!!!!!!!!!!!The image features a close-up of a person's face with a surgical mask, likely a doctor, with the text 'Volunteer Spotlight: Dr. Bill McCure' overlaid on top. The text is in a red and white color scheme, with the words 'Volunteer Spotlight' in red and 'Dr. Bill McCure' in white. Below the text, there is a smaller text that reads 'Training the next generation of surgeons in Cuba'. The image has a dark background, and the person's face is illuminated, suggesting a focus on the doctor's identity and the work they are involved in.<|im_end|>\\n<|endoftext|>!!!!!!!!!!!!!!!!!!!!!!!!!!!!!!!!!!!!!!!!!!!!!!!!!!!!!!!!!!!!!!!!!!!!!!\", \"!!!!!!!!!!!!!!!!!!!!!!!!!!!!!!!!!!!!!!!!!!!!!!!!!!!!!!!!!!!!!!!!!!!!!!!!!!!!!!!!!!!A rocket is launching into the sky, with its bright trail of smoke visible against the backdrop of a blue sky with scattered clouds. The rocket's body is elongated and cylindrical, with a pointed tip and a flared base. The sky is dotted with small, round, out-of-focus light spots, possibly from the sun or other light sources.<|im_end|>\\n<|endoftext|>!!!!!!!!!!!!!!!!!!!!!!!!!!!!!!!!!!!!!!!!!!!!!!!!!!!!!!!!!!!!!!!!!!!!!!!!!!!!!!!!!!!!!!!!!!!!!!!!!!!!!!!!!!!!!!!!!!!!!!!!!!!\", '!!!!!!!!!!!!!!!!!!!!!!!!!!!!!!!!!!!!!!!!!!!!!!!!!!!!!!!!!!!!!!!!!!!!!!!!!!!!!!!!!!!A family of three, consisting of a man and two children, is swimming in the ocean. The man is wearing a green mask and snorkel, while the children are wearing pink and green masks, respectively. They are all floating near the surface of the water, surrounded by a clear blue ocean with a mountainous island in the background. The sky is partly cloudy, and the water is calm.<|im_end|>\\n<|endoftext|>!!!!!!!!!!!!!!!!!!!!!!!!!!!!!!!!!!!!!!!!!!!!!!!!!!!!!!!!!!!!!!!!!!!!!!!!!!!!!!!!!!!!!!!!!!!!!!!!!!!!!!!!!!!!!!!!!']\n",
            "test pred txt ['!!!!!!!!!!!!!!!!!!!!!!!!!!!!!!!!!!!!!!!!!!!!!!!!!!!!!!!!!!!!!!!!!!!!!!!!!!!!!!!!!!!描述 text you a vibrant-up of a human\\'s face, a slight mask on indicating indicating medical or wearing their text \"Theunteer for\\'. A. Smith\\'.ull\\' writtenaid on the. The text describes in a bold font white color scheme, with the doctor \\'Volunteer Spotlight\\' in bold and \\'Dr. Bill McCure\\' in white. The the text, there is a small image with reads \\'Vol for future generation of doctors\\' the.\\'<|im_end|> image and a blurred background and and the text in face is blurred by suggesting they medical on the medical\\'s appearance and the medical they do doing in.<|im_end|>\\n<|endoftext|>!!!!!!!!!!!!!!!!!!!!!!!!!!!!!!!!!!!!!!!!!!!!!!!!!!!!!!!!!!!!!!!!!!!!!!', '!!!!!!!!!!!!!!!!!!!!!!!!!!!!!!!!!!!!!!!!!!!!!!!!!!!!!!!!!!!!!!!!!!!!!!!!!!!!!!!!!!!抱歉 text is a from space sky, and its engines yellow of smoke and from the sky of the clear sky. a clouds. The rocket is body is aated and has, with a bright top. a longared tail. The rocket is filled with bright white bright pieces glowing-of-control stars spots, which the the rocket or other nearby sources. The\\n<|endoftext|>!!!!!!!!!!!!!!!!!!!!!!!!!!!!!!!!!!!!!!!!!!!!!!!!!!!!!!!!!!!!!!!!!!!!!!!!!!!!!!!!!!!!!!!!!!!!!!!!!!!!!!!!!!!!!!!!!!!!!!!!!!!', '!!!!!!!!!!!!!!!!!!!!!!!!!!!!!!!!!!!!!!!!!!!!!!!!!!!!!!!!!!!!!!!!!!!!!!!!!!!!!!!!!!!抱歉 text of characters is including of a father, a women, is described in the ocean. The man is wearing a blue shirt, theel, while the two are wearing colorful snork blue snork, respectively. The are all swimming in the water of the water, with by a beautiful blue sky. no gentle range background in the background. The text is a cloudy with and the temperature temperature calm and<|im_end|>\\n<|endoftext|>!!!!!!!!!!!!!!!!!!!!!!!!!!!!!!!!!!!!!!!!!!!!!!!!!!!!!!!!!!!!!!!!!!!!!!!!!!!!!!!!!!!!!!!!!!!!!!!!!!!!!!!!!!!!!!!!!']\n",
            "[4.6129752138594874e-05]\n"
          ]
        },
        {
          "output_type": "display_data",
          "data": {
            "text/plain": [
              "<IPython.core.display.HTML object>"
            ],
            "text/html": [
              "\n",
              "<style>\n",
              "    /* Turns off some styling */\n",
              "    progress {\n",
              "        /* gets rid of default border in Firefox and Opera. */\n",
              "        border: none;\n",
              "        /* Needs to be in here for Safari polyfill so background images work as expected. */\n",
              "        background-size: auto;\n",
              "    }\n",
              "    progress:not([value]), progress:not([value])::-webkit-progress-bar {\n",
              "        background: repeating-linear-gradient(45deg, #7e7e7e, #7e7e7e 10px, #5c5c5c 10px, #5c5c5c 20px);\n",
              "    }\n",
              "    .progress-bar-interrupted, .progress-bar-interrupted::-webkit-progress-bar {\n",
              "        background: #F44336;\n",
              "    }\n",
              "</style>\n"
            ]
          },
          "metadata": {}
        },
        {
          "output_type": "display_data",
          "data": {
            "text/plain": [
              "<IPython.core.display.HTML object>"
            ],
            "text/html": [
              "\n",
              "    <div>\n",
              "      <progress value='113' class='' max='113' style='width:300px; height:20px; vertical-align: middle;'></progress>\n",
              "      100.00% [113/113 04:29&lt;00:00]\n",
              "    </div>\n",
              "    "
            ]
          },
          "metadata": {}
        },
        {
          "output_type": "stream",
          "name": "stdout",
          "text": [
            "epoch 8 : loss 12.740427017211914 : acc 0.472476065158844\n",
            "train gt txt [\"!!!!!!!!!!!!!!!!!!!!!!!!!!!!!!!!!!!!!!!!!!!!!!!!!!!!!!!!!!!!!!!!!!!!!!!!!!!!!!!!!!!A modern apartment building with a flat roof and multiple balconies is surrounded by lush greenery. The building has a beige facade with large windows and a prominent 'SKY CLEANERS' sign on the ground floor. There is a sidewalk in front of the building, and a fire hydrant is visible near the entrance. The sky is partly cloudy, and the overall atmosphere is serene and urban.<|im_end|>\\n<|endoftext|>!!!!!!!!!!!!!!!!!!!!!!!!!!!!!!!!!!!!!!!!!!!!!!!!!!!!!!!!!!!!!!!!!!!!!!!!!!!!!!!!!!!!!!!!!!!!!!!!!!!!!!!!!!!!!!!!!!\", \"!!!!!!!!!!!!!!!!!!!!!!!!!!!!!!!!!!!!!!!!!!!!!!!!!!!!!!!!!!!!!!!!!!!!!!!!!!!!!!!!!!!A stylized illustration of a doughnut with pink frosting and sprinkles, accompanied by the phrase 'LOVE YOURSELF & DRINK COFFEE' in a cursive script. The doughnut is centered in the image, with the text surrounding it in a circular pattern. The background is a plain white color.<|im_end|>\\n<|endoftext|>!!!!!!!!!!!!!!!!!!!!!!!!!!!!!!!!!!!!!!!!!!!!!!!!!!!!!!!!!!!!!!!!!!!!!!!!!!!!!!!!!!!!!!!!!!!!!!!!!!!!!!!!!!!!!!!!!!!!!!!!!!!!!!!!!\", '!!!!!!!!!!!!!!!!!!!!!!!!!!!!!!!!!!!!!!!!!!!!!!!!!!!!!!!!!!!!!!!!!!!!!!!!!!!!!!!!!!!A white air conditioner with a red sticker on the top right corner is displayed against a white background.<|im_end|>\\n<|endoftext|>!!!!!!!!!!!!!!!!!!!!!!!!!!!!!!!!!!!!!!!!!!!!!!!!!!!!!!!!!!!!!!!!!!!!!!!!!!!!!!!!!!!!!!!!!!!!!!!!!!!!!!!!!!!!!!!!!!!!!!!!!!!!!!!!!!!!!!!!!!!!!!!!!!!!!!!!!!!!!!!!!!!!!!!!!!!!!']\n",
            "train pred txt [\"!!!!!!!!!!!!!!!!!!!!!!!!!!!!!!!!!!!!!!!!!!!!!!!!!!!!!!!!!!!!!!!!!!!!!!!!!!!!!!!!!!!抱歉ha text building in a mix layout and a storiesies. described by trees greenery and The building is a well color with a windows that a sleek entranceApY''' sign. the roof level. The are a large leading front of the building, and a small hydrant is located on the entrance. The building is a cloudy, with the temperature atmosphere is peaceful and peaceful. The\\n<|endoftext|>!!!!!!!!!!!!!!!!!!!!!!!!!!!!!!!!!!!!!!!!!!!!!!!!!!!!!!!!!!!!!!!!!!!!!!!!!!!!!!!!!!!!!!!!!!!!!!!!!!!!!!!!!!!!!!!!!!\", '!!!!!!!!!!!!!!!!!!!!!!!!!!!!!!!!!!!!!!!!!!!!!!!!!!!!!!!!!!!!!!!!!!!!!!!!!!!!!!!!!!!I textized text of a textnut with a frosting and ales. and by a text \"sweetVE YOUSELF\\'. BEINK\\'.FFEE\\'. in bold playfulursive script.<|im_end|> textnut is filled on the middle, and the text \\' it. a c font. The text is a light white background,<|im_end|>\\n<|endoftext|>!!!!!!!!!!!!!!!!!!!!!!!!!!!!!!!!!!!!!!!!!!!!!!!!!!!!!!!!!!!!!!!!!!!!!!!!!!!!!!!!!!!!!!!!!!!!!!!!!!!!!!!!!!!!!!!!!!!!!!!!!!!!!!!!!', '!!!!!!!!!!!!!!!!!!!!!!!!!!!!!!!!!!!!!!!!!!!!!!!!!!!!!!!!!!!!!!!!!!!!!!!!!!!!!!!!!!!好的 text rabbit conditioner is a capacity handle. it front. corner. a on a white background. The\\n<|endoftext|>!!!!!!!!!!!!!!!!!!!!!!!!!!!!!!!!!!!!!!!!!!!!!!!!!!!!!!!!!!!!!!!!!!!!!!!!!!!!!!!!!!!!!!!!!!!!!!!!!!!!!!!!!!!!!!!!!!!!!!!!!!!!!!!!!!!!!!!!!!!!!!!!!!!!!!!!!!!!!!!!!!!!!!!!!!!!!']\n"
          ]
        },
        {
          "output_type": "display_data",
          "data": {
            "text/plain": [
              "<IPython.core.display.HTML object>"
            ],
            "text/html": [
              "\n",
              "<style>\n",
              "    /* Turns off some styling */\n",
              "    progress {\n",
              "        /* gets rid of default border in Firefox and Opera. */\n",
              "        border: none;\n",
              "        /* Needs to be in here for Safari polyfill so background images work as expected. */\n",
              "        background-size: auto;\n",
              "    }\n",
              "    progress:not([value]), progress:not([value])::-webkit-progress-bar {\n",
              "        background: repeating-linear-gradient(45deg, #7e7e7e, #7e7e7e 10px, #5c5c5c 10px, #5c5c5c 20px);\n",
              "    }\n",
              "    .progress-bar-interrupted, .progress-bar-interrupted::-webkit-progress-bar {\n",
              "        background: #F44336;\n",
              "    }\n",
              "</style>\n"
            ]
          },
          "metadata": {}
        },
        {
          "output_type": "display_data",
          "data": {
            "text/plain": [
              "<IPython.core.display.HTML object>"
            ],
            "text/html": [
              "\n",
              "    <div>\n",
              "      <progress value='13' class='' max='13' style='width:300px; height:20px; vertical-align: middle;'></progress>\n",
              "      100.00% [13/13 00:20&lt;00:00]\n",
              "    </div>\n",
              "    "
            ]
          },
          "metadata": {}
        },
        {
          "output_type": "stream",
          "name": "stdout",
          "text": [
            "epoch 8 : test acc 0.48268434405326843\n",
            "test gt txt [\"!!!!!!!!!!!!!!!!!!!!!!!!!!!!!!!!!!!!!!!!!!!!!!!!!!!!!!!!!!!!!!!!!!!!!!!!!!!!!!!!!!!The image features a close-up of a person's face with a surgical mask, likely a doctor, with the text 'Volunteer Spotlight: Dr. Bill McCure' overlaid on top. The text is in a red and white color scheme, with the words 'Volunteer Spotlight' in red and 'Dr. Bill McCure' in white. Below the text, there is a smaller text that reads 'Training the next generation of surgeons in Cuba'. The image has a dark background, and the person's face is illuminated, suggesting a focus on the doctor's identity and the work they are involved in.<|im_end|>\\n<|endoftext|>!!!!!!!!!!!!!!!!!!!!!!!!!!!!!!!!!!!!!!!!!!!!!!!!!!!!!!!!!!!!!!!!!!!!!!\", \"!!!!!!!!!!!!!!!!!!!!!!!!!!!!!!!!!!!!!!!!!!!!!!!!!!!!!!!!!!!!!!!!!!!!!!!!!!!!!!!!!!!A rocket is launching into the sky, with its bright trail of smoke visible against the backdrop of a blue sky with scattered clouds. The rocket's body is elongated and cylindrical, with a pointed tip and a flared base. The sky is dotted with small, round, out-of-focus light spots, possibly from the sun or other light sources.<|im_end|>\\n<|endoftext|>!!!!!!!!!!!!!!!!!!!!!!!!!!!!!!!!!!!!!!!!!!!!!!!!!!!!!!!!!!!!!!!!!!!!!!!!!!!!!!!!!!!!!!!!!!!!!!!!!!!!!!!!!!!!!!!!!!!!!!!!!!!\", '!!!!!!!!!!!!!!!!!!!!!!!!!!!!!!!!!!!!!!!!!!!!!!!!!!!!!!!!!!!!!!!!!!!!!!!!!!!!!!!!!!!A family of three, consisting of a man and two children, is swimming in the ocean. The man is wearing a green mask and snorkel, while the children are wearing pink and green masks, respectively. They are all floating near the surface of the water, surrounded by a clear blue ocean with a mountainous island in the background. The sky is partly cloudy, and the water is calm.<|im_end|>\\n<|endoftext|>!!!!!!!!!!!!!!!!!!!!!!!!!!!!!!!!!!!!!!!!!!!!!!!!!!!!!!!!!!!!!!!!!!!!!!!!!!!!!!!!!!!!!!!!!!!!!!!!!!!!!!!!!!!!!!!!!']\n",
            "test pred txt ['!!!!!!!!!!!!!!!!!!!!!!!!!!!!!!!!!!!!!!!!!!!!!!!!!!!!!!!!!!!!!!!!!!!!!!!!!!!!!!!!!!!描述 text you a vibrant-up of a human\\'s face, a slight mask on indicating used medical or nurse their text \"Theunteer for: A. Smith\\'.ull\\'. writtenaid on the. The text describes in a bold font white color scheme, with the doctor \\'Volunteer Spotlight\\' in bold and \\'Dr. Bill McCure\\' in white. The the text, there is a small image \\' reads \\'Vol for future generation of doctors\\' the.\\'<|im_end|> image and a blurred background and and the text in face is blurred by suggesting that medical on the medical\\'s appearance and the medical they do doing in.<|im_end|>\\n<|endoftext|>!!!!!!!!!!!!!!!!!!!!!!!!!!!!!!!!!!!!!!!!!!!!!!!!!!!!!!!!!!!!!!!!!!!!!!', '!!!!!!!!!!!!!!!!!!!!!!!!!!!!!!!!!!!!!!!!!!!!!!!!!!!!!!!!!!!!!!!!!!!!!!!!!!!!!!!!!!!抱歉 text is a from space sky, and its engines yellow of smoke and from the dark of the clear sky. a clouds. The rocket is body is aated and has, with a bright top. a longared tail. The rocket is filled with bright white bright pieces glowing-of-control stars spots, which the the rocket or other nearby sources. The\\n<|endoftext|>!!!!!!!!!!!!!!!!!!!!!!!!!!!!!!!!!!!!!!!!!!!!!!!!!!!!!!!!!!!!!!!!!!!!!!!!!!!!!!!!!!!!!!!!!!!!!!!!!!!!!!!!!!!!!!!!!!!!!!!!!!!', '!!!!!!!!!!!!!!!!!!!!!!!!!!!!!!!!!!!!!!!!!!!!!!!!!!!!!!!!!!!!!!!!!!!!!!!!!!!!!!!!!!!抱歉 text of characters is including of a father, a women, is described in the ocean. The man is wearing a blue shirt, theel, while the two are wearing swim snork blue snork, respectively. The are all swimming in the water of the water, with by a beautiful blue sky. no gentle range backdrop in the background. The text is a cloudy with with the temperature temperature calm and<|im_end|>\\n<|endoftext|>!!!!!!!!!!!!!!!!!!!!!!!!!!!!!!!!!!!!!!!!!!!!!!!!!!!!!!!!!!!!!!!!!!!!!!!!!!!!!!!!!!!!!!!!!!!!!!!!!!!!!!!!!!!!!!!!!']\n",
            "[4.498606908508754e-05]\n"
          ]
        },
        {
          "output_type": "display_data",
          "data": {
            "text/plain": [
              "<IPython.core.display.HTML object>"
            ],
            "text/html": [
              "\n",
              "<style>\n",
              "    /* Turns off some styling */\n",
              "    progress {\n",
              "        /* gets rid of default border in Firefox and Opera. */\n",
              "        border: none;\n",
              "        /* Needs to be in here for Safari polyfill so background images work as expected. */\n",
              "        background-size: auto;\n",
              "    }\n",
              "    progress:not([value]), progress:not([value])::-webkit-progress-bar {\n",
              "        background: repeating-linear-gradient(45deg, #7e7e7e, #7e7e7e 10px, #5c5c5c 10px, #5c5c5c 20px);\n",
              "    }\n",
              "    .progress-bar-interrupted, .progress-bar-interrupted::-webkit-progress-bar {\n",
              "        background: #F44336;\n",
              "    }\n",
              "</style>\n"
            ]
          },
          "metadata": {}
        },
        {
          "output_type": "display_data",
          "data": {
            "text/plain": [
              "<IPython.core.display.HTML object>"
            ],
            "text/html": [
              "\n",
              "    <div>\n",
              "      <progress value='113' class='' max='113' style='width:300px; height:20px; vertical-align: middle;'></progress>\n",
              "      100.00% [113/113 04:29&lt;00:00]\n",
              "    </div>\n",
              "    "
            ]
          },
          "metadata": {}
        },
        {
          "output_type": "stream",
          "name": "stdout",
          "text": [
            "epoch 9 : loss 12.746315002441406 : acc 0.4722593426704407\n",
            "train gt txt ['!!!!!!!!!!!!!!!!!!!!!!!!!!!!!!!!!!!!!!!!!!!!!!!!!!!!!!!!!!!!!!!!!!!!!!!!!!!!!!!!!!!A quaint stone village with traditional houses, some with wooden shutters and chimneys, is nestled in the mountains. The village is surrounded by lush greenery, and a cobblestone path leads through the scene. A wooden fence with a metal gate is visible in the foreground, and a clear blue sky is visible above the mountains.<|im_end|>\\n<|endoftext|>!!!!!!!!!!!!!!!!!!!!!!!!!!!!!!!!!!!!!!!!!!!!!!!!!!!!!!!!!!!!!!!!!!!!!!!!!!!!!!!!!!!!!!!!!!!!!!!!!!!!!!!!!!!!!!!!!!!!!!!!!!!!!!', '!!!!!!!!!!!!!!!!!!!!!!!!!!!!!!!!!!!!!!!!!!!!!!!!!!!!!!!!!!!!!!!!!!!!!!!!!!!!!!!!!!!A man with a beard and glasses is standing on a road with trees and a mountain in the background. He is wearing a black shirt and has a camera strap around his neck.<|im_end|>\\n<|endoftext|>!!!!!!!!!!!!!!!!!!!!!!!!!!!!!!!!!!!!!!!!!!!!!!!!!!!!!!!!!!!!!!!!!!!!!!!!!!!!!!!!!!!!!!!!!!!!!!!!!!!!!!!!!!!!!!!!!!!!!!!!!!!!!!!!!!!!!!!!!!!!!!!!!!!!!!!!!!!!!', \"!!!!!!!!!!!!!!!!!!!!!!!!!!!!!!!!!!!!!!!!!!!!!!!!!!!!!!!!!!!!!!!!!!!!!!!!!!!!!!!!!!!A bottle of Pisco Port\\\\xc3\\\\xb3n with a silver label and a clear glass body. The label features a stylized image of a building with a mountainous landscape in the background, and the text 'EST. 1994' and 'PISCO PORTON' are prominently displayed. The bottle is set against a dark background.<|im_end|>\\n<|endoftext|>!!!!!!!!!!!!!!!!!!!!!!!!!!!!!!!!!!!!!!!!!!!!!!!!!!!!!!!!!!!!!!!!!!!!!!!!!!!!!!!!!!!!!!!!!!!!!!!!!!!!!!!!!!!!!!!!!!!!!!!!!\"]\n",
            "train pred txt ['!!!!!!!!!!!!!!!!!!!!!!!!!!!!!!!!!!!!!!!!!!!!!!!!!!!!!!!!!!!!!!!!!!!!!!!!!!!!!!!!!!!The description village bridge, a architecture, a colorful wooden floorsters, othersneys, and the in the heart. The village is surrounded by lush greenery, with the windingblestone road leads to the village. The small bridge surrounds a sign fence is visible on the distance, and a small view sky is visible in. village. The\\n<|endoftext|>!!!!!!!!!!!!!!!!!!!!!!!!!!!!!!!!!!!!!!!!!!!!!!!!!!!!!!!!!!!!!!!!!!!!!!!!!!!!!!!!!!!!!!!!!!!!!!!!!!!!!!!!!!!!!!!!!!!!!!!!!!!!!!', '!!!!!!!!!!!!!!!!!!!!!!!!!!!!!!!!!!!!!!!!!!!!!!!!!!!!!!!!!!!!!!!!!!!!!!!!!!!!!!!!!!!抱歉 text named a beard and a, sitting in the street. a and a bridge in the background. The is wearing a white suit with a a beard in around his neck. The\\n<|endoftext|>!!!!!!!!!!!!!!!!!!!!!!!!!!!!!!!!!!!!!!!!!!!!!!!!!!!!!!!!!!!!!!!!!!!!!!!!!!!!!!!!!!!!!!!!!!!!!!!!!!!!!!!!!!!!!!!!!!!!!!!!!!!!!!!!!!!!!!!!!!!!!!!!!!!!!!!!!!!!!', '!!!!!!!!!!!!!!!!!!!!!!!!!!!!!!!!!!!!!!!!!!!!!!!!!!!!!!!!!!!!!!!!!!!!!!!!!!!!!!!!!!!I text of waterrou is is2\\\\xa1n is a sweet label, a label,..<|im_end|> bottle features a silverized logo of a bottle with a red range landscape, the background. symbol the bottle \"PABL P1998\\' is \\'P. PORT C\\' are written displayed. The bottle is in in a vibrant background,<|im_end|>\\n<|endoftext|>!!!!!!!!!!!!!!!!!!!!!!!!!!!!!!!!!!!!!!!!!!!!!!!!!!!!!!!!!!!!!!!!!!!!!!!!!!!!!!!!!!!!!!!!!!!!!!!!!!!!!!!!!!!!!!!!!!!!!!!!!']\n"
          ]
        },
        {
          "output_type": "display_data",
          "data": {
            "text/plain": [
              "<IPython.core.display.HTML object>"
            ],
            "text/html": [
              "\n",
              "<style>\n",
              "    /* Turns off some styling */\n",
              "    progress {\n",
              "        /* gets rid of default border in Firefox and Opera. */\n",
              "        border: none;\n",
              "        /* Needs to be in here for Safari polyfill so background images work as expected. */\n",
              "        background-size: auto;\n",
              "    }\n",
              "    progress:not([value]), progress:not([value])::-webkit-progress-bar {\n",
              "        background: repeating-linear-gradient(45deg, #7e7e7e, #7e7e7e 10px, #5c5c5c 10px, #5c5c5c 20px);\n",
              "    }\n",
              "    .progress-bar-interrupted, .progress-bar-interrupted::-webkit-progress-bar {\n",
              "        background: #F44336;\n",
              "    }\n",
              "</style>\n"
            ]
          },
          "metadata": {}
        },
        {
          "output_type": "display_data",
          "data": {
            "text/plain": [
              "<IPython.core.display.HTML object>"
            ],
            "text/html": [
              "\n",
              "    <div>\n",
              "      <progress value='13' class='' max='13' style='width:300px; height:20px; vertical-align: middle;'></progress>\n",
              "      100.00% [13/13 00:20&lt;00:00]\n",
              "    </div>\n",
              "    "
            ]
          },
          "metadata": {}
        },
        {
          "output_type": "stream",
          "name": "stdout",
          "text": [
            "epoch 9 : test acc 0.4833471477031708\n",
            "test gt txt [\"!!!!!!!!!!!!!!!!!!!!!!!!!!!!!!!!!!!!!!!!!!!!!!!!!!!!!!!!!!!!!!!!!!!!!!!!!!!!!!!!!!!The image features a close-up of a person's face with a surgical mask, likely a doctor, with the text 'Volunteer Spotlight: Dr. Bill McCure' overlaid on top. The text is in a red and white color scheme, with the words 'Volunteer Spotlight' in red and 'Dr. Bill McCure' in white. Below the text, there is a smaller text that reads 'Training the next generation of surgeons in Cuba'. The image has a dark background, and the person's face is illuminated, suggesting a focus on the doctor's identity and the work they are involved in.<|im_end|>\\n<|endoftext|>!!!!!!!!!!!!!!!!!!!!!!!!!!!!!!!!!!!!!!!!!!!!!!!!!!!!!!!!!!!!!!!!!!!!!!\", \"!!!!!!!!!!!!!!!!!!!!!!!!!!!!!!!!!!!!!!!!!!!!!!!!!!!!!!!!!!!!!!!!!!!!!!!!!!!!!!!!!!!A rocket is launching into the sky, with its bright trail of smoke visible against the backdrop of a blue sky with scattered clouds. The rocket's body is elongated and cylindrical, with a pointed tip and a flared base. The sky is dotted with small, round, out-of-focus light spots, possibly from the sun or other light sources.<|im_end|>\\n<|endoftext|>!!!!!!!!!!!!!!!!!!!!!!!!!!!!!!!!!!!!!!!!!!!!!!!!!!!!!!!!!!!!!!!!!!!!!!!!!!!!!!!!!!!!!!!!!!!!!!!!!!!!!!!!!!!!!!!!!!!!!!!!!!!\", '!!!!!!!!!!!!!!!!!!!!!!!!!!!!!!!!!!!!!!!!!!!!!!!!!!!!!!!!!!!!!!!!!!!!!!!!!!!!!!!!!!!A family of three, consisting of a man and two children, is swimming in the ocean. The man is wearing a green mask and snorkel, while the children are wearing pink and green masks, respectively. They are all floating near the surface of the water, surrounded by a clear blue ocean with a mountainous island in the background. The sky is partly cloudy, and the water is calm.<|im_end|>\\n<|endoftext|>!!!!!!!!!!!!!!!!!!!!!!!!!!!!!!!!!!!!!!!!!!!!!!!!!!!!!!!!!!!!!!!!!!!!!!!!!!!!!!!!!!!!!!!!!!!!!!!!!!!!!!!!!!!!!!!!!']\n",
            "test pred txt ['!!!!!!!!!!!!!!!!!!!!!!!!!!!!!!!!!!!!!!!!!!!!!!!!!!!!!!!!!!!!!!!!!!!!!!!!!!!!!!!!!!!描述 text you a vibrant-up of a human\\'s face, a slight mask on indicating indicating medical or wearing their text \"Theunteer for: A. Smith\\'.ull\\'. writtenaid on the. The text describes in a bold font white color scheme, with the doctor \\'Volunteer Spotlight\\' in bold and \\'Dr. Bill McCure\\' in white. The the text, there is a small image \\' reads \\'Vol for future generation of doctors\\' the.\\'<|im_end|> image and a blurred background and and the text in face is blurred by suggesting they medical on the medical\\'s appearance and the medical they do doing in.<|im_end|>\\n<|endoftext|>!!!!!!!!!!!!!!!!!!!!!!!!!!!!!!!!!!!!!!!!!!!!!!!!!!!!!!!!!!!!!!!!!!!!!!', '!!!!!!!!!!!!!!!!!!!!!!!!!!!!!!!!!!!!!!!!!!!!!!!!!!!!!!!!!!!!!!!!!!!!!!!!!!!!!!!!!!!抱歉 text is a from space sky, and its engines red of smoke and from the dark of the clear sky. a clouds. The rocket is body is aated and has, with a bright top. a longared tail. The rocket is filled with bright white bright pieces glowing-of-control stars spots, which the the rocket or other nearby sources. The\\n<|endoftext|>!!!!!!!!!!!!!!!!!!!!!!!!!!!!!!!!!!!!!!!!!!!!!!!!!!!!!!!!!!!!!!!!!!!!!!!!!!!!!!!!!!!!!!!!!!!!!!!!!!!!!!!!!!!!!!!!!!!!!!!!!!!', '!!!!!!!!!!!!!!!!!!!!!!!!!!!!!!!!!!!!!!!!!!!!!!!!!!!!!!!!!!!!!!!!!!!!!!!!!!!!!!!!!!!抱歉 text of characters is including of a father, a women, is described in the ocean. The man is wearing a red shirt, theel, while the two are wearing colorful snork blue snork, respectively. The are all swimming in the water of the water, with by a beautiful blue sky. no gentle range backdrop in the background. The text is a cloudy with and the temperature temperature calm and<|im_end|>\\n<|endoftext|>!!!!!!!!!!!!!!!!!!!!!!!!!!!!!!!!!!!!!!!!!!!!!!!!!!!!!!!!!!!!!!!!!!!!!!!!!!!!!!!!!!!!!!!!!!!!!!!!!!!!!!!!!!!!!!!!!']\n",
            "[4.371276870427753e-05]\n"
          ]
        },
        {
          "output_type": "display_data",
          "data": {
            "text/plain": [
              "<IPython.core.display.HTML object>"
            ],
            "text/html": [
              "\n",
              "<style>\n",
              "    /* Turns off some styling */\n",
              "    progress {\n",
              "        /* gets rid of default border in Firefox and Opera. */\n",
              "        border: none;\n",
              "        /* Needs to be in here for Safari polyfill so background images work as expected. */\n",
              "        background-size: auto;\n",
              "    }\n",
              "    progress:not([value]), progress:not([value])::-webkit-progress-bar {\n",
              "        background: repeating-linear-gradient(45deg, #7e7e7e, #7e7e7e 10px, #5c5c5c 10px, #5c5c5c 20px);\n",
              "    }\n",
              "    .progress-bar-interrupted, .progress-bar-interrupted::-webkit-progress-bar {\n",
              "        background: #F44336;\n",
              "    }\n",
              "</style>\n"
            ]
          },
          "metadata": {}
        },
        {
          "output_type": "display_data",
          "data": {
            "text/plain": [
              "<IPython.core.display.HTML object>"
            ],
            "text/html": [
              "\n",
              "    <div>\n",
              "      <progress value='113' class='' max='113' style='width:300px; height:20px; vertical-align: middle;'></progress>\n",
              "      100.00% [113/113 04:29&lt;00:00]\n",
              "    </div>\n",
              "    "
            ]
          },
          "metadata": {}
        },
        {
          "output_type": "stream",
          "name": "stdout",
          "text": [
            "epoch 10 : loss 12.74476146697998 : acc 0.47175365686416626\n",
            "train gt txt [\"!!!!!!!!!!!!!!!!!!!!!!!!!!!!!!!!!!!!!!!!!!!!!!!!!!!!!!!!!!!!!!!!!!!!!!!!!!!!!!!!!!!A stylized illustration of a pair of silver scissors with a black handle, positioned vertically on a white background. Above the scissors, there is a banner with the word 'JEWELRY' in yellow, surrounded by a black border with a diamond and a star design. Below the scissors, there is a red gemstone with a yellow center, and a smaller red gemstone with a yellow center is placed on the banner.<|im_end|>\\n<|endoftext|>!!!!!!!!!!!!!!!!!!!!!!!!!!!!!!!!!!!!!!!!!!!!!!!!!!!!!!!!!!!!!!!!!!!!!!!!!!!!!!!!!!!!!!!!!!!!!!!!!!!!!!!!!!!\", '!!!!!!!!!!!!!!!!!!!!!!!!!!!!!!!!!!!!!!!!!!!!!!!!!!!!!!!!!!!!!!!!!!!!!!!!!!!!!!!!!!!A stack of chocolate-covered caramel bars with nuts is placed on a surface. The bars are neatly arranged, with the top bar slightly overlapping the one below it. The chocolate coating is smooth and glossy, and the caramel is visible through the chocolate. The nuts are evenly distributed across the bars, adding a crunchy texture. In the background, there is a red and white checkered cloth with a small green plant on it.<|im_end|>\\n<|endoftext|>!!!!!!!!!!!!!!!!!!!!!!!!!!!!!!!!!!!!!!!!!!!!!!!!!!!!!!!!!!!!!!!!!!!!!!!!!!!!!!!!!!!!!!!!!!!!!!!!!!!!!!!!!!!!!', \"!!!!!!!!!!!!!!!!!!!!!!!!!!!!!!!!!!!!!!!!!!!!!!!!!!!!!!!!!!!!!!!!!!!!!!!!!!!!!!!!!!!The second image is a promotional poster for a stage show called 'HAIDSPRAY'. The poster features a vibrant and colorful design with a group of performers on stage, dressed in various costumes, dancing and performing. The background is a dark blue stage with a spotlight effect, and the performers are silhouetted against it. The title 'HAIDSPRAY' is prominently displayed in large, bold letters across the top of the poster, with each letter in a different color. The poster has a lively and energetic feel, with a focus on the performers and the excitement of the stage show.<|im_end|>\\n<|endoftext|>!!!!!!!!!!!!!!!!!!!!!!!!!!!!!!!!!!!!!!!!!!!!!!!!!!!!!!!!!!!!!!!!!!!!!!!!!\"]\n",
            "train pred txt ['!!!!!!!!!!!!!!!!!!!!!!!!!!!!!!!!!!!!!!!!!!!!!!!!!!!!!!!!!!!!!!!!!!!!!!!!!!!!!!!!!!!I textized text of a human of human-colored, a sharp background and a on. a white background. The the scissors, there is a text with the text \"CutiELRY\\' written bold letters and by a white border. a white shape a heart symbol. The the banner, there is a white backgroundstone with a black star, surrounded a black gem gemstone with a yellow center. positioned in the background. The\\n<|endoftext|>!!!!!!!!!!!!!!!!!!!!!!!!!!!!!!!!!!!!!!!!!!!!!!!!!!!!!!!!!!!!!!!!!!!!!!!!!!!!!!!!!!!!!!!!!!!!!!!!!!!!!!!!!!!', '!!!!!!!!!!!!!!!!!!!!!!!!!!!!!!!!!!!!!!!!!!!!!!!!!!!!!!!!!!!!!!!!!!!!!!!!!!!!!!!!!!!I text of paper cake strawberries apples. a and a on a plate.<|im_end|> text are arranged arranged, with a chocolate one being higher the bottom below it. The text is is slightly and slightly, with the nuts bars slightly, the layers. The surface are small distributed, the surface, with a crunchy texture to The the background, a is a clear background white backgroundered pattern, a small, check, it. The\\n<|endoftext|>!!!!!!!!!!!!!!!!!!!!!!!!!!!!!!!!!!!!!!!!!!!!!!!!!!!!!!!!!!!!!!!!!!!!!!!!!!!!!!!!!!!!!!!!!!!!!!!!!!!!!!!!!!!!!', '!!!!!!!!!!!!!!!!!!!!!!!!!!!!!!!!!!!!!!!!!!!!!!!!!!!!!!!!!!!!!!!!!!!!!!!!!!!!!!!!!!!抱歉 text paragraph is a description text for a book production called \"TheHAUER\\'. The text features a beautiful, colorful background, a variety of people in the, performing in their costumes and performing and performing. The text of a bright and color with a spotlight on, creating the text are dressedhouetted against the, The text ofHAIDSPRAY\\' is written displayed in a letters bold letters, the top of the poster, with a word being a different color. The text also a clean and energetic feel to with the sense on the performers and the stage of the show show.<|im_end|>\\n<|endoftext|>!!!!!!!!!!!!!!!!!!!!!!!!!!!!!!!!!!!!!!!!!!!!!!!!!!!!!!!!!!!!!!!!!!!!!!!!!']\n"
          ]
        },
        {
          "output_type": "display_data",
          "data": {
            "text/plain": [
              "<IPython.core.display.HTML object>"
            ],
            "text/html": [
              "\n",
              "<style>\n",
              "    /* Turns off some styling */\n",
              "    progress {\n",
              "        /* gets rid of default border in Firefox and Opera. */\n",
              "        border: none;\n",
              "        /* Needs to be in here for Safari polyfill so background images work as expected. */\n",
              "        background-size: auto;\n",
              "    }\n",
              "    progress:not([value]), progress:not([value])::-webkit-progress-bar {\n",
              "        background: repeating-linear-gradient(45deg, #7e7e7e, #7e7e7e 10px, #5c5c5c 10px, #5c5c5c 20px);\n",
              "    }\n",
              "    .progress-bar-interrupted, .progress-bar-interrupted::-webkit-progress-bar {\n",
              "        background: #F44336;\n",
              "    }\n",
              "</style>\n"
            ]
          },
          "metadata": {}
        },
        {
          "output_type": "display_data",
          "data": {
            "text/plain": [
              "<IPython.core.display.HTML object>"
            ],
            "text/html": [
              "\n",
              "    <div>\n",
              "      <progress value='13' class='' max='13' style='width:300px; height:20px; vertical-align: middle;'></progress>\n",
              "      100.00% [13/13 00:20&lt;00:00]\n",
              "    </div>\n",
              "    "
            ]
          },
          "metadata": {}
        },
        {
          "output_type": "stream",
          "name": "stdout",
          "text": [
            "epoch 10 : test acc 0.4831814467906952\n",
            "test gt txt [\"!!!!!!!!!!!!!!!!!!!!!!!!!!!!!!!!!!!!!!!!!!!!!!!!!!!!!!!!!!!!!!!!!!!!!!!!!!!!!!!!!!!The image features a close-up of a person's face with a surgical mask, likely a doctor, with the text 'Volunteer Spotlight: Dr. Bill McCure' overlaid on top. The text is in a red and white color scheme, with the words 'Volunteer Spotlight' in red and 'Dr. Bill McCure' in white. Below the text, there is a smaller text that reads 'Training the next generation of surgeons in Cuba'. The image has a dark background, and the person's face is illuminated, suggesting a focus on the doctor's identity and the work they are involved in.<|im_end|>\\n<|endoftext|>!!!!!!!!!!!!!!!!!!!!!!!!!!!!!!!!!!!!!!!!!!!!!!!!!!!!!!!!!!!!!!!!!!!!!!\", \"!!!!!!!!!!!!!!!!!!!!!!!!!!!!!!!!!!!!!!!!!!!!!!!!!!!!!!!!!!!!!!!!!!!!!!!!!!!!!!!!!!!A rocket is launching into the sky, with its bright trail of smoke visible against the backdrop of a blue sky with scattered clouds. The rocket's body is elongated and cylindrical, with a pointed tip and a flared base. The sky is dotted with small, round, out-of-focus light spots, possibly from the sun or other light sources.<|im_end|>\\n<|endoftext|>!!!!!!!!!!!!!!!!!!!!!!!!!!!!!!!!!!!!!!!!!!!!!!!!!!!!!!!!!!!!!!!!!!!!!!!!!!!!!!!!!!!!!!!!!!!!!!!!!!!!!!!!!!!!!!!!!!!!!!!!!!!\", '!!!!!!!!!!!!!!!!!!!!!!!!!!!!!!!!!!!!!!!!!!!!!!!!!!!!!!!!!!!!!!!!!!!!!!!!!!!!!!!!!!!A family of three, consisting of a man and two children, is swimming in the ocean. The man is wearing a green mask and snorkel, while the children are wearing pink and green masks, respectively. They are all floating near the surface of the water, surrounded by a clear blue ocean with a mountainous island in the background. The sky is partly cloudy, and the water is calm.<|im_end|>\\n<|endoftext|>!!!!!!!!!!!!!!!!!!!!!!!!!!!!!!!!!!!!!!!!!!!!!!!!!!!!!!!!!!!!!!!!!!!!!!!!!!!!!!!!!!!!!!!!!!!!!!!!!!!!!!!!!!!!!!!!!']\n",
            "test pred txt ['!!!!!!!!!!!!!!!!!!!!!!!!!!!!!!!!!!!!!!!!!!!!!!!!!!!!!!!!!!!!!!!!!!!!!!!!!!!!!!!!!!!描述 text you a vibrant-up of a human\\'s face, a slight mask on indicating used medical or wearing their text \"Theunteer for: A. Smith\\'.ull\\' writtenaid on the. The text describes in a bold font white color scheme, with the doctor \\'Volunteer Spotlight\\' in bold and \\'Dr. Bill McCure\\' in white. The the text, there is a small image \\' reads \\'Vol for future generation of doctors\\' the.\\'<|im_end|> image and a blurred background and and the text in face is blurred by suggesting a medical on the medical\\'s appearance and the medical they do doing in.<|im_end|>\\n<|endoftext|>!!!!!!!!!!!!!!!!!!!!!!!!!!!!!!!!!!!!!!!!!!!!!!!!!!!!!!!!!!!!!!!!!!!!!!', '!!!!!!!!!!!!!!!!!!!!!!!!!!!!!!!!!!!!!!!!!!!!!!!!!!!!!!!!!!!!!!!!!!!!!!!!!!!!!!!!!!!抱歉 text is a from space sky, and its engines yellow of smoke and from the sky of the clear sky. a clouds. The rocket is body is aated and has, with a bright top. a longared tail. The rocket is filled with bright white bright pieces glowing-of-control stars spots, which the the rocket or other nearby sources. The\\n<|endoftext|>!!!!!!!!!!!!!!!!!!!!!!!!!!!!!!!!!!!!!!!!!!!!!!!!!!!!!!!!!!!!!!!!!!!!!!!!!!!!!!!!!!!!!!!!!!!!!!!!!!!!!!!!!!!!!!!!!!!!!!!!!!!', '!!!!!!!!!!!!!!!!!!!!!!!!!!!!!!!!!!!!!!!!!!!!!!!!!!!!!!!!!!!!!!!!!!!!!!!!!!!!!!!!!!!抱歉 text of characters is including of a father, a women, is described in the ocean. The man is wearing a blue shirt, theel, while the two are wearing colorful snork blue snork, respectively. The are all swimming in the water of the water, with by a beautiful blue sky. no gentle range background in the background. The text is a cloudy, and the temperature temperature calm and<|im_end|>\\n<|endoftext|>!!!!!!!!!!!!!!!!!!!!!!!!!!!!!!!!!!!!!!!!!!!!!!!!!!!!!!!!!!!!!!!!!!!!!!!!!!!!!!!!!!!!!!!!!!!!!!!!!!!!!!!!!!!!!!!!!']\n",
            "[4.231810883773999e-05]\n"
          ]
        },
        {
          "output_type": "display_data",
          "data": {
            "text/plain": [
              "<IPython.core.display.HTML object>"
            ],
            "text/html": [
              "\n",
              "<style>\n",
              "    /* Turns off some styling */\n",
              "    progress {\n",
              "        /* gets rid of default border in Firefox and Opera. */\n",
              "        border: none;\n",
              "        /* Needs to be in here for Safari polyfill so background images work as expected. */\n",
              "        background-size: auto;\n",
              "    }\n",
              "    progress:not([value]), progress:not([value])::-webkit-progress-bar {\n",
              "        background: repeating-linear-gradient(45deg, #7e7e7e, #7e7e7e 10px, #5c5c5c 10px, #5c5c5c 20px);\n",
              "    }\n",
              "    .progress-bar-interrupted, .progress-bar-interrupted::-webkit-progress-bar {\n",
              "        background: #F44336;\n",
              "    }\n",
              "</style>\n"
            ]
          },
          "metadata": {}
        },
        {
          "output_type": "display_data",
          "data": {
            "text/plain": [
              "<IPython.core.display.HTML object>"
            ],
            "text/html": [
              "\n",
              "    <div>\n",
              "      <progress value='113' class='' max='113' style='width:300px; height:20px; vertical-align: middle;'></progress>\n",
              "      100.00% [113/113 04:29&lt;00:00]\n",
              "    </div>\n",
              "    "
            ]
          },
          "metadata": {}
        },
        {
          "output_type": "stream",
          "name": "stdout",
          "text": [
            "epoch 11 : loss 12.749992370605469 : acc 0.4723135232925415\n",
            "train gt txt ['!!!!!!!!!!!!!!!!!!!!!!!!!!!!!!!!!!!!!!!!!!!!!!!!!!!!!!!!!!!!!!!!!!!!!!!!!!!!!!!!!!!A young boy with red hair is standing by a lake, holding a fishing rod with a lure attached to the end. His eyes are focused on the water, and he appears to be waiting for a bite. The boy is wearing a black jacket and is surrounded by a serene natural environment with trees and calm water.<|im_end|>\\n<|endoftext|>!!!!!!!!!!!!!!!!!!!!!!!!!!!!!!!!!!!!!!!!!!!!!!!!!!!!!!!!!!!!!!!!!!!!!!!!!!!!!!!!!!!!!!!!!!!!!!!!!!!!!!!!!!!!!!!!!!!!!!!!!!!!!!!!!!', \"!!!!!!!!!!!!!!!!!!!!!!!!!!!!!!!!!!!!!!!!!!!!!!!!!!!!!!!!!!!!!!!!!!!!!!!!!!!!!!!!!!!A set of silver screwdrivers with a blue plastic handle is displayed on a white background. The screwdrivers have a black and yellow label with Chinese characters and the words 'EXPLOSIVE LOW PRICE PRODUCT QUALITY ASSURANCE'. The label also has a barcode and the number '2'.<|im_end|>\\n<|endoftext|>!!!!!!!!!!!!!!!!!!!!!!!!!!!!!!!!!!!!!!!!!!!!!!!!!!!!!!!!!!!!!!!!!!!!!!!!!!!!!!!!!!!!!!!!!!!!!!!!!!!!!!!!!!!!!!!!!!!!!!!!!!!!!!!!!!!!!!!\", '!!!!!!!!!!!!!!!!!!!!!!!!!!!!!!!!!!!!!!!!!!!!!!!!!!!!!!!!!!!!!!!!!!!!!!!!!!!!!!!!!!!A silver hockey puck with a black stripe is placed on a white background.<|im_end|>\\n<|endoftext|>!!!!!!!!!!!!!!!!!!!!!!!!!!!!!!!!!!!!!!!!!!!!!!!!!!!!!!!!!!!!!!!!!!!!!!!!!!!!!!!!!!!!!!!!!!!!!!!!!!!!!!!!!!!!!!!!!!!!!!!!!!!!!!!!!!!!!!!!!!!!!!!!!!!!!!!!!!!!!!!!!!!!!!!!!!!!!!!!!!']\n",
            "train pred txt ['!!!!!!!!!!!!!!!!!!!!!!!!!!!!!!!!!!!!!!!!!!!!!!!!!!!!!!!!!!!!!!!!!!!!!!!!!!!!!!!!!!!对不起 text, is a hair and playing in a tree, looking a small rod in both small in to it end. The eyes are fixed on the water, and he seems to be in for something good from The text is wearing a blue shirt and a wearing by a group, landscape, trees and a water. The\\n<|endoftext|>!!!!!!!!!!!!!!!!!!!!!!!!!!!!!!!!!!!!!!!!!!!!!!!!!!!!!!!!!!!!!!!!!!!!!!!!!!!!!!!!!!!!!!!!!!!!!!!!!!!!!!!!!!!!!!!!!!!!!!!!!!!!!!!!!!', '!!!!!!!!!!!!!!!!!!!!!!!!!!!!!!!!!!!!!!!!!!!!!!!!!!!!!!!!!!!!!!!!!!!!!!!!!!!!!!!!!!!抱歉 text of instructions coins-shaped, a diameter handle handle and shown on a shelf table. The handledriver are a black handle white finish on the characters on a text \"silverLOIVE\\'\\'\\'\\'.ITY CONTROLUREDANCE\\'.<|im_end|> label also has a red and a product \\'10<|im_end|>\\n<|endoftext|>!!!!!!!!!!!!!!!!!!!!!!!!!!!!!!!!!!!!!!!!!!!!!!!!!!!!!!!!!!!!!!!!!!!!!!!!!!!!!!!!!!!!!!!!!!!!!!!!!!!!!!!!!!!!!!!!!!!!!!!!!!!!!!!!!!!!!!!', '!!!!!!!!!!!!!!!!!!!!!!!!!!!!!!!!!!!!!!!!!!!!!!!!!!!!!!!!!!!!!!!!!!!!!!!!!!!!!!!!!!!I text-haired puck is a bright face on sliding on the white background. The\\n<|endoftext|>!!!!!!!!!!!!!!!!!!!!!!!!!!!!!!!!!!!!!!!!!!!!!!!!!!!!!!!!!!!!!!!!!!!!!!!!!!!!!!!!!!!!!!!!!!!!!!!!!!!!!!!!!!!!!!!!!!!!!!!!!!!!!!!!!!!!!!!!!!!!!!!!!!!!!!!!!!!!!!!!!!!!!!!!!!!!!!!!!!']\n"
          ]
        },
        {
          "output_type": "display_data",
          "data": {
            "text/plain": [
              "<IPython.core.display.HTML object>"
            ],
            "text/html": [
              "\n",
              "<style>\n",
              "    /* Turns off some styling */\n",
              "    progress {\n",
              "        /* gets rid of default border in Firefox and Opera. */\n",
              "        border: none;\n",
              "        /* Needs to be in here for Safari polyfill so background images work as expected. */\n",
              "        background-size: auto;\n",
              "    }\n",
              "    progress:not([value]), progress:not([value])::-webkit-progress-bar {\n",
              "        background: repeating-linear-gradient(45deg, #7e7e7e, #7e7e7e 10px, #5c5c5c 10px, #5c5c5c 20px);\n",
              "    }\n",
              "    .progress-bar-interrupted, .progress-bar-interrupted::-webkit-progress-bar {\n",
              "        background: #F44336;\n",
              "    }\n",
              "</style>\n"
            ]
          },
          "metadata": {}
        },
        {
          "output_type": "display_data",
          "data": {
            "text/plain": [
              "<IPython.core.display.HTML object>"
            ],
            "text/html": [
              "\n",
              "    <div>\n",
              "      <progress value='13' class='' max='13' style='width:300px; height:20px; vertical-align: middle;'></progress>\n",
              "      100.00% [13/13 00:20&lt;00:00]\n",
              "    </div>\n",
              "    "
            ]
          },
          "metadata": {}
        },
        {
          "output_type": "stream",
          "name": "stdout",
          "text": [
            "epoch 11 : test acc 0.48268434405326843\n",
            "test gt txt [\"!!!!!!!!!!!!!!!!!!!!!!!!!!!!!!!!!!!!!!!!!!!!!!!!!!!!!!!!!!!!!!!!!!!!!!!!!!!!!!!!!!!The image features a close-up of a person's face with a surgical mask, likely a doctor, with the text 'Volunteer Spotlight: Dr. Bill McCure' overlaid on top. The text is in a red and white color scheme, with the words 'Volunteer Spotlight' in red and 'Dr. Bill McCure' in white. Below the text, there is a smaller text that reads 'Training the next generation of surgeons in Cuba'. The image has a dark background, and the person's face is illuminated, suggesting a focus on the doctor's identity and the work they are involved in.<|im_end|>\\n<|endoftext|>!!!!!!!!!!!!!!!!!!!!!!!!!!!!!!!!!!!!!!!!!!!!!!!!!!!!!!!!!!!!!!!!!!!!!!\", \"!!!!!!!!!!!!!!!!!!!!!!!!!!!!!!!!!!!!!!!!!!!!!!!!!!!!!!!!!!!!!!!!!!!!!!!!!!!!!!!!!!!A rocket is launching into the sky, with its bright trail of smoke visible against the backdrop of a blue sky with scattered clouds. The rocket's body is elongated and cylindrical, with a pointed tip and a flared base. The sky is dotted with small, round, out-of-focus light spots, possibly from the sun or other light sources.<|im_end|>\\n<|endoftext|>!!!!!!!!!!!!!!!!!!!!!!!!!!!!!!!!!!!!!!!!!!!!!!!!!!!!!!!!!!!!!!!!!!!!!!!!!!!!!!!!!!!!!!!!!!!!!!!!!!!!!!!!!!!!!!!!!!!!!!!!!!!\", '!!!!!!!!!!!!!!!!!!!!!!!!!!!!!!!!!!!!!!!!!!!!!!!!!!!!!!!!!!!!!!!!!!!!!!!!!!!!!!!!!!!A family of three, consisting of a man and two children, is swimming in the ocean. The man is wearing a green mask and snorkel, while the children are wearing pink and green masks, respectively. They are all floating near the surface of the water, surrounded by a clear blue ocean with a mountainous island in the background. The sky is partly cloudy, and the water is calm.<|im_end|>\\n<|endoftext|>!!!!!!!!!!!!!!!!!!!!!!!!!!!!!!!!!!!!!!!!!!!!!!!!!!!!!!!!!!!!!!!!!!!!!!!!!!!!!!!!!!!!!!!!!!!!!!!!!!!!!!!!!!!!!!!!!']\n",
            "test pred txt ['!!!!!!!!!!!!!!!!!!!!!!!!!!!!!!!!!!!!!!!!!!!!!!!!!!!!!!!!!!!!!!!!!!!!!!!!!!!!!!!!!!!描述 text you a vibrant-up of a human\\'s face, a slight mask on indicating wearing medical or nurse their text \"Theunteer for: A. Smith\\'.ull\\'. writtenaid on the. The text describes in a bold font white color scheme, with the doctor \"Volunteer Spotlight\\' in bold and \\'Dr. Bill McCure\\' in white. The the text, there is a small image \\' reads \\'Vol for future generation of doctors\\' the.\\'<|im_end|> image and a blurred background and and the text in face is blurred by with that medical on the medical\\'s appearance and the medical they do doing in.<|im_end|>\\n<|endoftext|>!!!!!!!!!!!!!!!!!!!!!!!!!!!!!!!!!!!!!!!!!!!!!!!!!!!!!!!!!!!!!!!!!!!!!!', '!!!!!!!!!!!!!!!!!!!!!!!!!!!!!!!!!!!!!!!!!!!!!!!!!!!!!!!!!!!!!!!!!!!!!!!!!!!!!!!!!!!抱歉 text is a from space sky, and its engines yellow of smoke and from the dark of the clear sky. a clouds. The rocket is body is aated and has, with a bright top. a longared tail. The rocket is filled with bright white bright pieces glowing-of-control stars spots, which the the rocket or other nearby sources. The\\n<|endoftext|>!!!!!!!!!!!!!!!!!!!!!!!!!!!!!!!!!!!!!!!!!!!!!!!!!!!!!!!!!!!!!!!!!!!!!!!!!!!!!!!!!!!!!!!!!!!!!!!!!!!!!!!!!!!!!!!!!!!!!!!!!!!', '!!!!!!!!!!!!!!!!!!!!!!!!!!!!!!!!!!!!!!!!!!!!!!!!!!!!!!!!!!!!!!!!!!!!!!!!!!!!!!!!!!!抱歉 text of characters is including of a father, a women, is traveling in the ocean. The man is wearing a red shirt, theel, while the two are wearing colorful snork blue snork, respectively. The are all swimming in the water of the water, with by a beautiful blue sky. no gentle range background in the background. The text is a cloudy, and the temperature temperature calm and<|im_end|>\\n<|endoftext|>!!!!!!!!!!!!!!!!!!!!!!!!!!!!!!!!!!!!!!!!!!!!!!!!!!!!!!!!!!!!!!!!!!!!!!!!!!!!!!!!!!!!!!!!!!!!!!!!!!!!!!!!!!!!!!!!!']\n",
            "[4.0811134389884433e-05]\n"
          ]
        },
        {
          "output_type": "display_data",
          "data": {
            "text/plain": [
              "<IPython.core.display.HTML object>"
            ],
            "text/html": [
              "\n",
              "<style>\n",
              "    /* Turns off some styling */\n",
              "    progress {\n",
              "        /* gets rid of default border in Firefox and Opera. */\n",
              "        border: none;\n",
              "        /* Needs to be in here for Safari polyfill so background images work as expected. */\n",
              "        background-size: auto;\n",
              "    }\n",
              "    progress:not([value]), progress:not([value])::-webkit-progress-bar {\n",
              "        background: repeating-linear-gradient(45deg, #7e7e7e, #7e7e7e 10px, #5c5c5c 10px, #5c5c5c 20px);\n",
              "    }\n",
              "    .progress-bar-interrupted, .progress-bar-interrupted::-webkit-progress-bar {\n",
              "        background: #F44336;\n",
              "    }\n",
              "</style>\n"
            ]
          },
          "metadata": {}
        },
        {
          "output_type": "display_data",
          "data": {
            "text/plain": [
              "<IPython.core.display.HTML object>"
            ],
            "text/html": [
              "\n",
              "    <div>\n",
              "      <progress value='113' class='' max='113' style='width:300px; height:20px; vertical-align: middle;'></progress>\n",
              "      100.00% [113/113 04:29&lt;00:00]\n",
              "    </div>\n",
              "    "
            ]
          },
          "metadata": {}
        },
        {
          "output_type": "stream",
          "name": "stdout",
          "text": [
            "epoch 12 : loss 12.748488426208496 : acc 0.47254830598831177\n",
            "train gt txt ['!!!!!!!!!!!!!!!!!!!!!!!!!!!!!!!!!!!!!!!!!!!!!!!!!!!!!!!!!!!!!!!!!!!!!!!!!!!!!!!!!!!A black and white color palette is placed on a pink fabric, which is rolled up and placed on a wooden floor. The color palette has a variety of colors, including shades of pink, purple, and blue.<|im_end|>\\n<|endoftext|>!!!!!!!!!!!!!!!!!!!!!!!!!!!!!!!!!!!!!!!!!!!!!!!!!!!!!!!!!!!!!!!!!!!!!!!!!!!!!!!!!!!!!!!!!!!!!!!!!!!!!!!!!!!!!!!!!!!!!!!!!!!!!!!!!!!!!!!!!!!!!!!!!!!!!!', '!!!!!!!!!!!!!!!!!!!!!!!!!!!!!!!!!!!!!!!!!!!!!!!!!!!!!!!!!!!!!!!!!!!!!!!!!!!!!!!!!!!A person is riding a three-wheeled cart down a road, with a stuffed animal on the back. The road is lined with a barrier on the right side, and there is a sign on the left side indicating a no right turn. The person is wearing a red jacket and a helmet.<|im_end|>\\n<|endoftext|>!!!!!!!!!!!!!!!!!!!!!!!!!!!!!!!!!!!!!!!!!!!!!!!!!!!!!!!!!!!!!!!!!!!!!!!!!!!!!!!!!!!!!!!!!!!!!!!!!!!!!!!!!!!!!!!!!!!!!!!!!!!!!!!!!!!!!', '!!!!!!!!!!!!!!!!!!!!!!!!!!!!!!!!!!!!!!!!!!!!!!!!!!!!!!!!!!!!!!!!!!!!!!!!!!!!!!!!!!!A child is standing in a room with a colorful playhouse and a toy shark in front of them. The child is wearing a red shirt with a cartoon character on it and gray shorts. To the left of the child, there is a cartoon character resembling a panda with headphones, and to the right, there is another cartoon character resembling a cat with a pink face and green eyes.<|im_end|>\\n<|endoftext|>!!!!!!!!!!!!!!!!!!!!!!!!!!!!!!!!!!!!!!!!!!!!!!!!!!!!!!!!!!!!!!!!!!!!!!!!!!!!!!!!!!!!!!!!!!!!!!!!!!!!!!!!!!!!!!!!!!!!']\n",
            "train pred txt ['!!!!!!!!!!!!!!!!!!!!!!!!!!!!!!!!!!!!!!!!!!!!!!!!!!!!!!!!!!!!!!!!!!!!!!!!!!!!!!!!!!!The text box white cat,, a in the white background, symbol is a up into placed on a green table. The fabric palette is a vibrant of colors, including shades of blue, blue, and blue. The\\n<|endoftext|>!!!!!!!!!!!!!!!!!!!!!!!!!!!!!!!!!!!!!!!!!!!!!!!!!!!!!!!!!!!!!!!!!!!!!!!!!!!!!!!!!!!!!!!!!!!!!!!!!!!!!!!!!!!!!!!!!!!!!!!!!!!!!!!!!!!!!!!!!!!!!!!!!!!!!!', '!!!!!!!!!!!!!!!!!!!!!!!!!!!!!!!!!!!!!!!!!!!!!!!!!!!!!!!!!!!!!!!!!!!!!!!!!!!!!!!!!!!I text\\'s a a bicycle-wheeled motorcycle, a road. and a red animal on the front. The cart is wide with trees variety, both left,, and the are a sign on the left that that \" speed-go turn sign The cart is trying a helmet helmet and a blue,<|im_end|>\\n<|endoftext|>!!!!!!!!!!!!!!!!!!!!!!!!!!!!!!!!!!!!!!!!!!!!!!!!!!!!!!!!!!!!!!!!!!!!!!!!!!!!!!!!!!!!!!!!!!!!!!!!!!!!!!!!!!!!!!!!!!!!!!!!!!!!!!!!!!!!!', \"!!!!!!!!!!!!!!!!!!!!!!!!!!!!!!!!!!!!!!!!!!!!!!!!!!!!!!!!!!!!!!!!!!!!!!!!!!!!!!!!!!!对不起 text's a in the room, a large tape area. a large car. the of them. The child is looking a red shirt and a gold character on it. a pants. The the left of the child, there is a toy character with a cat. a on while to the right, there is a cartoon character resembling a shark with a bow bow. a eyes. The\\n<|endoftext|>!!!!!!!!!!!!!!!!!!!!!!!!!!!!!!!!!!!!!!!!!!!!!!!!!!!!!!!!!!!!!!!!!!!!!!!!!!!!!!!!!!!!!!!!!!!!!!!!!!!!!!!!!!!!!!!!!!!!\"]\n"
          ]
        },
        {
          "output_type": "display_data",
          "data": {
            "text/plain": [
              "<IPython.core.display.HTML object>"
            ],
            "text/html": [
              "\n",
              "<style>\n",
              "    /* Turns off some styling */\n",
              "    progress {\n",
              "        /* gets rid of default border in Firefox and Opera. */\n",
              "        border: none;\n",
              "        /* Needs to be in here for Safari polyfill so background images work as expected. */\n",
              "        background-size: auto;\n",
              "    }\n",
              "    progress:not([value]), progress:not([value])::-webkit-progress-bar {\n",
              "        background: repeating-linear-gradient(45deg, #7e7e7e, #7e7e7e 10px, #5c5c5c 10px, #5c5c5c 20px);\n",
              "    }\n",
              "    .progress-bar-interrupted, .progress-bar-interrupted::-webkit-progress-bar {\n",
              "        background: #F44336;\n",
              "    }\n",
              "</style>\n"
            ]
          },
          "metadata": {}
        },
        {
          "output_type": "display_data",
          "data": {
            "text/plain": [
              "<IPython.core.display.HTML object>"
            ],
            "text/html": [
              "\n",
              "    <div>\n",
              "      <progress value='13' class='' max='13' style='width:300px; height:20px; vertical-align: middle;'></progress>\n",
              "      100.00% [13/13 00:20&lt;00:00]\n",
              "    </div>\n",
              "    "
            ]
          },
          "metadata": {}
        },
        {
          "output_type": "stream",
          "name": "stdout",
          "text": [
            "epoch 12 : test acc 0.4843413531780243\n",
            "test gt txt [\"!!!!!!!!!!!!!!!!!!!!!!!!!!!!!!!!!!!!!!!!!!!!!!!!!!!!!!!!!!!!!!!!!!!!!!!!!!!!!!!!!!!The image features a close-up of a person's face with a surgical mask, likely a doctor, with the text 'Volunteer Spotlight: Dr. Bill McCure' overlaid on top. The text is in a red and white color scheme, with the words 'Volunteer Spotlight' in red and 'Dr. Bill McCure' in white. Below the text, there is a smaller text that reads 'Training the next generation of surgeons in Cuba'. The image has a dark background, and the person's face is illuminated, suggesting a focus on the doctor's identity and the work they are involved in.<|im_end|>\\n<|endoftext|>!!!!!!!!!!!!!!!!!!!!!!!!!!!!!!!!!!!!!!!!!!!!!!!!!!!!!!!!!!!!!!!!!!!!!!\", \"!!!!!!!!!!!!!!!!!!!!!!!!!!!!!!!!!!!!!!!!!!!!!!!!!!!!!!!!!!!!!!!!!!!!!!!!!!!!!!!!!!!A rocket is launching into the sky, with its bright trail of smoke visible against the backdrop of a blue sky with scattered clouds. The rocket's body is elongated and cylindrical, with a pointed tip and a flared base. The sky is dotted with small, round, out-of-focus light spots, possibly from the sun or other light sources.<|im_end|>\\n<|endoftext|>!!!!!!!!!!!!!!!!!!!!!!!!!!!!!!!!!!!!!!!!!!!!!!!!!!!!!!!!!!!!!!!!!!!!!!!!!!!!!!!!!!!!!!!!!!!!!!!!!!!!!!!!!!!!!!!!!!!!!!!!!!!\", '!!!!!!!!!!!!!!!!!!!!!!!!!!!!!!!!!!!!!!!!!!!!!!!!!!!!!!!!!!!!!!!!!!!!!!!!!!!!!!!!!!!A family of three, consisting of a man and two children, is swimming in the ocean. The man is wearing a green mask and snorkel, while the children are wearing pink and green masks, respectively. They are all floating near the surface of the water, surrounded by a clear blue ocean with a mountainous island in the background. The sky is partly cloudy, and the water is calm.<|im_end|>\\n<|endoftext|>!!!!!!!!!!!!!!!!!!!!!!!!!!!!!!!!!!!!!!!!!!!!!!!!!!!!!!!!!!!!!!!!!!!!!!!!!!!!!!!!!!!!!!!!!!!!!!!!!!!!!!!!!!!!!!!!!']\n",
            "test pred txt ['!!!!!!!!!!!!!!!!!!!!!!!!!!!!!!!!!!!!!!!!!!!!!!!!!!!!!!!!!!!!!!!!!!!!!!!!!!!!!!!!!!!描述 text you a vibrant-up of a human\\'s face, a slight mask on indicating used medical or nurse their text \"Theunteer for: A. Smith\\'.ull\\' writtenaid on the. The text describes in a bold font white color scheme, with the doctor \\'Volunteer Spotlight\\' in bold and \\'Dr. Bill McCure\\' in white. The the text, there is a small image \\' reads \\'Vol for future generation of doctors\\' the.\\'<|im_end|> image and a blurred background and and the text in face is blurred by suggesting they medical on the medical\\'s appearance and the medical they do doing in.<|im_end|>\\n<|endoftext|>!!!!!!!!!!!!!!!!!!!!!!!!!!!!!!!!!!!!!!!!!!!!!!!!!!!!!!!!!!!!!!!!!!!!!!', '!!!!!!!!!!!!!!!!!!!!!!!!!!!!!!!!!!!!!!!!!!!!!!!!!!!!!!!!!!!!!!!!!!!!!!!!!!!!!!!!!!!抱歉 text is a from space sky, and its engines yellow of smoke and from the dark of the clear sky. a clouds. The rocket is body is aated and has, with a bright top. a longared tail. The rocket is filled with bright white bright pieces glowing-of-control stars spots, which the the rocket or other nearby sources. The\\n<|endoftext|>!!!!!!!!!!!!!!!!!!!!!!!!!!!!!!!!!!!!!!!!!!!!!!!!!!!!!!!!!!!!!!!!!!!!!!!!!!!!!!!!!!!!!!!!!!!!!!!!!!!!!!!!!!!!!!!!!!!!!!!!!!!', '!!!!!!!!!!!!!!!!!!!!!!!!!!!!!!!!!!!!!!!!!!!!!!!!!!!!!!!!!!!!!!!!!!!!!!!!!!!!!!!!!!!抱歉 text of characters is including of a father, a women, is described in the ocean. The man is wearing a red shirt, theel, while the two are wearing swim snork blue snork, respectively. The are all swimming in the water of the water, with by a beautiful blue sky. no gentle range background in the background. The text is a cloudy, and the temperature temperature calm and<|im_end|>\\n<|endoftext|>!!!!!!!!!!!!!!!!!!!!!!!!!!!!!!!!!!!!!!!!!!!!!!!!!!!!!!!!!!!!!!!!!!!!!!!!!!!!!!!!!!!!!!!!!!!!!!!!!!!!!!!!!!!!!!!!!']\n",
            "[3.920161866827889e-05]\n"
          ]
        },
        {
          "output_type": "display_data",
          "data": {
            "text/plain": [
              "<IPython.core.display.HTML object>"
            ],
            "text/html": [
              "\n",
              "<style>\n",
              "    /* Turns off some styling */\n",
              "    progress {\n",
              "        /* gets rid of default border in Firefox and Opera. */\n",
              "        border: none;\n",
              "        /* Needs to be in here for Safari polyfill so background images work as expected. */\n",
              "        background-size: auto;\n",
              "    }\n",
              "    progress:not([value]), progress:not([value])::-webkit-progress-bar {\n",
              "        background: repeating-linear-gradient(45deg, #7e7e7e, #7e7e7e 10px, #5c5c5c 10px, #5c5c5c 20px);\n",
              "    }\n",
              "    .progress-bar-interrupted, .progress-bar-interrupted::-webkit-progress-bar {\n",
              "        background: #F44336;\n",
              "    }\n",
              "</style>\n"
            ]
          },
          "metadata": {}
        },
        {
          "output_type": "display_data",
          "data": {
            "text/plain": [
              "<IPython.core.display.HTML object>"
            ],
            "text/html": [
              "\n",
              "    <div>\n",
              "      <progress value='113' class='' max='113' style='width:300px; height:20px; vertical-align: middle;'></progress>\n",
              "      100.00% [113/113 04:28&lt;00:00]\n",
              "    </div>\n",
              "    "
            ]
          },
          "metadata": {}
        },
        {
          "output_type": "stream",
          "name": "stdout",
          "text": [
            "epoch 13 : loss 12.74824333190918 : acc 0.4713924527168274\n",
            "train gt txt [\"!!!!!!!!!!!!!!!!!!!!!!!!!!!!!!!!!!!!!!!!!!!!!!!!!!!!!!!!!!!!!!!!!!!!!!!!!!!!!!!!!!!A set of silver screwdrivers with a blue plastic handle is displayed on a white background. The screwdrivers have a black and yellow label with Chinese characters and the words 'EXPLOSIVE LOW PRICE PRODUCT QUALITY ASSURANCE'. The label also has a barcode and the number '2'.<|im_end|>\\n<|endoftext|>!!!!!!!!!!!!!!!!!!!!!!!!!!!!!!!!!!!!!!!!!!!!!!!!!!!!!!!!!!!!!!!!!!!!!!!!!!!!!!!!!!!!!!!!!!!!!!!!!!!!!!!!!!!!!!!!!!!!!!!!!!!!!!!!!!!!!!!\", '!!!!!!!!!!!!!!!!!!!!!!!!!!!!!!!!!!!!!!!!!!!!!!!!!!!!!!!!!!!!!!!!!!!!!!!!!!!!!!!!!!!A large, ornate building with a classical facade is surrounded by lush greenery. The building features a prominent archway with a blue sign hanging above it. The architecture is detailed with columns and decorative elements. In front of the building, there is a well-manicured lawn with a few people sitting on the grass. The scene is set against a backdrop of a clear sky.<|im_end|>\\n<|endoftext|>!!!!!!!!!!!!!!!!!!!!!!!!!!!!!!!!!!!!!!!!!!!!!!!!!!!!!!!!!!!!!!!!!!!!!!!!!!!!!!!!!!!!!!!!!!!!!!!!!!!!!!!!!!!!!!!!!!!!', '!!!!!!!!!!!!!!!!!!!!!!!!!!!!!!!!!!!!!!!!!!!!!!!!!!!!!!!!!!!!!!!!!!!!!!!!!!!!!!!!!!!A kitchen sink with a blue and white horse-themed backsplash and a single roll of paper towels on the left side.<|im_end|>\\n<|endoftext|>!!!!!!!!!!!!!!!!!!!!!!!!!!!!!!!!!!!!!!!!!!!!!!!!!!!!!!!!!!!!!!!!!!!!!!!!!!!!!!!!!!!!!!!!!!!!!!!!!!!!!!!!!!!!!!!!!!!!!!!!!!!!!!!!!!!!!!!!!!!!!!!!!!!!!!!!!!!!!!!!!!!!!!!!!']\n",
            "train pred txt ['!!!!!!!!!!!!!!!!!!!!!!!!!!!!!!!!!!!!!!!!!!!!!!!!!!!!!!!!!!!!!!!!!!!!!!!!!!!!!!!!!!!抱歉 text of instructions coins-shaped, a diameter handle handle and shown on a shelf table. The handledriver are a black handle white design on the characters on a text \"silverLOIVE\\'\\'\\'\\'.ITY\\'.UREDANCE\\'.<|im_end|> label also has a red and a text \\'10<|im_end|>\\n<|endoftext|>!!!!!!!!!!!!!!!!!!!!!!!!!!!!!!!!!!!!!!!!!!!!!!!!!!!!!!!!!!!!!!!!!!!!!!!!!!!!!!!!!!!!!!!!!!!!!!!!!!!!!!!!!!!!!!!!!!!!!!!!!!!!!!!!!!!!!!!', '!!!!!!!!!!!!!!!!!!!!!!!!!!!!!!!!!!!!!!!!!!!!!!!!!!!!!!!!!!!!!!!!!!!!!!!!!!!!!!!!!!!对不起 text, colorfulate text with a distinctive architectural and the by a greenery and The building is a high entranceway that intricate rich and, from it. The building is characterized and intricate and intricate sculptures. The the of the building, there is a large-licured garden with a variety flowers walking on the grass. The building is peaceful for a beautiful of a sunny blue with The\\n<|endoftext|>!!!!!!!!!!!!!!!!!!!!!!!!!!!!!!!!!!!!!!!!!!!!!!!!!!!!!!!!!!!!!!!!!!!!!!!!!!!!!!!!!!!!!!!!!!!!!!!!!!!!!!!!!!!!!!!!!!!!', '!!!!!!!!!!!!!!!!!!!!!!!!!!!!!!!!!!!!!!!!!!!!!!!!!!!!!!!!!!!!!!!!!!!!!!!!!!!!!!!!!!!对不起 text is is a sink handle white design pattern wallpaperplash, a colorful white of toilet towels. the countert side.<|im_end|>\\n<|endoftext|>!!!!!!!!!!!!!!!!!!!!!!!!!!!!!!!!!!!!!!!!!!!!!!!!!!!!!!!!!!!!!!!!!!!!!!!!!!!!!!!!!!!!!!!!!!!!!!!!!!!!!!!!!!!!!!!!!!!!!!!!!!!!!!!!!!!!!!!!!!!!!!!!!!!!!!!!!!!!!!!!!!!!!!!!!']\n"
          ]
        },
        {
          "output_type": "display_data",
          "data": {
            "text/plain": [
              "<IPython.core.display.HTML object>"
            ],
            "text/html": [
              "\n",
              "<style>\n",
              "    /* Turns off some styling */\n",
              "    progress {\n",
              "        /* gets rid of default border in Firefox and Opera. */\n",
              "        border: none;\n",
              "        /* Needs to be in here for Safari polyfill so background images work as expected. */\n",
              "        background-size: auto;\n",
              "    }\n",
              "    progress:not([value]), progress:not([value])::-webkit-progress-bar {\n",
              "        background: repeating-linear-gradient(45deg, #7e7e7e, #7e7e7e 10px, #5c5c5c 10px, #5c5c5c 20px);\n",
              "    }\n",
              "    .progress-bar-interrupted, .progress-bar-interrupted::-webkit-progress-bar {\n",
              "        background: #F44336;\n",
              "    }\n",
              "</style>\n"
            ]
          },
          "metadata": {}
        },
        {
          "output_type": "display_data",
          "data": {
            "text/plain": [
              "<IPython.core.display.HTML object>"
            ],
            "text/html": [
              "\n",
              "    <div>\n",
              "      <progress value='13' class='' max='13' style='width:300px; height:20px; vertical-align: middle;'></progress>\n",
              "      100.00% [13/13 00:20&lt;00:00]\n",
              "    </div>\n",
              "    "
            ]
          },
          "metadata": {}
        },
        {
          "output_type": "stream",
          "name": "stdout",
          "text": [
            "epoch 13 : test acc 0.482850044965744\n",
            "test gt txt [\"!!!!!!!!!!!!!!!!!!!!!!!!!!!!!!!!!!!!!!!!!!!!!!!!!!!!!!!!!!!!!!!!!!!!!!!!!!!!!!!!!!!The image features a close-up of a person's face with a surgical mask, likely a doctor, with the text 'Volunteer Spotlight: Dr. Bill McCure' overlaid on top. The text is in a red and white color scheme, with the words 'Volunteer Spotlight' in red and 'Dr. Bill McCure' in white. Below the text, there is a smaller text that reads 'Training the next generation of surgeons in Cuba'. The image has a dark background, and the person's face is illuminated, suggesting a focus on the doctor's identity and the work they are involved in.<|im_end|>\\n<|endoftext|>!!!!!!!!!!!!!!!!!!!!!!!!!!!!!!!!!!!!!!!!!!!!!!!!!!!!!!!!!!!!!!!!!!!!!!\", \"!!!!!!!!!!!!!!!!!!!!!!!!!!!!!!!!!!!!!!!!!!!!!!!!!!!!!!!!!!!!!!!!!!!!!!!!!!!!!!!!!!!A rocket is launching into the sky, with its bright trail of smoke visible against the backdrop of a blue sky with scattered clouds. The rocket's body is elongated and cylindrical, with a pointed tip and a flared base. The sky is dotted with small, round, out-of-focus light spots, possibly from the sun or other light sources.<|im_end|>\\n<|endoftext|>!!!!!!!!!!!!!!!!!!!!!!!!!!!!!!!!!!!!!!!!!!!!!!!!!!!!!!!!!!!!!!!!!!!!!!!!!!!!!!!!!!!!!!!!!!!!!!!!!!!!!!!!!!!!!!!!!!!!!!!!!!!\", '!!!!!!!!!!!!!!!!!!!!!!!!!!!!!!!!!!!!!!!!!!!!!!!!!!!!!!!!!!!!!!!!!!!!!!!!!!!!!!!!!!!A family of three, consisting of a man and two children, is swimming in the ocean. The man is wearing a green mask and snorkel, while the children are wearing pink and green masks, respectively. They are all floating near the surface of the water, surrounded by a clear blue ocean with a mountainous island in the background. The sky is partly cloudy, and the water is calm.<|im_end|>\\n<|endoftext|>!!!!!!!!!!!!!!!!!!!!!!!!!!!!!!!!!!!!!!!!!!!!!!!!!!!!!!!!!!!!!!!!!!!!!!!!!!!!!!!!!!!!!!!!!!!!!!!!!!!!!!!!!!!!!!!!!']\n",
            "test pred txt ['!!!!!!!!!!!!!!!!!!!!!!!!!!!!!!!!!!!!!!!!!!!!!!!!!!!!!!!!!!!!!!!!!!!!!!!!!!!!!!!!!!!描述 text you a vibrant-up of a human\\'s face, a slight mask on indicating used medical or nurse their text \"Theunteer for: A. Smith\\'.ull\\' writtenaid on the. The text describes in a bold font white color scheme, with the doctor \\'Volunteer Spotlight\\' in bold and \\'Dr. Bill McCure\\' in white. The the text, there is a small image \\' reads \\'Vol for future generation of doctors\\' the.\\'<|im_end|> image and a blurred background and and the text in face is blurred by suggesting that medical on the medical\\'s appearance and the medical they do doing in.<|im_end|>\\n<|endoftext|>!!!!!!!!!!!!!!!!!!!!!!!!!!!!!!!!!!!!!!!!!!!!!!!!!!!!!!!!!!!!!!!!!!!!!!', '!!!!!!!!!!!!!!!!!!!!!!!!!!!!!!!!!!!!!!!!!!!!!!!!!!!!!!!!!!!!!!!!!!!!!!!!!!!!!!!!!!!抱歉 text is a from space sky, and its engines yellow of smoke and from the sky of the clear sky. a clouds. The rocket is body is aated, has, with a bright top. a longared tail. The rocket is filled with bright white bright pieces glowing-of-control stars spots, which the the rocket or other nearby sources. The\\n<|endoftext|>!!!!!!!!!!!!!!!!!!!!!!!!!!!!!!!!!!!!!!!!!!!!!!!!!!!!!!!!!!!!!!!!!!!!!!!!!!!!!!!!!!!!!!!!!!!!!!!!!!!!!!!!!!!!!!!!!!!!!!!!!!!', '!!!!!!!!!!!!!!!!!!!!!!!!!!!!!!!!!!!!!!!!!!!!!!!!!!!!!!!!!!!!!!!!!!!!!!!!!!!!!!!!!!!抱歉 text of characters is including of a father, a women, is described in the ocean. The man is wearing a blue shirt, theel, while the two are wearing swim snork blue snork, respectively. The are all swimming in the water of the water, with by a beautiful blue sky. no gentle range background in the background. The text is a cloudy, and the temperature temperature calm and<|im_end|>\\n<|endoftext|>!!!!!!!!!!!!!!!!!!!!!!!!!!!!!!!!!!!!!!!!!!!!!!!!!!!!!!!!!!!!!!!!!!!!!!!!!!!!!!!!!!!!!!!!!!!!!!!!!!!!!!!!!!!!!!!!!']\n",
            "[3.7500000000000003e-05]\n"
          ]
        },
        {
          "output_type": "display_data",
          "data": {
            "text/plain": [
              "<IPython.core.display.HTML object>"
            ],
            "text/html": [
              "\n",
              "<style>\n",
              "    /* Turns off some styling */\n",
              "    progress {\n",
              "        /* gets rid of default border in Firefox and Opera. */\n",
              "        border: none;\n",
              "        /* Needs to be in here for Safari polyfill so background images work as expected. */\n",
              "        background-size: auto;\n",
              "    }\n",
              "    progress:not([value]), progress:not([value])::-webkit-progress-bar {\n",
              "        background: repeating-linear-gradient(45deg, #7e7e7e, #7e7e7e 10px, #5c5c5c 10px, #5c5c5c 20px);\n",
              "    }\n",
              "    .progress-bar-interrupted, .progress-bar-interrupted::-webkit-progress-bar {\n",
              "        background: #F44336;\n",
              "    }\n",
              "</style>\n"
            ]
          },
          "metadata": {}
        },
        {
          "output_type": "display_data",
          "data": {
            "text/plain": [
              "<IPython.core.display.HTML object>"
            ],
            "text/html": [
              "\n",
              "    <div>\n",
              "      <progress value='113' class='' max='113' style='width:300px; height:20px; vertical-align: middle;'></progress>\n",
              "      100.00% [113/113 04:29&lt;00:00]\n",
              "    </div>\n",
              "    "
            ]
          },
          "metadata": {}
        },
        {
          "output_type": "stream",
          "name": "stdout",
          "text": [
            "epoch 14 : loss 12.746938705444336 : acc 0.4725663661956787\n",
            "train gt txt ['!!!!!!!!!!!!!!!!!!!!!!!!!!!!!!!!!!!!!!!!!!!!!!!!!!!!!!!!!!!!!!!!!!!!!!!!!!!!!!!!!!!A sleek, modern dining table with a glossy black surface and a set of four matching chairs with chrome legs and wooden seats.<|im_end|>\\n<|endoftext|>!!!!!!!!!!!!!!!!!!!!!!!!!!!!!!!!!!!!!!!!!!!!!!!!!!!!!!!!!!!!!!!!!!!!!!!!!!!!!!!!!!!!!!!!!!!!!!!!!!!!!!!!!!!!!!!!!!!!!!!!!!!!!!!!!!!!!!!!!!!!!!!!!!!!!!!!!!!!!!!!!!!!!!!!', '!!!!!!!!!!!!!!!!!!!!!!!!!!!!!!!!!!!!!!!!!!!!!!!!!!!!!!!!!!!!!!!!!!!!!!!!!!!!!!!!!!!A small, white bathroom with a round mirror above a white sink. The sink has a single faucet and is accompanied by a small bottle and a cup with a flower. The bathroom has a light blue wall and a white door to the right. There are two light bulbs hanging from the ceiling, illuminating the space.<|im_end|>\\n<|endoftext|>!!!!!!!!!!!!!!!!!!!!!!!!!!!!!!!!!!!!!!!!!!!!!!!!!!!!!!!!!!!!!!!!!!!!!!!!!!!!!!!!!!!!!!!!!!!!!!!!!!!!!!!!!!!!!!!!!!!!!!!!!!!!!!!!!', \"!!!!!!!!!!!!!!!!!!!!!!!!!!!!!!!!!!!!!!!!!!!!!!!!!!!!!!!!!!!!!!!!!!!!!!!!!!!!!!!!!!!A red and white sailboat with the name 'BESTEVAER' on the hull is depicted against a white background. The sailboat has a single mast with two sails, one larger and one smaller. The larger sail is red with white stripes, and the smaller sail is white with a red stripe. The boat is positioned on a yard with the text 'SPECIFICATION YARD' below it. The image includes a logo and text at the top right corner, which reads 'KAM YACHTBUILDERS'.<|im_end|>\\n<|endoftext|>!!!!!!!!!!!!!!!!!!!!!!!!!!!!!!!!!!!!!!!!!!!!!!!!!!!!!!!!!!!!!!!!!!!!!!!!!!!!!!!!!!!!!!!!\"]\n",
            "train pred txt ['!!!!!!!!!!!!!!!!!!!!!!!!!!!!!!!!!!!!!!!!!!!!!!!!!!!!!!!!!!!!!!!!!!!!!!!!!!!!!!!!!!!对不起ha, futuristic, experience with a minimalist finish finish, a variety of high high silver. black legs. a handles. The\\n<|endoftext|>!!!!!!!!!!!!!!!!!!!!!!!!!!!!!!!!!!!!!!!!!!!!!!!!!!!!!!!!!!!!!!!!!!!!!!!!!!!!!!!!!!!!!!!!!!!!!!!!!!!!!!!!!!!!!!!!!!!!!!!!!!!!!!!!!!!!!!!!!!!!!!!!!!!!!!!!!!!!!!!!!!!!!!!!', '!!!!!!!!!!!!!!!!!!!!!!!!!!!!!!!!!!!!!!!!!!!!!!!!!!!!!!!!!!!!!!!!!!!!!!!!!!!!!!!!!!!I text text friendly rabbit with a tiled mirror and the toilet toilet. The bathroom has a round faucet and a used by a toilet toilet of a small. a handle design The bathroom has a toilet and door and a white floor. the bathroom. The is two people blue in on the ceiling, oneating the space. The\\n<|endoftext|>!!!!!!!!!!!!!!!!!!!!!!!!!!!!!!!!!!!!!!!!!!!!!!!!!!!!!!!!!!!!!!!!!!!!!!!!!!!!!!!!!!!!!!!!!!!!!!!!!!!!!!!!!!!!!!!!!!!!!!!!!!!!!!!!!', '!!!!!!!!!!!!!!!!!!!!!!!!!!!!!!!!!!!!!!!!!!!!!!!!!!!!!!!!!!!!!!!!!!!!!!!!!!!!!!!!!!!I text light white stripedboat is a text \"The\\'\\'\\'\\' painted the side. depicted in a blue background. The boat is is a small sail, a sails, one of and one smaller. The larger sail is larger and white stripes, while the smaller sail is white with black red stripe. The boat is moving in the sandy, a boat \\'BESTIFICATIONS\\'ARD\\' written the. The text is a small of the that the top of corner, indicating are \\'BESTINGARARDHT\\'.ING\\'.<|im_end|>\\n<|endoftext|>!!!!!!!!!!!!!!!!!!!!!!!!!!!!!!!!!!!!!!!!!!!!!!!!!!!!!!!!!!!!!!!!!!!!!!!!!!!!!!!!!!!!!!!!']\n"
          ]
        },
        {
          "output_type": "display_data",
          "data": {
            "text/plain": [
              "<IPython.core.display.HTML object>"
            ],
            "text/html": [
              "\n",
              "<style>\n",
              "    /* Turns off some styling */\n",
              "    progress {\n",
              "        /* gets rid of default border in Firefox and Opera. */\n",
              "        border: none;\n",
              "        /* Needs to be in here for Safari polyfill so background images work as expected. */\n",
              "        background-size: auto;\n",
              "    }\n",
              "    progress:not([value]), progress:not([value])::-webkit-progress-bar {\n",
              "        background: repeating-linear-gradient(45deg, #7e7e7e, #7e7e7e 10px, #5c5c5c 10px, #5c5c5c 20px);\n",
              "    }\n",
              "    .progress-bar-interrupted, .progress-bar-interrupted::-webkit-progress-bar {\n",
              "        background: #F44336;\n",
              "    }\n",
              "</style>\n"
            ]
          },
          "metadata": {}
        },
        {
          "output_type": "display_data",
          "data": {
            "text/plain": [
              "<IPython.core.display.HTML object>"
            ],
            "text/html": [
              "\n",
              "    <div>\n",
              "      <progress value='13' class='' max='13' style='width:300px; height:20px; vertical-align: middle;'></progress>\n",
              "      100.00% [13/13 00:20&lt;00:00]\n",
              "    </div>\n",
              "    "
            ]
          },
          "metadata": {}
        },
        {
          "output_type": "stream",
          "name": "stdout",
          "text": [
            "epoch 14 : test acc 0.48351284861564636\n",
            "test gt txt [\"!!!!!!!!!!!!!!!!!!!!!!!!!!!!!!!!!!!!!!!!!!!!!!!!!!!!!!!!!!!!!!!!!!!!!!!!!!!!!!!!!!!The image features a close-up of a person's face with a surgical mask, likely a doctor, with the text 'Volunteer Spotlight: Dr. Bill McCure' overlaid on top. The text is in a red and white color scheme, with the words 'Volunteer Spotlight' in red and 'Dr. Bill McCure' in white. Below the text, there is a smaller text that reads 'Training the next generation of surgeons in Cuba'. The image has a dark background, and the person's face is illuminated, suggesting a focus on the doctor's identity and the work they are involved in.<|im_end|>\\n<|endoftext|>!!!!!!!!!!!!!!!!!!!!!!!!!!!!!!!!!!!!!!!!!!!!!!!!!!!!!!!!!!!!!!!!!!!!!!\", \"!!!!!!!!!!!!!!!!!!!!!!!!!!!!!!!!!!!!!!!!!!!!!!!!!!!!!!!!!!!!!!!!!!!!!!!!!!!!!!!!!!!A rocket is launching into the sky, with its bright trail of smoke visible against the backdrop of a blue sky with scattered clouds. The rocket's body is elongated and cylindrical, with a pointed tip and a flared base. The sky is dotted with small, round, out-of-focus light spots, possibly from the sun or other light sources.<|im_end|>\\n<|endoftext|>!!!!!!!!!!!!!!!!!!!!!!!!!!!!!!!!!!!!!!!!!!!!!!!!!!!!!!!!!!!!!!!!!!!!!!!!!!!!!!!!!!!!!!!!!!!!!!!!!!!!!!!!!!!!!!!!!!!!!!!!!!!\", '!!!!!!!!!!!!!!!!!!!!!!!!!!!!!!!!!!!!!!!!!!!!!!!!!!!!!!!!!!!!!!!!!!!!!!!!!!!!!!!!!!!A family of three, consisting of a man and two children, is swimming in the ocean. The man is wearing a green mask and snorkel, while the children are wearing pink and green masks, respectively. They are all floating near the surface of the water, surrounded by a clear blue ocean with a mountainous island in the background. The sky is partly cloudy, and the water is calm.<|im_end|>\\n<|endoftext|>!!!!!!!!!!!!!!!!!!!!!!!!!!!!!!!!!!!!!!!!!!!!!!!!!!!!!!!!!!!!!!!!!!!!!!!!!!!!!!!!!!!!!!!!!!!!!!!!!!!!!!!!!!!!!!!!!']\n",
            "test pred txt ['!!!!!!!!!!!!!!!!!!!!!!!!!!!!!!!!!!!!!!!!!!!!!!!!!!!!!!!!!!!!!!!!!!!!!!!!!!!!!!!!!!!描述 text you a vibrant-up of a human\\'s face, a slight mask on indicating used medical or wearing their text \"Theunteer for: A. Smith\\'.ull\\' writtenaid on the. The text describes in a bold font white color scheme, with the doctor \\'Volunteer Spotlight\\' in bold and \\'Dr. Bill McCure\\' in white. The the text, there is a small image \\' reads \\'Vol for future generation of doctors\\' the.\\'<|im_end|> image and a blurred background and and the text in face is blurred by suggesting they medical on the medical\\'s appearance and the medical they do doing in.<|im_end|>\\n<|endoftext|>!!!!!!!!!!!!!!!!!!!!!!!!!!!!!!!!!!!!!!!!!!!!!!!!!!!!!!!!!!!!!!!!!!!!!!', '!!!!!!!!!!!!!!!!!!!!!!!!!!!!!!!!!!!!!!!!!!!!!!!!!!!!!!!!!!!!!!!!!!!!!!!!!!!!!!!!!!!抱歉 text is a from space sky, and its engines yellow of smoke and from the dark of the clear sky. a clouds. The rocket is body is aated and has, with a bright top. a longared tail. The rocket is filled with bright white bright pieces glowing-of-control stars spots, which the the rocket or other nearby sources. The\\n<|endoftext|>!!!!!!!!!!!!!!!!!!!!!!!!!!!!!!!!!!!!!!!!!!!!!!!!!!!!!!!!!!!!!!!!!!!!!!!!!!!!!!!!!!!!!!!!!!!!!!!!!!!!!!!!!!!!!!!!!!!!!!!!!!!', '!!!!!!!!!!!!!!!!!!!!!!!!!!!!!!!!!!!!!!!!!!!!!!!!!!!!!!!!!!!!!!!!!!!!!!!!!!!!!!!!!!!抱歉 text of characters is including of a father, a women, is described in the ocean. The man is wearing a blue shirt, theel, while the two are wearing swim snork blue snork, respectively. The are all swimming in the water of the water, with by a beautiful blue sky. no gentle range background in the background. The text is a cloudy, with the temperature temperature calm and<|im_end|>\\n<|endoftext|>!!!!!!!!!!!!!!!!!!!!!!!!!!!!!!!!!!!!!!!!!!!!!!!!!!!!!!!!!!!!!!!!!!!!!!!!!!!!!!!!!!!!!!!!!!!!!!!!!!!!!!!!!!!!!!!!!']\n",
            "[3.5717314035076355e-05]\n"
          ]
        },
        {
          "output_type": "display_data",
          "data": {
            "text/plain": [
              "<IPython.core.display.HTML object>"
            ],
            "text/html": [
              "\n",
              "<style>\n",
              "    /* Turns off some styling */\n",
              "    progress {\n",
              "        /* gets rid of default border in Firefox and Opera. */\n",
              "        border: none;\n",
              "        /* Needs to be in here for Safari polyfill so background images work as expected. */\n",
              "        background-size: auto;\n",
              "    }\n",
              "    progress:not([value]), progress:not([value])::-webkit-progress-bar {\n",
              "        background: repeating-linear-gradient(45deg, #7e7e7e, #7e7e7e 10px, #5c5c5c 10px, #5c5c5c 20px);\n",
              "    }\n",
              "    .progress-bar-interrupted, .progress-bar-interrupted::-webkit-progress-bar {\n",
              "        background: #F44336;\n",
              "    }\n",
              "</style>\n"
            ]
          },
          "metadata": {}
        },
        {
          "output_type": "display_data",
          "data": {
            "text/plain": [
              "<IPython.core.display.HTML object>"
            ],
            "text/html": [
              "\n",
              "    <div>\n",
              "      <progress value='113' class='' max='113' style='width:300px; height:20px; vertical-align: middle;'></progress>\n",
              "      100.00% [113/113 04:29&lt;00:00]\n",
              "    </div>\n",
              "    "
            ]
          },
          "metadata": {}
        },
        {
          "output_type": "stream",
          "name": "stdout",
          "text": [
            "epoch 15 : loss 12.752830505371094 : acc 0.4722593426704407\n",
            "train gt txt [\"!!!!!!!!!!!!!!!!!!!!!!!!!!!!!!!!!!!!!!!!!!!!!!!!!!!!!!!!!!!!!!!!!!!!!!!!!!!!!!!!!!!A pink t-shirt with a stylized illustration of a light bulb on the front. The light bulb has a yellow and orange gradient and is surrounded by white stars. Above the light bulb, the text 'SEEKY CHIKE' is written in a cursive, uppercase font. Below the light bulb, the text 'SEEK YOUR CHIKE' is written in a similar cursive, uppercase font. The t-shirt has a relaxed fit and is shown against a white background.<|im_end|>\\n<|endoftext|>!!!!!!!!!!!!!!!!!!!!!!!!!!!!!!!!!!!!!!!!!!!!!!!!!!!!!!!!!!!!!!!!!!!!!!!!!!!!!!!!!!!!!!!!!!!!!!!!!\", '!!!!!!!!!!!!!!!!!!!!!!!!!!!!!!!!!!!!!!!!!!!!!!!!!!!!!!!!!!!!!!!!!!!!!!!!!!!!!!!!!!!A person is wearing a striped shirt and red pants with black shoes.<|im_end|>\\n<|endoftext|>!!!!!!!!!!!!!!!!!!!!!!!!!!!!!!!!!!!!!!!!!!!!!!!!!!!!!!!!!!!!!!!!!!!!!!!!!!!!!!!!!!!!!!!!!!!!!!!!!!!!!!!!!!!!!!!!!!!!!!!!!!!!!!!!!!!!!!!!!!!!!!!!!!!!!!!!!!!!!!!!!!!!!!!!!!!!!!!!!!!', '!!!!!!!!!!!!!!!!!!!!!!!!!!!!!!!!!!!!!!!!!!!!!!!!!!!!!!!!!!!!!!!!!!!!!!!!!!!!!!!!!!!A young man wearing a maroon beanie and a black and grey jacket with a white patch on the back is sitting in a room with a bookshelf filled with books. The room has a wooden floor and a window with a view of a building outside.<|im_end|>\\n<|endoftext|>!!!!!!!!!!!!!!!!!!!!!!!!!!!!!!!!!!!!!!!!!!!!!!!!!!!!!!!!!!!!!!!!!!!!!!!!!!!!!!!!!!!!!!!!!!!!!!!!!!!!!!!!!!!!!!!!!!!!!!!!!!!!!!!!!!!!!!!!!!!!!']\n",
            "train pred txt [\"!!!!!!!!!!!!!!!!!!!!!!!!!!!!!!!!!!!!!!!!!!!!!!!!!!!!!!!!!!!!!!!!!!!!!!!!!!!!!!!!!!!I texty-shirt is a brightized design of a pink blue and a front, The light bulb is a bright glow blue hue, a slightly by a stripes. The the light bulb, there text readsLight THEOUANGES' is written in a boldursive script bold font. The the light bulb, the text 'BUYKYINGSELFANCE' is written in a c fontursive, uppercase font.<|im_end|> overall-shirt is a light, and a made in a light background.<|im_end|>\\n<|endoftext|>!!!!!!!!!!!!!!!!!!!!!!!!!!!!!!!!!!!!!!!!!!!!!!!!!!!!!!!!!!!!!!!!!!!!!!!!!!!!!!!!!!!!!!!!!!!!!!!!!\", '!!!!!!!!!!!!!!!!!!!!!!!!!!!!!!!!!!!!!!!!!!!!!!!!!!!!!!!!!!!!!!!!!!!!!!!!!!!!!!!!!!!对不起 text who described a suit shirt, a shoes. a shoes.<|im_end|>\\n<|endoftext|>!!!!!!!!!!!!!!!!!!!!!!!!!!!!!!!!!!!!!!!!!!!!!!!!!!!!!!!!!!!!!!!!!!!!!!!!!!!!!!!!!!!!!!!!!!!!!!!!!!!!!!!!!!!!!!!!!!!!!!!!!!!!!!!!!!!!!!!!!!!!!!!!!!!!!!!!!!!!!!!!!!!!!!!!!!!!!!!!!!!', '!!!!!!!!!!!!!!!!!!!!!!!!!!!!!!!!!!!!!!!!!!!!!!!!!!!!!!!!!!!!!!!!!!!!!!!!!!!!!!!!!!!Theha, named a suitoon shirtanie hat a red and white hoodie is a red hat on the chest of sitting in a chair with a computer on and with books on The text is a cozy floor and a fireplace that a view of the city.. The\\n<|endoftext|>!!!!!!!!!!!!!!!!!!!!!!!!!!!!!!!!!!!!!!!!!!!!!!!!!!!!!!!!!!!!!!!!!!!!!!!!!!!!!!!!!!!!!!!!!!!!!!!!!!!!!!!!!!!!!!!!!!!!!!!!!!!!!!!!!!!!!!!!!!!!!']\n"
          ]
        },
        {
          "output_type": "display_data",
          "data": {
            "text/plain": [
              "<IPython.core.display.HTML object>"
            ],
            "text/html": [
              "\n",
              "<style>\n",
              "    /* Turns off some styling */\n",
              "    progress {\n",
              "        /* gets rid of default border in Firefox and Opera. */\n",
              "        border: none;\n",
              "        /* Needs to be in here for Safari polyfill so background images work as expected. */\n",
              "        background-size: auto;\n",
              "    }\n",
              "    progress:not([value]), progress:not([value])::-webkit-progress-bar {\n",
              "        background: repeating-linear-gradient(45deg, #7e7e7e, #7e7e7e 10px, #5c5c5c 10px, #5c5c5c 20px);\n",
              "    }\n",
              "    .progress-bar-interrupted, .progress-bar-interrupted::-webkit-progress-bar {\n",
              "        background: #F44336;\n",
              "    }\n",
              "</style>\n"
            ]
          },
          "metadata": {}
        },
        {
          "output_type": "display_data",
          "data": {
            "text/plain": [
              "<IPython.core.display.HTML object>"
            ],
            "text/html": [
              "\n",
              "    <div>\n",
              "      <progress value='13' class='' max='13' style='width:300px; height:20px; vertical-align: middle;'></progress>\n",
              "      100.00% [13/13 00:20&lt;00:00]\n",
              "    </div>\n",
              "    "
            ]
          },
          "metadata": {}
        },
        {
          "output_type": "stream",
          "name": "stdout",
          "text": [
            "epoch 15 : test acc 0.48367854952812195\n",
            "test gt txt [\"!!!!!!!!!!!!!!!!!!!!!!!!!!!!!!!!!!!!!!!!!!!!!!!!!!!!!!!!!!!!!!!!!!!!!!!!!!!!!!!!!!!The image features a close-up of a person's face with a surgical mask, likely a doctor, with the text 'Volunteer Spotlight: Dr. Bill McCure' overlaid on top. The text is in a red and white color scheme, with the words 'Volunteer Spotlight' in red and 'Dr. Bill McCure' in white. Below the text, there is a smaller text that reads 'Training the next generation of surgeons in Cuba'. The image has a dark background, and the person's face is illuminated, suggesting a focus on the doctor's identity and the work they are involved in.<|im_end|>\\n<|endoftext|>!!!!!!!!!!!!!!!!!!!!!!!!!!!!!!!!!!!!!!!!!!!!!!!!!!!!!!!!!!!!!!!!!!!!!!\", \"!!!!!!!!!!!!!!!!!!!!!!!!!!!!!!!!!!!!!!!!!!!!!!!!!!!!!!!!!!!!!!!!!!!!!!!!!!!!!!!!!!!A rocket is launching into the sky, with its bright trail of smoke visible against the backdrop of a blue sky with scattered clouds. The rocket's body is elongated and cylindrical, with a pointed tip and a flared base. The sky is dotted with small, round, out-of-focus light spots, possibly from the sun or other light sources.<|im_end|>\\n<|endoftext|>!!!!!!!!!!!!!!!!!!!!!!!!!!!!!!!!!!!!!!!!!!!!!!!!!!!!!!!!!!!!!!!!!!!!!!!!!!!!!!!!!!!!!!!!!!!!!!!!!!!!!!!!!!!!!!!!!!!!!!!!!!!\", '!!!!!!!!!!!!!!!!!!!!!!!!!!!!!!!!!!!!!!!!!!!!!!!!!!!!!!!!!!!!!!!!!!!!!!!!!!!!!!!!!!!A family of three, consisting of a man and two children, is swimming in the ocean. The man is wearing a green mask and snorkel, while the children are wearing pink and green masks, respectively. They are all floating near the surface of the water, surrounded by a clear blue ocean with a mountainous island in the background. The sky is partly cloudy, and the water is calm.<|im_end|>\\n<|endoftext|>!!!!!!!!!!!!!!!!!!!!!!!!!!!!!!!!!!!!!!!!!!!!!!!!!!!!!!!!!!!!!!!!!!!!!!!!!!!!!!!!!!!!!!!!!!!!!!!!!!!!!!!!!!!!!!!!!']\n",
            "test pred txt ['!!!!!!!!!!!!!!!!!!!!!!!!!!!!!!!!!!!!!!!!!!!!!!!!!!!!!!!!!!!!!!!!!!!!!!!!!!!!!!!!!!!描述 text you a vibrant-up of a human\\'s face, a slight mask on indicating used medical or nurse their text \"Theunteer for\\'. A. Smith\\'.ull\\'. writtenaid on the. The text describes in a bold font white color scheme, with the doctor \\'Volunteer Spotlight\\' in bold and \\'Dr. Bill McCure\\' in white. The the text, there is a small image with reads \\'Vol for future generation of doctors.\\' the.\\'<|im_end|> image and a blurred background and and the text in face is blurred by with they medical on the medical\\'s appearance and the medical they do doing in.<|im_end|>\\n<|endoftext|>!!!!!!!!!!!!!!!!!!!!!!!!!!!!!!!!!!!!!!!!!!!!!!!!!!!!!!!!!!!!!!!!!!!!!!', '!!!!!!!!!!!!!!!!!!!!!!!!!!!!!!!!!!!!!!!!!!!!!!!!!!!!!!!!!!!!!!!!!!!!!!!!!!!!!!!!!!!抱歉 text is a from space sky, and its engines yellow of smoke and from the dark of the clear sky. a clouds. The rocket is body is aated and has, with a bright top. a longared tail. The rocket is filled with bright white bright pieces glowing-of-control stars spots, which the the rocket or other nearby sources. The\\n<|endoftext|>!!!!!!!!!!!!!!!!!!!!!!!!!!!!!!!!!!!!!!!!!!!!!!!!!!!!!!!!!!!!!!!!!!!!!!!!!!!!!!!!!!!!!!!!!!!!!!!!!!!!!!!!!!!!!!!!!!!!!!!!!!!', '!!!!!!!!!!!!!!!!!!!!!!!!!!!!!!!!!!!!!!!!!!!!!!!!!!!!!!!!!!!!!!!!!!!!!!!!!!!!!!!!!!!抱歉 text of characters is including of a father, a women, is described in the ocean. The man is wearing a red shirt, theel, while the two are wearing swim snork blue snork, respectively. The are all swimming in the water of the water, with by a beautiful blue sky. no gentle range backdrop in the background. The text is a cloudy with and the temperature temperature calm and<|im_end|>\\n<|endoftext|>!!!!!!!!!!!!!!!!!!!!!!!!!!!!!!!!!!!!!!!!!!!!!!!!!!!!!!!!!!!!!!!!!!!!!!!!!!!!!!!!!!!!!!!!!!!!!!!!!!!!!!!!!!!!!!!!!']\n",
            "[3.386512217606339e-05]\n"
          ]
        },
        {
          "output_type": "display_data",
          "data": {
            "text/plain": [
              "<IPython.core.display.HTML object>"
            ],
            "text/html": [
              "\n",
              "<style>\n",
              "    /* Turns off some styling */\n",
              "    progress {\n",
              "        /* gets rid of default border in Firefox and Opera. */\n",
              "        border: none;\n",
              "        /* Needs to be in here for Safari polyfill so background images work as expected. */\n",
              "        background-size: auto;\n",
              "    }\n",
              "    progress:not([value]), progress:not([value])::-webkit-progress-bar {\n",
              "        background: repeating-linear-gradient(45deg, #7e7e7e, #7e7e7e 10px, #5c5c5c 10px, #5c5c5c 20px);\n",
              "    }\n",
              "    .progress-bar-interrupted, .progress-bar-interrupted::-webkit-progress-bar {\n",
              "        background: #F44336;\n",
              "    }\n",
              "</style>\n"
            ]
          },
          "metadata": {}
        },
        {
          "output_type": "display_data",
          "data": {
            "text/plain": [
              "<IPython.core.display.HTML object>"
            ],
            "text/html": [
              "\n",
              "    <div>\n",
              "      <progress value='113' class='' max='113' style='width:300px; height:20px; vertical-align: middle;'></progress>\n",
              "      100.00% [113/113 04:29&lt;00:00]\n",
              "    </div>\n",
              "    "
            ]
          },
          "metadata": {}
        },
        {
          "output_type": "stream",
          "name": "stdout",
          "text": [
            "epoch 16 : loss 12.744466781616211 : acc 0.4721871018409729\n",
            "train gt txt ['!!!!!!!!!!!!!!!!!!!!!!!!!!!!!!!!!!!!!!!!!!!!!!!!!!!!!!!!!!!!!!!!!!!!!!!!!!!!!!!!!!!A sleek modern floor lamp with a black shade and a thin, curved metal stand.<|im_end|>\\n<|endoftext|>!!!!!!!!!!!!!!!!!!!!!!!!!!!!!!!!!!!!!!!!!!!!!!!!!!!!!!!!!!!!!!!!!!!!!!!!!!!!!!!!!!!!!!!!!!!!!!!!!!!!!!!!!!!!!!!!!!!!!!!!!!!!!!!!!!!!!!!!!!!!!!!!!!!!!!!!!!!!!!!!!!!!!!!!!!!!!!!!', '!!!!!!!!!!!!!!!!!!!!!!!!!!!!!!!!!!!!!!!!!!!!!!!!!!!!!!!!!!!!!!!!!!!!!!!!!!!!!!!!!!!A detailed map of a city with various neighborhoods and streets labeled. The map includes a legend with a red pin indicating a specific location, and the map is overlaid with a grid pattern. The map is zoomed in on a specific area, showing the layout of the city and its surrounding areas.<|im_end|>\\n<|endoftext|>!!!!!!!!!!!!!!!!!!!!!!!!!!!!!!!!!!!!!!!!!!!!!!!!!!!!!!!!!!!!!!!!!!!!!!!!!!!!!!!!!!!!!!!!!!!!!!!!!!!!!!!!!!!!!!!!!!!!!!!!!!!!!!!!!!!!!', '!!!!!!!!!!!!!!!!!!!!!!!!!!!!!!!!!!!!!!!!!!!!!!!!!!!!!!!!!!!!!!!!!!!!!!!!!!!!!!!!!!!A man with a flat-top haircut is wearing a flat cap and a white shirt. He is looking to the side with a neutral expression. The background is blurred with hints of greenery and a clear sky.<|im_end|>\\n<|endoftext|>!!!!!!!!!!!!!!!!!!!!!!!!!!!!!!!!!!!!!!!!!!!!!!!!!!!!!!!!!!!!!!!!!!!!!!!!!!!!!!!!!!!!!!!!!!!!!!!!!!!!!!!!!!!!!!!!!!!!!!!!!!!!!!!!!!!!!!!!!!!!!!!!!!!!!!!']\n",
            "train pred txt ['!!!!!!!!!!!!!!!!!!!!!!!!!!!!!!!!!!!!!!!!!!!!!!!!!!!!!!!!!!!!!!!!!!!!!!!!!!!!!!!!!!!I text, text plan, a sleek frame, a sleek, sleek design frame. The\\n<|endoftext|>!!!!!!!!!!!!!!!!!!!!!!!!!!!!!!!!!!!!!!!!!!!!!!!!!!!!!!!!!!!!!!!!!!!!!!!!!!!!!!!!!!!!!!!!!!!!!!!!!!!!!!!!!!!!!!!!!!!!!!!!!!!!!!!!!!!!!!!!!!!!!!!!!!!!!!!!!!!!!!!!!!!!!!!!!!!!!!!!', '!!!!!!!!!!!!!!!!!!!!!!!!!!!!!!!!!!!!!!!!!!!!!!!!!!!!!!!!!!!!!!!!!!!!!!!!!!!!!!!!!!!I text description of the city, various features, landmarks, with<|im_end|> text includes landmarks detailed for colors color circle for the street street, and a text is labeledaid with a red of to The text also labeleded in to a city area, and the city of the city. its features areas. The\\n<|endoftext|>!!!!!!!!!!!!!!!!!!!!!!!!!!!!!!!!!!!!!!!!!!!!!!!!!!!!!!!!!!!!!!!!!!!!!!!!!!!!!!!!!!!!!!!!!!!!!!!!!!!!!!!!!!!!!!!!!!!!!!!!!!!!!!!!!!!!!', '!!!!!!!!!!!!!!!!!!!!!!!!!!!!!!!!!!!!!!!!!!!!!!!!!!!!!!!!!!!!!!!!!!!!!!!!!!!!!!!!!!!I text named a beard, hairstyle and described a black-top and a white shirt. The is standing at the right with a camera background and<|im_end|> text is a, a of a and and a few sky.<|im_end|>\\n<|endoftext|>!!!!!!!!!!!!!!!!!!!!!!!!!!!!!!!!!!!!!!!!!!!!!!!!!!!!!!!!!!!!!!!!!!!!!!!!!!!!!!!!!!!!!!!!!!!!!!!!!!!!!!!!!!!!!!!!!!!!!!!!!!!!!!!!!!!!!!!!!!!!!!!!!!!!!!!']\n"
          ]
        },
        {
          "output_type": "display_data",
          "data": {
            "text/plain": [
              "<IPython.core.display.HTML object>"
            ],
            "text/html": [
              "\n",
              "<style>\n",
              "    /* Turns off some styling */\n",
              "    progress {\n",
              "        /* gets rid of default border in Firefox and Opera. */\n",
              "        border: none;\n",
              "        /* Needs to be in here for Safari polyfill so background images work as expected. */\n",
              "        background-size: auto;\n",
              "    }\n",
              "    progress:not([value]), progress:not([value])::-webkit-progress-bar {\n",
              "        background: repeating-linear-gradient(45deg, #7e7e7e, #7e7e7e 10px, #5c5c5c 10px, #5c5c5c 20px);\n",
              "    }\n",
              "    .progress-bar-interrupted, .progress-bar-interrupted::-webkit-progress-bar {\n",
              "        background: #F44336;\n",
              "    }\n",
              "</style>\n"
            ]
          },
          "metadata": {}
        },
        {
          "output_type": "display_data",
          "data": {
            "text/plain": [
              "<IPython.core.display.HTML object>"
            ],
            "text/html": [
              "\n",
              "    <div>\n",
              "      <progress value='13' class='' max='13' style='width:300px; height:20px; vertical-align: middle;'></progress>\n",
              "      100.00% [13/13 00:20&lt;00:00]\n",
              "    </div>\n",
              "    "
            ]
          },
          "metadata": {}
        },
        {
          "output_type": "stream",
          "name": "stdout",
          "text": [
            "epoch 16 : test acc 0.4820215404033661\n",
            "test gt txt [\"!!!!!!!!!!!!!!!!!!!!!!!!!!!!!!!!!!!!!!!!!!!!!!!!!!!!!!!!!!!!!!!!!!!!!!!!!!!!!!!!!!!The image features a close-up of a person's face with a surgical mask, likely a doctor, with the text 'Volunteer Spotlight: Dr. Bill McCure' overlaid on top. The text is in a red and white color scheme, with the words 'Volunteer Spotlight' in red and 'Dr. Bill McCure' in white. Below the text, there is a smaller text that reads 'Training the next generation of surgeons in Cuba'. The image has a dark background, and the person's face is illuminated, suggesting a focus on the doctor's identity and the work they are involved in.<|im_end|>\\n<|endoftext|>!!!!!!!!!!!!!!!!!!!!!!!!!!!!!!!!!!!!!!!!!!!!!!!!!!!!!!!!!!!!!!!!!!!!!!\", \"!!!!!!!!!!!!!!!!!!!!!!!!!!!!!!!!!!!!!!!!!!!!!!!!!!!!!!!!!!!!!!!!!!!!!!!!!!!!!!!!!!!A rocket is launching into the sky, with its bright trail of smoke visible against the backdrop of a blue sky with scattered clouds. The rocket's body is elongated and cylindrical, with a pointed tip and a flared base. The sky is dotted with small, round, out-of-focus light spots, possibly from the sun or other light sources.<|im_end|>\\n<|endoftext|>!!!!!!!!!!!!!!!!!!!!!!!!!!!!!!!!!!!!!!!!!!!!!!!!!!!!!!!!!!!!!!!!!!!!!!!!!!!!!!!!!!!!!!!!!!!!!!!!!!!!!!!!!!!!!!!!!!!!!!!!!!!\", '!!!!!!!!!!!!!!!!!!!!!!!!!!!!!!!!!!!!!!!!!!!!!!!!!!!!!!!!!!!!!!!!!!!!!!!!!!!!!!!!!!!A family of three, consisting of a man and two children, is swimming in the ocean. The man is wearing a green mask and snorkel, while the children are wearing pink and green masks, respectively. They are all floating near the surface of the water, surrounded by a clear blue ocean with a mountainous island in the background. The sky is partly cloudy, and the water is calm.<|im_end|>\\n<|endoftext|>!!!!!!!!!!!!!!!!!!!!!!!!!!!!!!!!!!!!!!!!!!!!!!!!!!!!!!!!!!!!!!!!!!!!!!!!!!!!!!!!!!!!!!!!!!!!!!!!!!!!!!!!!!!!!!!!!']\n",
            "test pred txt ['!!!!!!!!!!!!!!!!!!!!!!!!!!!!!!!!!!!!!!!!!!!!!!!!!!!!!!!!!!!!!!!!!!!!!!!!!!!!!!!!!!!描述 text you a vibrant-up of a human\\'s face, a slight mask on indicating used medical or wearing their text \"Theunteer for: A. Smith\\'.ull\\' writtenaid on the. The text describes in a bold font white color scheme, with the doctor \\'Volunteer Spotlight\\' in bold and \\'Dr. Bill McCure\\' in white. The the text, there is a small image \\' reads \\'Vol for future generation of doctors\\' the.\\'<|im_end|> image and a blurred background and and the text in face is blurred by suggesting that medical on the medical\\'s appearance and the medical they do doing in.<|im_end|>\\n<|endoftext|>!!!!!!!!!!!!!!!!!!!!!!!!!!!!!!!!!!!!!!!!!!!!!!!!!!!!!!!!!!!!!!!!!!!!!!', '!!!!!!!!!!!!!!!!!!!!!!!!!!!!!!!!!!!!!!!!!!!!!!!!!!!!!!!!!!!!!!!!!!!!!!!!!!!!!!!!!!!抱歉 text is a from space sky, and its engines red of smoke and from the sky of the clear sky. a clouds. The rocket is body is aated and has, with a bright top. a longared tail. The rocket is filled with bright white bright pieces glowing-of-control stars spots, which the the rocket or other nearby sources. The\\n<|endoftext|>!!!!!!!!!!!!!!!!!!!!!!!!!!!!!!!!!!!!!!!!!!!!!!!!!!!!!!!!!!!!!!!!!!!!!!!!!!!!!!!!!!!!!!!!!!!!!!!!!!!!!!!!!!!!!!!!!!!!!!!!!!!', '!!!!!!!!!!!!!!!!!!!!!!!!!!!!!!!!!!!!!!!!!!!!!!!!!!!!!!!!!!!!!!!!!!!!!!!!!!!!!!!!!!!抱歉 text of characters is including of a father, a women, is described in the ocean. The man is wearing a red shirt, theel, while the two are wearing colorful snork blue snork, respectively. The are all swimming in the water of the water, with by a beautiful blue sky. no gentle range background in the background. The text is a cloudy with with the temperature temperature calm and<|im_end|>\\n<|endoftext|>!!!!!!!!!!!!!!!!!!!!!!!!!!!!!!!!!!!!!!!!!!!!!!!!!!!!!!!!!!!!!!!!!!!!!!!!!!!!!!!!!!!!!!!!!!!!!!!!!!!!!!!!!!!!!!!!!']\n",
            "[3.195543659791132e-05]\n"
          ]
        },
        {
          "output_type": "display_data",
          "data": {
            "text/plain": [
              "<IPython.core.display.HTML object>"
            ],
            "text/html": [
              "\n",
              "<style>\n",
              "    /* Turns off some styling */\n",
              "    progress {\n",
              "        /* gets rid of default border in Firefox and Opera. */\n",
              "        border: none;\n",
              "        /* Needs to be in here for Safari polyfill so background images work as expected. */\n",
              "        background-size: auto;\n",
              "    }\n",
              "    progress:not([value]), progress:not([value])::-webkit-progress-bar {\n",
              "        background: repeating-linear-gradient(45deg, #7e7e7e, #7e7e7e 10px, #5c5c5c 10px, #5c5c5c 20px);\n",
              "    }\n",
              "    .progress-bar-interrupted, .progress-bar-interrupted::-webkit-progress-bar {\n",
              "        background: #F44336;\n",
              "    }\n",
              "</style>\n"
            ]
          },
          "metadata": {}
        },
        {
          "output_type": "display_data",
          "data": {
            "text/plain": [
              "<IPython.core.display.HTML object>"
            ],
            "text/html": [
              "\n",
              "    <div>\n",
              "      <progress value='113' class='' max='113' style='width:300px; height:20px; vertical-align: middle;'></progress>\n",
              "      100.00% [113/113 04:28&lt;00:00]\n",
              "    </div>\n",
              "    "
            ]
          },
          "metadata": {}
        },
        {
          "output_type": "stream",
          "name": "stdout",
          "text": [
            "epoch 17 : loss 12.738469123840332 : acc 0.47220516204833984\n",
            "train gt txt ['!!!!!!!!!!!!!!!!!!!!!!!!!!!!!!!!!!!!!!!!!!!!!!!!!!!!!!!!!!!!!!!!!!!!!!!!!!!!!!!!!!!A panoramic view of the Sydney Opera House with a cloudy sky.<|im_end|>\\n<|endoftext|>!!!!!!!!!!!!!!!!!!!!!!!!!!!!!!!!!!!!!!!!!!!!!!!!!!!!!!!!!!!!!!!!!!!!!!!!!!!!!!!!!!!!!!!!!!!!!!!!!!!!!!!!!!!!!!!!!!!!!!!!!!!!!!!!!!!!!!!!!!!!!!!!!!!!!!!!!!!!!!!!!!!!!!!!!!!!!!!!!!!!', \"!!!!!!!!!!!!!!!!!!!!!!!!!!!!!!!!!!!!!!!!!!!!!!!!!!!!!!!!!!!!!!!!!!!!!!!!!!!!!!!!!!!A magazine page with a large headline that reads 'FASHION NEWS' in bold, stylized letters. Below the headline, there are several smaller headlines and text blocks in a variety of fonts and sizes. The page is filled with images of people, including a man in a white shirt and black pants, a woman in a brown jacket, and a man in a beige suit. There are also images of a bench, a building, and a man in a white shirt and black pants. The text is in a foreign language, possibly Spanish, and the overall design is modern and visually appealing.<|im_end|>\\n<|endoftext|>!!!!!!!!!!!!!!!!!!!!!!!!!!!!!!!!!!!!!!!!!!!!!!!!!!!!!!!!!!!!!!!!!!!!!!!!!\", \"!!!!!!!!!!!!!!!!!!!!!!!!!!!!!!!!!!!!!!!!!!!!!!!!!!!!!!!!!!!!!!!!!!!!!!!!!!!!!!!!!!!A bottle of Pisco Port\\\\xc3\\\\xb3n with a silver label and a clear glass body. The label features a stylized image of a building with a mountainous landscape in the background, and the text 'EST. 1994' and 'PISCO PORTON' are prominently displayed. The bottle is set against a dark background.<|im_end|>\\n<|endoftext|>!!!!!!!!!!!!!!!!!!!!!!!!!!!!!!!!!!!!!!!!!!!!!!!!!!!!!!!!!!!!!!!!!!!!!!!!!!!!!!!!!!!!!!!!!!!!!!!!!!!!!!!!!!!!!!!!!!!!!!!!!\"]\n",
            "train pred txt ['!!!!!!!!!!!!!!!!!!!!!!!!!!!!!!!!!!!!!!!!!!!!!!!!!!!!!!!!!!!!!!!!!!!!!!!!!!!!!!!!!!!As text text of the world Harbor House, its focus sky and The\\n<|endoftext|>!!!!!!!!!!!!!!!!!!!!!!!!!!!!!!!!!!!!!!!!!!!!!!!!!!!!!!!!!!!!!!!!!!!!!!!!!!!!!!!!!!!!!!!!!!!!!!!!!!!!!!!!!!!!!!!!!!!!!!!!!!!!!!!!!!!!!!!!!!!!!!!!!!!!!!!!!!!!!!!!!!!!!!!!!!!!!!!!!!!!', '!!!!!!!!!!!!!!!!!!!!!!!!!!!!!!!!!!!!!!!!!!!!!!!!!!!!!!!!!!!!!!!!!!!!!!!!!!!!!!!!!!!The text is is the description \" or describes \"描述ragION\\'\\' is English. andized text.<|im_end|> the headline, there is two lines headlines that sub that that the grid of languages and styles.<|im_end|> text is described with text and fashion and products models woman, a suit suit, a pants, a woman in a black shirt and and a man in a red shirt. The are also images of a cat, a table, and a car in a wheelchair suit. black pants. The text is written a mix language, but Spanish or and includes page layout is a and visually appealing.<|im_end|>\\n<|endoftext|>!!!!!!!!!!!!!!!!!!!!!!!!!!!!!!!!!!!!!!!!!!!!!!!!!!!!!!!!!!!!!!!!!!!!!!!!!', '!!!!!!!!!!!!!!!!!!!!!!!!!!!!!!!!!!!!!!!!!!!!!!!!!!!!!!!!!!!!!!!!!!!!!!!!!!!!!!!!!!!I text of waterrou is is2\\\\xa1n is a sweet label, a label,.. The bottle features a silverized logo of a bottle with a red range landscape, the background. symbol the bottle \"PABL P1998\\' is \\'P. PORT C\\' are written displayed. The bottle is in in a vibrant background,<|im_end|>\\n<|endoftext|>!!!!!!!!!!!!!!!!!!!!!!!!!!!!!!!!!!!!!!!!!!!!!!!!!!!!!!!!!!!!!!!!!!!!!!!!!!!!!!!!!!!!!!!!!!!!!!!!!!!!!!!!!!!!!!!!!!!!!!!!!']\n"
          ]
        },
        {
          "output_type": "display_data",
          "data": {
            "text/plain": [
              "<IPython.core.display.HTML object>"
            ],
            "text/html": [
              "\n",
              "<style>\n",
              "    /* Turns off some styling */\n",
              "    progress {\n",
              "        /* gets rid of default border in Firefox and Opera. */\n",
              "        border: none;\n",
              "        /* Needs to be in here for Safari polyfill so background images work as expected. */\n",
              "        background-size: auto;\n",
              "    }\n",
              "    progress:not([value]), progress:not([value])::-webkit-progress-bar {\n",
              "        background: repeating-linear-gradient(45deg, #7e7e7e, #7e7e7e 10px, #5c5c5c 10px, #5c5c5c 20px);\n",
              "    }\n",
              "    .progress-bar-interrupted, .progress-bar-interrupted::-webkit-progress-bar {\n",
              "        background: #F44336;\n",
              "    }\n",
              "</style>\n"
            ]
          },
          "metadata": {}
        },
        {
          "output_type": "display_data",
          "data": {
            "text/plain": [
              "<IPython.core.display.HTML object>"
            ],
            "text/html": [
              "\n",
              "    <div>\n",
              "      <progress value='13' class='' max='13' style='width:300px; height:20px; vertical-align: middle;'></progress>\n",
              "      100.00% [13/13 00:20&lt;00:00]\n",
              "    </div>\n",
              "    "
            ]
          },
          "metadata": {}
        },
        {
          "output_type": "stream",
          "name": "stdout",
          "text": [
            "epoch 17 : test acc 0.4833471477031708\n",
            "test gt txt [\"!!!!!!!!!!!!!!!!!!!!!!!!!!!!!!!!!!!!!!!!!!!!!!!!!!!!!!!!!!!!!!!!!!!!!!!!!!!!!!!!!!!The image features a close-up of a person's face with a surgical mask, likely a doctor, with the text 'Volunteer Spotlight: Dr. Bill McCure' overlaid on top. The text is in a red and white color scheme, with the words 'Volunteer Spotlight' in red and 'Dr. Bill McCure' in white. Below the text, there is a smaller text that reads 'Training the next generation of surgeons in Cuba'. The image has a dark background, and the person's face is illuminated, suggesting a focus on the doctor's identity and the work they are involved in.<|im_end|>\\n<|endoftext|>!!!!!!!!!!!!!!!!!!!!!!!!!!!!!!!!!!!!!!!!!!!!!!!!!!!!!!!!!!!!!!!!!!!!!!\", \"!!!!!!!!!!!!!!!!!!!!!!!!!!!!!!!!!!!!!!!!!!!!!!!!!!!!!!!!!!!!!!!!!!!!!!!!!!!!!!!!!!!A rocket is launching into the sky, with its bright trail of smoke visible against the backdrop of a blue sky with scattered clouds. The rocket's body is elongated and cylindrical, with a pointed tip and a flared base. The sky is dotted with small, round, out-of-focus light spots, possibly from the sun or other light sources.<|im_end|>\\n<|endoftext|>!!!!!!!!!!!!!!!!!!!!!!!!!!!!!!!!!!!!!!!!!!!!!!!!!!!!!!!!!!!!!!!!!!!!!!!!!!!!!!!!!!!!!!!!!!!!!!!!!!!!!!!!!!!!!!!!!!!!!!!!!!!\", '!!!!!!!!!!!!!!!!!!!!!!!!!!!!!!!!!!!!!!!!!!!!!!!!!!!!!!!!!!!!!!!!!!!!!!!!!!!!!!!!!!!A family of three, consisting of a man and two children, is swimming in the ocean. The man is wearing a green mask and snorkel, while the children are wearing pink and green masks, respectively. They are all floating near the surface of the water, surrounded by a clear blue ocean with a mountainous island in the background. The sky is partly cloudy, and the water is calm.<|im_end|>\\n<|endoftext|>!!!!!!!!!!!!!!!!!!!!!!!!!!!!!!!!!!!!!!!!!!!!!!!!!!!!!!!!!!!!!!!!!!!!!!!!!!!!!!!!!!!!!!!!!!!!!!!!!!!!!!!!!!!!!!!!!']\n",
            "test pred txt ['!!!!!!!!!!!!!!!!!!!!!!!!!!!!!!!!!!!!!!!!!!!!!!!!!!!!!!!!!!!!!!!!!!!!!!!!!!!!!!!!!!!描述 text you a vibrant-up of a human\\'s face, a slight mask on indicating used medical or wearing their text \"Theunteer for: A. Smith\\'.ull\\' writtenaid on the. The text describes in a bold font white color scheme, with the doctor \"Volunteer Spotlight\\' in bold and \\'Dr. Bill McCure\\' in white. The the text, there is a small image \\' reads \\'Vol for future generation of doctors\\' the.\\'<|im_end|> image and a blurred background and and the text in face is blurred by suggesting they medical on the medical\\'s appearance and the medical they do doing in.<|im_end|>\\n<|endoftext|>!!!!!!!!!!!!!!!!!!!!!!!!!!!!!!!!!!!!!!!!!!!!!!!!!!!!!!!!!!!!!!!!!!!!!!', '!!!!!!!!!!!!!!!!!!!!!!!!!!!!!!!!!!!!!!!!!!!!!!!!!!!!!!!!!!!!!!!!!!!!!!!!!!!!!!!!!!!抱歉 text is a from space sky, and its engines yellow of smoke and from the sky of the clear sky. a clouds. The rocket is body is aated and has, with a bright top. a longared tail. The rocket is filled with bright white bright pieces glowing-of-control stars spots, which the the rocket or other nearby sources. The\\n<|endoftext|>!!!!!!!!!!!!!!!!!!!!!!!!!!!!!!!!!!!!!!!!!!!!!!!!!!!!!!!!!!!!!!!!!!!!!!!!!!!!!!!!!!!!!!!!!!!!!!!!!!!!!!!!!!!!!!!!!!!!!!!!!!!', '!!!!!!!!!!!!!!!!!!!!!!!!!!!!!!!!!!!!!!!!!!!!!!!!!!!!!!!!!!!!!!!!!!!!!!!!!!!!!!!!!!!抱歉 text of characters is including of a father, a women, is described in the ocean. The man is wearing a red shirt, theel, while the two are wearing swim snork blue snork, respectively. The are all swimming in the water of the water, with by a beautiful blue sky. no gentle range background in the background. The text is a cloudy, and the temperature temperature calm and<|im_end|>\\n<|endoftext|>!!!!!!!!!!!!!!!!!!!!!!!!!!!!!!!!!!!!!!!!!!!!!!!!!!!!!!!!!!!!!!!!!!!!!!!!!!!!!!!!!!!!!!!!!!!!!!!!!!!!!!!!!!!!!!!!!']\n",
            "[3.0000642344401113e-05]\n"
          ]
        },
        {
          "output_type": "display_data",
          "data": {
            "text/plain": [
              "<IPython.core.display.HTML object>"
            ],
            "text/html": [
              "\n",
              "<style>\n",
              "    /* Turns off some styling */\n",
              "    progress {\n",
              "        /* gets rid of default border in Firefox and Opera. */\n",
              "        border: none;\n",
              "        /* Needs to be in here for Safari polyfill so background images work as expected. */\n",
              "        background-size: auto;\n",
              "    }\n",
              "    progress:not([value]), progress:not([value])::-webkit-progress-bar {\n",
              "        background: repeating-linear-gradient(45deg, #7e7e7e, #7e7e7e 10px, #5c5c5c 10px, #5c5c5c 20px);\n",
              "    }\n",
              "    .progress-bar-interrupted, .progress-bar-interrupted::-webkit-progress-bar {\n",
              "        background: #F44336;\n",
              "    }\n",
              "</style>\n"
            ]
          },
          "metadata": {}
        },
        {
          "output_type": "display_data",
          "data": {
            "text/plain": [
              "<IPython.core.display.HTML object>"
            ],
            "text/html": [
              "\n",
              "    <div>\n",
              "      <progress value='113' class='' max='113' style='width:300px; height:20px; vertical-align: middle;'></progress>\n",
              "      100.00% [113/113 04:29&lt;00:00]\n",
              "    </div>\n",
              "    "
            ]
          },
          "metadata": {}
        },
        {
          "output_type": "stream",
          "name": "stdout",
          "text": [
            "epoch 18 : loss 12.736659049987793 : acc 0.472476065158844\n",
            "train gt txt ['!!!!!!!!!!!!!!!!!!!!!!!!!!!!!!!!!!!!!!!!!!!!!!!!!!!!!!!!!!!!!!!!!!!!!!!!!!!!!!!!!!!A stylized cartoon character resembling a piece of bread with a yellow crust and a brown interior is holding a pencil. The character has a smiling face with two eyes and a mouth, and is wearing a yellow headband. The background is a plain white color.<|im_end|>\\n<|endoftext|>!!!!!!!!!!!!!!!!!!!!!!!!!!!!!!!!!!!!!!!!!!!!!!!!!!!!!!!!!!!!!!!!!!!!!!!!!!!!!!!!!!!!!!!!!!!!!!!!!!!!!!!!!!!!!!!!!!!!!!!!!!!!!!!!!!!!!!!!!!!!!', \"!!!!!!!!!!!!!!!!!!!!!!!!!!!!!!!!!!!!!!!!!!!!!!!!!!!!!!!!!!!!!!!!!!!!!!!!!!!!!!!!!!!A close-up image of a CD with a glossy surface. The CD has a white label with red text that reads 'ESTELIE' and 'CD-R 700MB 52X'. The text is centered on the label, and there is a small logo or symbol to the left of the text. The CD has a central hole and a track that runs from the center to the edge. The background is a plain, light color, and the CD is placed on a surface that reflects the light, creating a subtle glow around it.<|im_end|>\\n<|endoftext|>!!!!!!!!!!!!!!!!!!!!!!!!!!!!!!!!!!!!!!!!!!!!!!!!!!!!!!!!!!!!!!!!!!!!!!!!!!!!!!!!!\", \"!!!!!!!!!!!!!!!!!!!!!!!!!!!!!!!!!!!!!!!!!!!!!!!!!!!!!!!!!!!!!!!!!!!!!!!!!!!!!!!!!!!A colorful illustration of a jellyfish is displayed on the cover of an educational book titled 'Jellyfish: Australia'. The book is part of the 'Adventures in Interactive Unit Studies' series, which aims to provide everyday exploring and extraordinary learning experiences. The cover features a prominent jellyfish with a large, open bell and long, flowing tentacles. The background is a gradient of blue tones, and the title and series information are prominently displayed at the bottom.<|im_end|>\\n<|endoftext|>!!!!!!!!!!!!!!!!!!!!!!!!!!!!!!!!!!!!!!!!!!!!!!!!!!!!!!!!!!!!!!!!!!!!!!!!!!!!!!!!!!!!!!!!!!!!!!!!!!!\"]\n",
            "train pred txt ['!!!!!!!!!!!!!!!!!!!!!!!!!!!!!!!!!!!!!!!!!!!!!!!!!!!!!!!!!!!!!!!!!!!!!!!!!!!!!!!!!!!I textized text character named a cat of paper with a long background and a red background. described a spoon, The text is a friendly face and a eyes, a mouth, and the wearing a red shirtband. The text is a bright white background with<|im_end|>\\n<|endoftext|>!!!!!!!!!!!!!!!!!!!!!!!!!!!!!!!!!!!!!!!!!!!!!!!!!!!!!!!!!!!!!!!!!!!!!!!!!!!!!!!!!!!!!!!!!!!!!!!!!!!!!!!!!!!!!!!!!!!!!!!!!!!!!!!!!!!!!!!!!!!!!', '!!!!!!!!!!!!!!!!!!!!!!!!!!!!!!!!!!!!!!!!!!!!!!!!!!!!!!!!!!!!!!!!!!!!!!!!!!!!!!!!!!!As text examination of of a person player a label surface and<|im_end|> CD is a white background with the text, reads \"CDABLA\\'. in aCD\\'.\\'.1500\\'.1004 The CD is in and the CD. with the is a small white of image on the right of the text. The CD is a black hole in a small with is across the left of the edge of The track of a white white white gray, with the text is in in a table with is the color. creating a clear glow. the.<|im_end|>\\n<|endoftext|>!!!!!!!!!!!!!!!!!!!!!!!!!!!!!!!!!!!!!!!!!!!!!!!!!!!!!!!!!!!!!!!!!!!!!!!!!!!!!!!!!', '!!!!!!!!!!!!!!!!!!!!!!!!!!!!!!!!!!!!!!!!!!!!!!!!!!!!!!!!!!!!!!!!!!!!!!!!!!!!!!!!!!!描述 text and of a beautifulfish, depicted on the screen of this online text. \"Theellyfish: A\\'s The jelly is designed of a \\'Jventures in the Art\\'\\' series, which aims to provide engaging activities activities learning learning opportunities for The jelly features a vibrant jellyfish, a vibrant, colorful mouth, a tent slender tentacles. The jelly of a vibrant of colors and, with the text \\' subtitle name are displayed displayed in the top of The\\n<|endoftext|>!!!!!!!!!!!!!!!!!!!!!!!!!!!!!!!!!!!!!!!!!!!!!!!!!!!!!!!!!!!!!!!!!!!!!!!!!!!!!!!!!!!!!!!!!!!!!!!!!!!']\n"
          ]
        },
        {
          "output_type": "display_data",
          "data": {
            "text/plain": [
              "<IPython.core.display.HTML object>"
            ],
            "text/html": [
              "\n",
              "<style>\n",
              "    /* Turns off some styling */\n",
              "    progress {\n",
              "        /* gets rid of default border in Firefox and Opera. */\n",
              "        border: none;\n",
              "        /* Needs to be in here for Safari polyfill so background images work as expected. */\n",
              "        background-size: auto;\n",
              "    }\n",
              "    progress:not([value]), progress:not([value])::-webkit-progress-bar {\n",
              "        background: repeating-linear-gradient(45deg, #7e7e7e, #7e7e7e 10px, #5c5c5c 10px, #5c5c5c 20px);\n",
              "    }\n",
              "    .progress-bar-interrupted, .progress-bar-interrupted::-webkit-progress-bar {\n",
              "        background: #F44336;\n",
              "    }\n",
              "</style>\n"
            ]
          },
          "metadata": {}
        },
        {
          "output_type": "display_data",
          "data": {
            "text/plain": [
              "<IPython.core.display.HTML object>"
            ],
            "text/html": [
              "\n",
              "    <div>\n",
              "      <progress value='13' class='' max='13' style='width:300px; height:20px; vertical-align: middle;'></progress>\n",
              "      100.00% [13/13 00:20&lt;00:00]\n",
              "    </div>\n",
              "    "
            ]
          },
          "metadata": {}
        },
        {
          "output_type": "stream",
          "name": "stdout",
          "text": [
            "epoch 18 : test acc 0.48235294222831726\n",
            "test gt txt [\"!!!!!!!!!!!!!!!!!!!!!!!!!!!!!!!!!!!!!!!!!!!!!!!!!!!!!!!!!!!!!!!!!!!!!!!!!!!!!!!!!!!The image features a close-up of a person's face with a surgical mask, likely a doctor, with the text 'Volunteer Spotlight: Dr. Bill McCure' overlaid on top. The text is in a red and white color scheme, with the words 'Volunteer Spotlight' in red and 'Dr. Bill McCure' in white. Below the text, there is a smaller text that reads 'Training the next generation of surgeons in Cuba'. The image has a dark background, and the person's face is illuminated, suggesting a focus on the doctor's identity and the work they are involved in.<|im_end|>\\n<|endoftext|>!!!!!!!!!!!!!!!!!!!!!!!!!!!!!!!!!!!!!!!!!!!!!!!!!!!!!!!!!!!!!!!!!!!!!!\", \"!!!!!!!!!!!!!!!!!!!!!!!!!!!!!!!!!!!!!!!!!!!!!!!!!!!!!!!!!!!!!!!!!!!!!!!!!!!!!!!!!!!A rocket is launching into the sky, with its bright trail of smoke visible against the backdrop of a blue sky with scattered clouds. The rocket's body is elongated and cylindrical, with a pointed tip and a flared base. The sky is dotted with small, round, out-of-focus light spots, possibly from the sun or other light sources.<|im_end|>\\n<|endoftext|>!!!!!!!!!!!!!!!!!!!!!!!!!!!!!!!!!!!!!!!!!!!!!!!!!!!!!!!!!!!!!!!!!!!!!!!!!!!!!!!!!!!!!!!!!!!!!!!!!!!!!!!!!!!!!!!!!!!!!!!!!!!\", '!!!!!!!!!!!!!!!!!!!!!!!!!!!!!!!!!!!!!!!!!!!!!!!!!!!!!!!!!!!!!!!!!!!!!!!!!!!!!!!!!!!A family of three, consisting of a man and two children, is swimming in the ocean. The man is wearing a green mask and snorkel, while the children are wearing pink and green masks, respectively. They are all floating near the surface of the water, surrounded by a clear blue ocean with a mountainous island in the background. The sky is partly cloudy, and the water is calm.<|im_end|>\\n<|endoftext|>!!!!!!!!!!!!!!!!!!!!!!!!!!!!!!!!!!!!!!!!!!!!!!!!!!!!!!!!!!!!!!!!!!!!!!!!!!!!!!!!!!!!!!!!!!!!!!!!!!!!!!!!!!!!!!!!!']\n",
            "test pred txt ['!!!!!!!!!!!!!!!!!!!!!!!!!!!!!!!!!!!!!!!!!!!!!!!!!!!!!!!!!!!!!!!!!!!!!!!!!!!!!!!!!!!描述 text you a vibrant-up of a human\\'s face, a slight mask on indicating indicating medical or nurse their text \"Theunteer for: A. Smith\\'.ull\\' writtenaid on the. The text describes in a bold font white color scheme, with the doctor \\'Volunteer Spotlight\\' in bold and \\'Dr. Bill McCure\\' in white. The the text, there is a small image \\' reads \\'Vol for future generation of doctors.\\' the.\\'<|im_end|> image and a blurred background and and the text in face is blurred by suggesting they medical on the medical\\'s appearance and the medical they do doing in.<|im_end|>\\n<|endoftext|>!!!!!!!!!!!!!!!!!!!!!!!!!!!!!!!!!!!!!!!!!!!!!!!!!!!!!!!!!!!!!!!!!!!!!!', '!!!!!!!!!!!!!!!!!!!!!!!!!!!!!!!!!!!!!!!!!!!!!!!!!!!!!!!!!!!!!!!!!!!!!!!!!!!!!!!!!!!抱歉 text is a from space sky, and its engines yellow of smoke and from the dark of the clear sky. a clouds. The rocket is body is aated and has, with a bright top. a longared tail. The rocket is filled with bright white bright pieces glowing-of-control stars spots, which the the rocket or other nearby sources. The\\n<|endoftext|>!!!!!!!!!!!!!!!!!!!!!!!!!!!!!!!!!!!!!!!!!!!!!!!!!!!!!!!!!!!!!!!!!!!!!!!!!!!!!!!!!!!!!!!!!!!!!!!!!!!!!!!!!!!!!!!!!!!!!!!!!!!', '!!!!!!!!!!!!!!!!!!!!!!!!!!!!!!!!!!!!!!!!!!!!!!!!!!!!!!!!!!!!!!!!!!!!!!!!!!!!!!!!!!!抱歉 text of characters is including of a father, a women, is described in the ocean. The man is wearing a red shirt, theel, while the two are wearing colorful snork blue snork, respectively. The are all swimming in the water of the water, with by a beautiful blue sky. no gentle range backdrop in the background. The text is a cloudy, with the temperature temperature calm and<|im_end|>\\n<|endoftext|>!!!!!!!!!!!!!!!!!!!!!!!!!!!!!!!!!!!!!!!!!!!!!!!!!!!!!!!!!!!!!!!!!!!!!!!!!!!!!!!!!!!!!!!!!!!!!!!!!!!!!!!!!!!!!!!!!']\n",
            "[2.8013417006383076e-05]\n"
          ]
        },
        {
          "output_type": "display_data",
          "data": {
            "text/plain": [
              "<IPython.core.display.HTML object>"
            ],
            "text/html": [
              "\n",
              "<style>\n",
              "    /* Turns off some styling */\n",
              "    progress {\n",
              "        /* gets rid of default border in Firefox and Opera. */\n",
              "        border: none;\n",
              "        /* Needs to be in here for Safari polyfill so background images work as expected. */\n",
              "        background-size: auto;\n",
              "    }\n",
              "    progress:not([value]), progress:not([value])::-webkit-progress-bar {\n",
              "        background: repeating-linear-gradient(45deg, #7e7e7e, #7e7e7e 10px, #5c5c5c 10px, #5c5c5c 20px);\n",
              "    }\n",
              "    .progress-bar-interrupted, .progress-bar-interrupted::-webkit-progress-bar {\n",
              "        background: #F44336;\n",
              "    }\n",
              "</style>\n"
            ]
          },
          "metadata": {}
        },
        {
          "output_type": "display_data",
          "data": {
            "text/plain": [
              "<IPython.core.display.HTML object>"
            ],
            "text/html": [
              "\n",
              "    <div>\n",
              "      <progress value='35' class='' max='113' style='width:300px; height:20px; vertical-align: middle;'></progress>\n",
              "      30.97% [35/113 01:23&lt;03:06]\n",
              "    </div>\n",
              "    "
            ]
          },
          "metadata": {}
        },
        {
          "output_type": "error",
          "ename": "KeyboardInterrupt",
          "evalue": "",
          "traceback": [
            "\u001b[0;31m---------------------------------------------------------------------------\u001b[0m",
            "\u001b[0;31mKeyboardInterrupt\u001b[0m                         Traceback (most recent call last)",
            "\u001b[0;32m<ipython-input-32-e3ef32566871>\u001b[0m in \u001b[0;36m<cell line: 0>\u001b[0;34m()\u001b[0m\n\u001b[1;32m     30\u001b[0m             )\n\u001b[1;32m     31\u001b[0m             \u001b[0;31m# 2.\u001b[0m\u001b[0;34m\u001b[0m\u001b[0;34m\u001b[0m\u001b[0m\n\u001b[0;32m---> 32\u001b[0;31m             llm_out = llm_model(\n\u001b[0m\u001b[1;32m     33\u001b[0m                 \u001b[0mattention_mask\u001b[0m\u001b[0;34m=\u001b[0m\u001b[0mtext_vison_mask\u001b[0m\u001b[0;34m,\u001b[0m\u001b[0;34m\u001b[0m\u001b[0;34m\u001b[0m\u001b[0m\n\u001b[1;32m     34\u001b[0m                 \u001b[0minputs_embeds\u001b[0m\u001b[0;34m=\u001b[0m\u001b[0mtext_vison_emb\u001b[0m\u001b[0;34m.\u001b[0m\u001b[0mto\u001b[0m\u001b[0;34m(\u001b[0m\u001b[0mllm_dtype\u001b[0m\u001b[0;34m)\u001b[0m\u001b[0;34m,\u001b[0m\u001b[0;34m\u001b[0m\u001b[0;34m\u001b[0m\u001b[0m\n",
            "\u001b[0;32m/usr/local/lib/python3.11/dist-packages/torch/nn/modules/module.py\u001b[0m in \u001b[0;36m_wrapped_call_impl\u001b[0;34m(self, *args, **kwargs)\u001b[0m\n\u001b[1;32m   1734\u001b[0m             \u001b[0;32mreturn\u001b[0m \u001b[0mself\u001b[0m\u001b[0;34m.\u001b[0m\u001b[0m_compiled_call_impl\u001b[0m\u001b[0;34m(\u001b[0m\u001b[0;34m*\u001b[0m\u001b[0margs\u001b[0m\u001b[0;34m,\u001b[0m \u001b[0;34m**\u001b[0m\u001b[0mkwargs\u001b[0m\u001b[0;34m)\u001b[0m  \u001b[0;31m# type: ignore[misc]\u001b[0m\u001b[0;34m\u001b[0m\u001b[0;34m\u001b[0m\u001b[0m\n\u001b[1;32m   1735\u001b[0m         \u001b[0;32melse\u001b[0m\u001b[0;34m:\u001b[0m\u001b[0;34m\u001b[0m\u001b[0;34m\u001b[0m\u001b[0m\n\u001b[0;32m-> 1736\u001b[0;31m             \u001b[0;32mreturn\u001b[0m \u001b[0mself\u001b[0m\u001b[0;34m.\u001b[0m\u001b[0m_call_impl\u001b[0m\u001b[0;34m(\u001b[0m\u001b[0;34m*\u001b[0m\u001b[0margs\u001b[0m\u001b[0;34m,\u001b[0m \u001b[0;34m**\u001b[0m\u001b[0mkwargs\u001b[0m\u001b[0;34m)\u001b[0m\u001b[0;34m\u001b[0m\u001b[0;34m\u001b[0m\u001b[0m\n\u001b[0m\u001b[1;32m   1737\u001b[0m \u001b[0;34m\u001b[0m\u001b[0m\n\u001b[1;32m   1738\u001b[0m     \u001b[0;31m# torchrec tests the code consistency with the following code\u001b[0m\u001b[0;34m\u001b[0m\u001b[0;34m\u001b[0m\u001b[0m\n",
            "\u001b[0;32m/usr/local/lib/python3.11/dist-packages/torch/nn/modules/module.py\u001b[0m in \u001b[0;36m_call_impl\u001b[0;34m(self, *args, **kwargs)\u001b[0m\n\u001b[1;32m   1745\u001b[0m                 \u001b[0;32mor\u001b[0m \u001b[0m_global_backward_pre_hooks\u001b[0m \u001b[0;32mor\u001b[0m \u001b[0m_global_backward_hooks\u001b[0m\u001b[0;34m\u001b[0m\u001b[0;34m\u001b[0m\u001b[0m\n\u001b[1;32m   1746\u001b[0m                 or _global_forward_hooks or _global_forward_pre_hooks):\n\u001b[0;32m-> 1747\u001b[0;31m             \u001b[0;32mreturn\u001b[0m \u001b[0mforward_call\u001b[0m\u001b[0;34m(\u001b[0m\u001b[0;34m*\u001b[0m\u001b[0margs\u001b[0m\u001b[0;34m,\u001b[0m \u001b[0;34m**\u001b[0m\u001b[0mkwargs\u001b[0m\u001b[0;34m)\u001b[0m\u001b[0;34m\u001b[0m\u001b[0;34m\u001b[0m\u001b[0m\n\u001b[0m\u001b[1;32m   1748\u001b[0m \u001b[0;34m\u001b[0m\u001b[0m\n\u001b[1;32m   1749\u001b[0m         \u001b[0mresult\u001b[0m \u001b[0;34m=\u001b[0m \u001b[0;32mNone\u001b[0m\u001b[0;34m\u001b[0m\u001b[0;34m\u001b[0m\u001b[0m\n",
            "\u001b[0;32m/usr/local/lib/python3.11/dist-packages/transformers/models/qwen2/modeling_qwen2.py\u001b[0m in \u001b[0;36mforward\u001b[0;34m(self, input_ids, attention_mask, position_ids, past_key_values, inputs_embeds, labels, use_cache, output_attentions, output_hidden_states, return_dict, cache_position, num_logits_to_keep, **loss_kwargs)\u001b[0m\n\u001b[1;32m   1163\u001b[0m \u001b[0;34m\u001b[0m\u001b[0m\n\u001b[1;32m   1164\u001b[0m         \u001b[0;31m# decoder outputs consists of (dec_features, layer_state, dec_hidden, dec_attn)\u001b[0m\u001b[0;34m\u001b[0m\u001b[0;34m\u001b[0m\u001b[0m\n\u001b[0;32m-> 1165\u001b[0;31m         outputs = self.model(\n\u001b[0m\u001b[1;32m   1166\u001b[0m             \u001b[0minput_ids\u001b[0m\u001b[0;34m=\u001b[0m\u001b[0minput_ids\u001b[0m\u001b[0;34m,\u001b[0m\u001b[0;34m\u001b[0m\u001b[0;34m\u001b[0m\u001b[0m\n\u001b[1;32m   1167\u001b[0m             \u001b[0mattention_mask\u001b[0m\u001b[0;34m=\u001b[0m\u001b[0mattention_mask\u001b[0m\u001b[0;34m,\u001b[0m\u001b[0;34m\u001b[0m\u001b[0;34m\u001b[0m\u001b[0m\n",
            "\u001b[0;32m/usr/local/lib/python3.11/dist-packages/torch/nn/modules/module.py\u001b[0m in \u001b[0;36m_wrapped_call_impl\u001b[0;34m(self, *args, **kwargs)\u001b[0m\n\u001b[1;32m   1734\u001b[0m             \u001b[0;32mreturn\u001b[0m \u001b[0mself\u001b[0m\u001b[0;34m.\u001b[0m\u001b[0m_compiled_call_impl\u001b[0m\u001b[0;34m(\u001b[0m\u001b[0;34m*\u001b[0m\u001b[0margs\u001b[0m\u001b[0;34m,\u001b[0m \u001b[0;34m**\u001b[0m\u001b[0mkwargs\u001b[0m\u001b[0;34m)\u001b[0m  \u001b[0;31m# type: ignore[misc]\u001b[0m\u001b[0;34m\u001b[0m\u001b[0;34m\u001b[0m\u001b[0m\n\u001b[1;32m   1735\u001b[0m         \u001b[0;32melse\u001b[0m\u001b[0;34m:\u001b[0m\u001b[0;34m\u001b[0m\u001b[0;34m\u001b[0m\u001b[0m\n\u001b[0;32m-> 1736\u001b[0;31m             \u001b[0;32mreturn\u001b[0m \u001b[0mself\u001b[0m\u001b[0;34m.\u001b[0m\u001b[0m_call_impl\u001b[0m\u001b[0;34m(\u001b[0m\u001b[0;34m*\u001b[0m\u001b[0margs\u001b[0m\u001b[0;34m,\u001b[0m \u001b[0;34m**\u001b[0m\u001b[0mkwargs\u001b[0m\u001b[0;34m)\u001b[0m\u001b[0;34m\u001b[0m\u001b[0;34m\u001b[0m\u001b[0m\n\u001b[0m\u001b[1;32m   1737\u001b[0m \u001b[0;34m\u001b[0m\u001b[0m\n\u001b[1;32m   1738\u001b[0m     \u001b[0;31m# torchrec tests the code consistency with the following code\u001b[0m\u001b[0;34m\u001b[0m\u001b[0;34m\u001b[0m\u001b[0m\n",
            "\u001b[0;32m/usr/local/lib/python3.11/dist-packages/torch/nn/modules/module.py\u001b[0m in \u001b[0;36m_call_impl\u001b[0;34m(self, *args, **kwargs)\u001b[0m\n\u001b[1;32m   1745\u001b[0m                 \u001b[0;32mor\u001b[0m \u001b[0m_global_backward_pre_hooks\u001b[0m \u001b[0;32mor\u001b[0m \u001b[0m_global_backward_hooks\u001b[0m\u001b[0;34m\u001b[0m\u001b[0;34m\u001b[0m\u001b[0m\n\u001b[1;32m   1746\u001b[0m                 or _global_forward_hooks or _global_forward_pre_hooks):\n\u001b[0;32m-> 1747\u001b[0;31m             \u001b[0;32mreturn\u001b[0m \u001b[0mforward_call\u001b[0m\u001b[0;34m(\u001b[0m\u001b[0;34m*\u001b[0m\u001b[0margs\u001b[0m\u001b[0;34m,\u001b[0m \u001b[0;34m**\u001b[0m\u001b[0mkwargs\u001b[0m\u001b[0;34m)\u001b[0m\u001b[0;34m\u001b[0m\u001b[0;34m\u001b[0m\u001b[0m\n\u001b[0m\u001b[1;32m   1748\u001b[0m \u001b[0;34m\u001b[0m\u001b[0m\n\u001b[1;32m   1749\u001b[0m         \u001b[0mresult\u001b[0m \u001b[0;34m=\u001b[0m \u001b[0;32mNone\u001b[0m\u001b[0;34m\u001b[0m\u001b[0;34m\u001b[0m\u001b[0m\n",
            "\u001b[0;32m/usr/local/lib/python3.11/dist-packages/transformers/models/qwen2/modeling_qwen2.py\u001b[0m in \u001b[0;36mforward\u001b[0;34m(self, input_ids, attention_mask, position_ids, past_key_values, inputs_embeds, use_cache, output_attentions, output_hidden_states, return_dict, cache_position)\u001b[0m\n\u001b[1;32m    893\u001b[0m                 )\n\u001b[1;32m    894\u001b[0m             \u001b[0;32melse\u001b[0m\u001b[0;34m:\u001b[0m\u001b[0;34m\u001b[0m\u001b[0;34m\u001b[0m\u001b[0m\n\u001b[0;32m--> 895\u001b[0;31m                 layer_outputs = decoder_layer(\n\u001b[0m\u001b[1;32m    896\u001b[0m                     \u001b[0mhidden_states\u001b[0m\u001b[0;34m,\u001b[0m\u001b[0;34m\u001b[0m\u001b[0;34m\u001b[0m\u001b[0m\n\u001b[1;32m    897\u001b[0m                     \u001b[0mattention_mask\u001b[0m\u001b[0;34m=\u001b[0m\u001b[0mcausal_mask\u001b[0m\u001b[0;34m,\u001b[0m\u001b[0;34m\u001b[0m\u001b[0;34m\u001b[0m\u001b[0m\n",
            "\u001b[0;32m/usr/local/lib/python3.11/dist-packages/torch/nn/modules/module.py\u001b[0m in \u001b[0;36m_wrapped_call_impl\u001b[0;34m(self, *args, **kwargs)\u001b[0m\n\u001b[1;32m   1734\u001b[0m             \u001b[0;32mreturn\u001b[0m \u001b[0mself\u001b[0m\u001b[0;34m.\u001b[0m\u001b[0m_compiled_call_impl\u001b[0m\u001b[0;34m(\u001b[0m\u001b[0;34m*\u001b[0m\u001b[0margs\u001b[0m\u001b[0;34m,\u001b[0m \u001b[0;34m**\u001b[0m\u001b[0mkwargs\u001b[0m\u001b[0;34m)\u001b[0m  \u001b[0;31m# type: ignore[misc]\u001b[0m\u001b[0;34m\u001b[0m\u001b[0;34m\u001b[0m\u001b[0m\n\u001b[1;32m   1735\u001b[0m         \u001b[0;32melse\u001b[0m\u001b[0;34m:\u001b[0m\u001b[0;34m\u001b[0m\u001b[0;34m\u001b[0m\u001b[0m\n\u001b[0;32m-> 1736\u001b[0;31m             \u001b[0;32mreturn\u001b[0m \u001b[0mself\u001b[0m\u001b[0;34m.\u001b[0m\u001b[0m_call_impl\u001b[0m\u001b[0;34m(\u001b[0m\u001b[0;34m*\u001b[0m\u001b[0margs\u001b[0m\u001b[0;34m,\u001b[0m \u001b[0;34m**\u001b[0m\u001b[0mkwargs\u001b[0m\u001b[0;34m)\u001b[0m\u001b[0;34m\u001b[0m\u001b[0;34m\u001b[0m\u001b[0m\n\u001b[0m\u001b[1;32m   1737\u001b[0m \u001b[0;34m\u001b[0m\u001b[0m\n\u001b[1;32m   1738\u001b[0m     \u001b[0;31m# torchrec tests the code consistency with the following code\u001b[0m\u001b[0;34m\u001b[0m\u001b[0;34m\u001b[0m\u001b[0m\n",
            "\u001b[0;32m/usr/local/lib/python3.11/dist-packages/torch/nn/modules/module.py\u001b[0m in \u001b[0;36m_call_impl\u001b[0;34m(self, *args, **kwargs)\u001b[0m\n\u001b[1;32m   1745\u001b[0m                 \u001b[0;32mor\u001b[0m \u001b[0m_global_backward_pre_hooks\u001b[0m \u001b[0;32mor\u001b[0m \u001b[0m_global_backward_hooks\u001b[0m\u001b[0;34m\u001b[0m\u001b[0;34m\u001b[0m\u001b[0m\n\u001b[1;32m   1746\u001b[0m                 or _global_forward_hooks or _global_forward_pre_hooks):\n\u001b[0;32m-> 1747\u001b[0;31m             \u001b[0;32mreturn\u001b[0m \u001b[0mforward_call\u001b[0m\u001b[0;34m(\u001b[0m\u001b[0;34m*\u001b[0m\u001b[0margs\u001b[0m\u001b[0;34m,\u001b[0m \u001b[0;34m**\u001b[0m\u001b[0mkwargs\u001b[0m\u001b[0;34m)\u001b[0m\u001b[0;34m\u001b[0m\u001b[0;34m\u001b[0m\u001b[0m\n\u001b[0m\u001b[1;32m   1748\u001b[0m \u001b[0;34m\u001b[0m\u001b[0m\n\u001b[1;32m   1749\u001b[0m         \u001b[0mresult\u001b[0m \u001b[0;34m=\u001b[0m \u001b[0;32mNone\u001b[0m\u001b[0;34m\u001b[0m\u001b[0;34m\u001b[0m\u001b[0m\n",
            "\u001b[0;32m/usr/local/lib/python3.11/dist-packages/transformers/models/qwen2/modeling_qwen2.py\u001b[0m in \u001b[0;36mforward\u001b[0;34m(self, hidden_states, attention_mask, position_ids, past_key_value, output_attentions, use_cache, cache_position, position_embeddings, **kwargs)\u001b[0m\n\u001b[1;32m    621\u001b[0m \u001b[0;34m\u001b[0m\u001b[0m\n\u001b[1;32m    622\u001b[0m         \u001b[0;31m# Self Attention\u001b[0m\u001b[0;34m\u001b[0m\u001b[0;34m\u001b[0m\u001b[0m\n\u001b[0;32m--> 623\u001b[0;31m         hidden_states, self_attn_weights, present_key_value = self.self_attn(\n\u001b[0m\u001b[1;32m    624\u001b[0m             \u001b[0mhidden_states\u001b[0m\u001b[0;34m=\u001b[0m\u001b[0mhidden_states\u001b[0m\u001b[0;34m,\u001b[0m\u001b[0;34m\u001b[0m\u001b[0;34m\u001b[0m\u001b[0m\n\u001b[1;32m    625\u001b[0m             \u001b[0mattention_mask\u001b[0m\u001b[0;34m=\u001b[0m\u001b[0mattention_mask\u001b[0m\u001b[0;34m,\u001b[0m\u001b[0;34m\u001b[0m\u001b[0;34m\u001b[0m\u001b[0m\n",
            "\u001b[0;32m/usr/local/lib/python3.11/dist-packages/torch/nn/modules/module.py\u001b[0m in \u001b[0;36m_wrapped_call_impl\u001b[0;34m(self, *args, **kwargs)\u001b[0m\n\u001b[1;32m   1734\u001b[0m             \u001b[0;32mreturn\u001b[0m \u001b[0mself\u001b[0m\u001b[0;34m.\u001b[0m\u001b[0m_compiled_call_impl\u001b[0m\u001b[0;34m(\u001b[0m\u001b[0;34m*\u001b[0m\u001b[0margs\u001b[0m\u001b[0;34m,\u001b[0m \u001b[0;34m**\u001b[0m\u001b[0mkwargs\u001b[0m\u001b[0;34m)\u001b[0m  \u001b[0;31m# type: ignore[misc]\u001b[0m\u001b[0;34m\u001b[0m\u001b[0;34m\u001b[0m\u001b[0m\n\u001b[1;32m   1735\u001b[0m         \u001b[0;32melse\u001b[0m\u001b[0;34m:\u001b[0m\u001b[0;34m\u001b[0m\u001b[0;34m\u001b[0m\u001b[0m\n\u001b[0;32m-> 1736\u001b[0;31m             \u001b[0;32mreturn\u001b[0m \u001b[0mself\u001b[0m\u001b[0;34m.\u001b[0m\u001b[0m_call_impl\u001b[0m\u001b[0;34m(\u001b[0m\u001b[0;34m*\u001b[0m\u001b[0margs\u001b[0m\u001b[0;34m,\u001b[0m \u001b[0;34m**\u001b[0m\u001b[0mkwargs\u001b[0m\u001b[0;34m)\u001b[0m\u001b[0;34m\u001b[0m\u001b[0;34m\u001b[0m\u001b[0m\n\u001b[0m\u001b[1;32m   1737\u001b[0m \u001b[0;34m\u001b[0m\u001b[0m\n\u001b[1;32m   1738\u001b[0m     \u001b[0;31m# torchrec tests the code consistency with the following code\u001b[0m\u001b[0;34m\u001b[0m\u001b[0;34m\u001b[0m\u001b[0m\n",
            "\u001b[0;32m/usr/local/lib/python3.11/dist-packages/torch/nn/modules/module.py\u001b[0m in \u001b[0;36m_call_impl\u001b[0;34m(self, *args, **kwargs)\u001b[0m\n\u001b[1;32m   1745\u001b[0m                 \u001b[0;32mor\u001b[0m \u001b[0m_global_backward_pre_hooks\u001b[0m \u001b[0;32mor\u001b[0m \u001b[0m_global_backward_hooks\u001b[0m\u001b[0;34m\u001b[0m\u001b[0;34m\u001b[0m\u001b[0m\n\u001b[1;32m   1746\u001b[0m                 or _global_forward_hooks or _global_forward_pre_hooks):\n\u001b[0;32m-> 1747\u001b[0;31m             \u001b[0;32mreturn\u001b[0m \u001b[0mforward_call\u001b[0m\u001b[0;34m(\u001b[0m\u001b[0;34m*\u001b[0m\u001b[0margs\u001b[0m\u001b[0;34m,\u001b[0m \u001b[0;34m**\u001b[0m\u001b[0mkwargs\u001b[0m\u001b[0;34m)\u001b[0m\u001b[0;34m\u001b[0m\u001b[0;34m\u001b[0m\u001b[0m\n\u001b[0m\u001b[1;32m   1748\u001b[0m \u001b[0;34m\u001b[0m\u001b[0m\n\u001b[1;32m   1749\u001b[0m         \u001b[0mresult\u001b[0m \u001b[0;34m=\u001b[0m \u001b[0;32mNone\u001b[0m\u001b[0;34m\u001b[0m\u001b[0;34m\u001b[0m\u001b[0m\n",
            "\u001b[0;32m/usr/local/lib/python3.11/dist-packages/transformers/models/qwen2/modeling_qwen2.py\u001b[0m in \u001b[0;36mforward\u001b[0;34m(self, hidden_states, attention_mask, position_ids, past_key_value, output_attentions, use_cache, cache_position, position_embeddings)\u001b[0m\n\u001b[1;32m    500\u001b[0m \u001b[0;34m\u001b[0m\u001b[0m\n\u001b[1;32m    501\u001b[0m         \u001b[0mquery_states\u001b[0m \u001b[0;34m=\u001b[0m \u001b[0mself\u001b[0m\u001b[0;34m.\u001b[0m\u001b[0mq_proj\u001b[0m\u001b[0;34m(\u001b[0m\u001b[0mhidden_states\u001b[0m\u001b[0;34m)\u001b[0m\u001b[0;34m\u001b[0m\u001b[0;34m\u001b[0m\u001b[0m\n\u001b[0;32m--> 502\u001b[0;31m         \u001b[0mkey_states\u001b[0m \u001b[0;34m=\u001b[0m \u001b[0mself\u001b[0m\u001b[0;34m.\u001b[0m\u001b[0mk_proj\u001b[0m\u001b[0;34m(\u001b[0m\u001b[0mhidden_states\u001b[0m\u001b[0;34m)\u001b[0m\u001b[0;34m\u001b[0m\u001b[0;34m\u001b[0m\u001b[0m\n\u001b[0m\u001b[1;32m    503\u001b[0m         \u001b[0mvalue_states\u001b[0m \u001b[0;34m=\u001b[0m \u001b[0mself\u001b[0m\u001b[0;34m.\u001b[0m\u001b[0mv_proj\u001b[0m\u001b[0;34m(\u001b[0m\u001b[0mhidden_states\u001b[0m\u001b[0;34m)\u001b[0m\u001b[0;34m\u001b[0m\u001b[0;34m\u001b[0m\u001b[0m\n\u001b[1;32m    504\u001b[0m \u001b[0;34m\u001b[0m\u001b[0m\n",
            "\u001b[0;32m/usr/local/lib/python3.11/dist-packages/torch/nn/modules/module.py\u001b[0m in \u001b[0;36m_wrapped_call_impl\u001b[0;34m(self, *args, **kwargs)\u001b[0m\n\u001b[1;32m   1734\u001b[0m             \u001b[0;32mreturn\u001b[0m \u001b[0mself\u001b[0m\u001b[0;34m.\u001b[0m\u001b[0m_compiled_call_impl\u001b[0m\u001b[0;34m(\u001b[0m\u001b[0;34m*\u001b[0m\u001b[0margs\u001b[0m\u001b[0;34m,\u001b[0m \u001b[0;34m**\u001b[0m\u001b[0mkwargs\u001b[0m\u001b[0;34m)\u001b[0m  \u001b[0;31m# type: ignore[misc]\u001b[0m\u001b[0;34m\u001b[0m\u001b[0;34m\u001b[0m\u001b[0m\n\u001b[1;32m   1735\u001b[0m         \u001b[0;32melse\u001b[0m\u001b[0;34m:\u001b[0m\u001b[0;34m\u001b[0m\u001b[0;34m\u001b[0m\u001b[0m\n\u001b[0;32m-> 1736\u001b[0;31m             \u001b[0;32mreturn\u001b[0m \u001b[0mself\u001b[0m\u001b[0;34m.\u001b[0m\u001b[0m_call_impl\u001b[0m\u001b[0;34m(\u001b[0m\u001b[0;34m*\u001b[0m\u001b[0margs\u001b[0m\u001b[0;34m,\u001b[0m \u001b[0;34m**\u001b[0m\u001b[0mkwargs\u001b[0m\u001b[0;34m)\u001b[0m\u001b[0;34m\u001b[0m\u001b[0;34m\u001b[0m\u001b[0m\n\u001b[0m\u001b[1;32m   1737\u001b[0m \u001b[0;34m\u001b[0m\u001b[0m\n\u001b[1;32m   1738\u001b[0m     \u001b[0;31m# torchrec tests the code consistency with the following code\u001b[0m\u001b[0;34m\u001b[0m\u001b[0;34m\u001b[0m\u001b[0m\n",
            "\u001b[0;32m/usr/local/lib/python3.11/dist-packages/torch/nn/modules/module.py\u001b[0m in \u001b[0;36m_call_impl\u001b[0;34m(self, *args, **kwargs)\u001b[0m\n\u001b[1;32m   1745\u001b[0m                 \u001b[0;32mor\u001b[0m \u001b[0m_global_backward_pre_hooks\u001b[0m \u001b[0;32mor\u001b[0m \u001b[0m_global_backward_hooks\u001b[0m\u001b[0;34m\u001b[0m\u001b[0;34m\u001b[0m\u001b[0m\n\u001b[1;32m   1746\u001b[0m                 or _global_forward_hooks or _global_forward_pre_hooks):\n\u001b[0;32m-> 1747\u001b[0;31m             \u001b[0;32mreturn\u001b[0m \u001b[0mforward_call\u001b[0m\u001b[0;34m(\u001b[0m\u001b[0;34m*\u001b[0m\u001b[0margs\u001b[0m\u001b[0;34m,\u001b[0m \u001b[0;34m**\u001b[0m\u001b[0mkwargs\u001b[0m\u001b[0;34m)\u001b[0m\u001b[0;34m\u001b[0m\u001b[0;34m\u001b[0m\u001b[0m\n\u001b[0m\u001b[1;32m   1748\u001b[0m \u001b[0;34m\u001b[0m\u001b[0m\n\u001b[1;32m   1749\u001b[0m         \u001b[0mresult\u001b[0m \u001b[0;34m=\u001b[0m \u001b[0;32mNone\u001b[0m\u001b[0;34m\u001b[0m\u001b[0;34m\u001b[0m\u001b[0m\n",
            "\u001b[0;32m/usr/local/lib/python3.11/dist-packages/awq/modules/linear/gemm.py\u001b[0m in \u001b[0;36mforward\u001b[0;34m(self, x)\u001b[0m\n\u001b[1;32m    268\u001b[0m         \u001b[0;32melse\u001b[0m\u001b[0;34m:\u001b[0m\u001b[0;34m\u001b[0m\u001b[0;34m\u001b[0m\u001b[0m\n\u001b[1;32m    269\u001b[0m             \u001b[0;32mwith\u001b[0m \u001b[0mtorch\u001b[0m\u001b[0;34m.\u001b[0m\u001b[0mno_grad\u001b[0m\u001b[0;34m(\u001b[0m\u001b[0;34m)\u001b[0m\u001b[0;34m:\u001b[0m\u001b[0;34m\u001b[0m\u001b[0;34m\u001b[0m\u001b[0m\n\u001b[0;32m--> 270\u001b[0;31m                 out = WQLinearMMFunction.apply(\n\u001b[0m\u001b[1;32m    271\u001b[0m                     \u001b[0mx\u001b[0m\u001b[0;34m,\u001b[0m\u001b[0;34m\u001b[0m\u001b[0;34m\u001b[0m\u001b[0m\n\u001b[1;32m    272\u001b[0m                     \u001b[0mself\u001b[0m\u001b[0;34m.\u001b[0m\u001b[0mqweight\u001b[0m\u001b[0;34m,\u001b[0m\u001b[0;34m\u001b[0m\u001b[0;34m\u001b[0m\u001b[0m\n",
            "\u001b[0;32m/usr/local/lib/python3.11/dist-packages/torch/autograd/function.py\u001b[0m in \u001b[0;36mapply\u001b[0;34m(cls, *args, **kwargs)\u001b[0m\n\u001b[1;32m    573\u001b[0m             \u001b[0;31m# See NOTE: [functorch vjp and autograd interaction]\u001b[0m\u001b[0;34m\u001b[0m\u001b[0;34m\u001b[0m\u001b[0m\n\u001b[1;32m    574\u001b[0m             \u001b[0margs\u001b[0m \u001b[0;34m=\u001b[0m \u001b[0m_functorch\u001b[0m\u001b[0;34m.\u001b[0m\u001b[0mutils\u001b[0m\u001b[0;34m.\u001b[0m\u001b[0munwrap_dead_wrappers\u001b[0m\u001b[0;34m(\u001b[0m\u001b[0margs\u001b[0m\u001b[0;34m)\u001b[0m\u001b[0;34m\u001b[0m\u001b[0;34m\u001b[0m\u001b[0m\n\u001b[0;32m--> 575\u001b[0;31m             \u001b[0;32mreturn\u001b[0m \u001b[0msuper\u001b[0m\u001b[0;34m(\u001b[0m\u001b[0;34m)\u001b[0m\u001b[0;34m.\u001b[0m\u001b[0mapply\u001b[0m\u001b[0;34m(\u001b[0m\u001b[0;34m*\u001b[0m\u001b[0margs\u001b[0m\u001b[0;34m,\u001b[0m \u001b[0;34m**\u001b[0m\u001b[0mkwargs\u001b[0m\u001b[0;34m)\u001b[0m  \u001b[0;31m# type: ignore[misc]\u001b[0m\u001b[0;34m\u001b[0m\u001b[0;34m\u001b[0m\u001b[0m\n\u001b[0m\u001b[1;32m    576\u001b[0m \u001b[0;34m\u001b[0m\u001b[0m\n\u001b[1;32m    577\u001b[0m         \u001b[0;32mif\u001b[0m \u001b[0;32mnot\u001b[0m \u001b[0mis_setup_ctx_defined\u001b[0m\u001b[0;34m:\u001b[0m\u001b[0;34m\u001b[0m\u001b[0;34m\u001b[0m\u001b[0m\n",
            "\u001b[0;32m/usr/local/lib/python3.11/dist-packages/awq/modules/linear/gemm.py\u001b[0m in \u001b[0;36mforward\u001b[0;34m(ctx, x, qweight, qzeros, scales, w_bit, group_size, bias, out_features)\u001b[0m\n\u001b[1;32m     61\u001b[0m             \u001b[0;32mif\u001b[0m \u001b[0mFP16_MATMUL_HEURISTIC_CONDITION\u001b[0m\u001b[0;34m:\u001b[0m\u001b[0;34m\u001b[0m\u001b[0;34m\u001b[0m\u001b[0m\n\u001b[1;32m     62\u001b[0m                 \u001b[0mout\u001b[0m \u001b[0;34m=\u001b[0m \u001b[0mawq_dequantize_triton\u001b[0m\u001b[0;34m(\u001b[0m\u001b[0mqweight\u001b[0m\u001b[0;34m,\u001b[0m \u001b[0mscales\u001b[0m\u001b[0;34m,\u001b[0m \u001b[0mqzeros\u001b[0m\u001b[0;34m)\u001b[0m\u001b[0;34m\u001b[0m\u001b[0;34m\u001b[0m\u001b[0m\n\u001b[0;32m---> 63\u001b[0;31m                 \u001b[0mout\u001b[0m \u001b[0;34m=\u001b[0m \u001b[0mtorch\u001b[0m\u001b[0;34m.\u001b[0m\u001b[0mmatmul\u001b[0m\u001b[0;34m(\u001b[0m\u001b[0mx\u001b[0m\u001b[0;34m,\u001b[0m \u001b[0mout\u001b[0m\u001b[0;34m)\u001b[0m\u001b[0;34m\u001b[0m\u001b[0;34m\u001b[0m\u001b[0m\n\u001b[0m\u001b[1;32m     64\u001b[0m             \u001b[0;32melse\u001b[0m\u001b[0;34m:\u001b[0m\u001b[0;34m\u001b[0m\u001b[0;34m\u001b[0m\u001b[0m\n\u001b[1;32m     65\u001b[0m                 out = awq_gemm_triton(\n",
            "\u001b[0;31mKeyboardInterrupt\u001b[0m: "
          ]
        }
      ]
    },
    {
      "cell_type": "code",
      "source": [
        "((torch.cat(pred_labels, dim=0) == torch.cat(true_labels, dim=0)).long() * acc_mask.cpu()).sum() / acc_mask.sum()"
      ],
      "metadata": {
        "colab": {
          "base_uri": "https://localhost:8080/"
        },
        "id": "6N8TNusnvKIV",
        "outputId": "fba90e6a-e710-442f-8608-003bfa761f1a"
      },
      "execution_count": null,
      "outputs": [
        {
          "output_type": "execute_result",
          "data": {
            "text/plain": [
              "tensor(0.3199, device='cuda:0')"
            ]
          },
          "metadata": {},
          "execution_count": 56
        }
      ]
    },
    {
      "cell_type": "code",
      "source": [
        "tokenizer.batch_decode((batch['input_ids'] * (batch['loss_target_pos_mask'] * batch['attention_mask'])).cpu())"
      ],
      "metadata": {
        "colab": {
          "base_uri": "https://localhost:8080/"
        },
        "id": "h62slXCjuinD",
        "outputId": "bd4908cd-a0f8-4021-9c5d-b200a29eb29c"
      },
      "execution_count": null,
      "outputs": [
        {
          "output_type": "execute_result",
          "data": {
            "text/plain": [
              "['!!!!!!!!!!!!!!!!!!!!!!!!!!!!!!!!!!!!!!!!!!!!!!!!!!!!!!!!!!!!!!!!!!!!!!!!!!!!!!!!!!!\\nA serene outdoor pool area with a clear blue swimming pool surrounded by a white fence. There are four black metal chairs with black cushions arranged around a round black metal table. The pool is situated next to a building with a white porch and a green door. The area is lush with green trees and bushes, and the sky is partly cloudy.<|im_end|>\\n!!!!!!!!!!!!!!!!!!!!!!!!!!!!!!!!!!!!!!!!!!!!!!!!!!!!!!!!!!!!!!!!!!!!!!!!!!!!!!!!!!!!!!!!!!!!!!!!!!!!!!!!!!!!!!!!!!!!!!!!!!!!!!',\n",
              " '!!!!!!!!!!!!!!!!!!!!!!!!!!!!!!!!!!!!!!!!!!!!!!!!!!!!!!!!!!!!!!!!!!!!!!!!!!!!!!!!!!!\\nA modern computer monitor with a black frame and a flat screen display is mounted on a wall bracket. The monitor is positioned at an angle, and there are two small black stands on the floor in front of it. The wall bracket has a black finish and is attached to the wall with screws.<|im_end|>\\n!!!!!!!!!!!!!!!!!!!!!!!!!!!!!!!!!!!!!!!!!!!!!!!!!!!!!!!!!!!!!!!!!!!!!!!!!!!!!!!!!!!!!!!!!!!!!!!!!!!!!!!!!!!!!!!!!!!!!!!!!!!!!!!!!!!!!!!',\n",
              " '!!!!!!!!!!!!!!!!!!!!!!!!!!!!!!!!!!!!!!!!!!!!!!!!!!!!!!!!!!!!!!!!!!!!!!!!!!!!!!!!!!!\\nA modern living room with a yellow sofa, a glass coffee table, a wooden floor, and a large window with white curtains.<|im_end|>\\n!!!!!!!!!!!!!!!!!!!!!!!!!!!!!!!!!!!!!!!!!!!!!!!!!!!!!!!!!!!!!!!!!!!!!!!!!!!!!!!!!!!!!!!!!!!!!!!!!!!!!!!!!!!!!!!!!!!!!!!!!!!!!!!!!!!!!!!!!!!!!!!!!!!!!!!!!!!!!!!!!!!!!!!!',\n",
              " '!!!!!!!!!!!!!!!!!!!!!!!!!!!!!!!!!!!!!!!!!!!!!!!!!!!!!!!!!!!!!!!!!!!!!!!!!!!!!!!!!!!\\nA dilapidated building with overgrown vegetation and debris scattered around. A traffic light is visible on the left side, and the scene has a desolate, post-apocalyptic feel.<|im_end|>\\n!!!!!!!!!!!!!!!!!!!!!!!!!!!!!!!!!!!!!!!!!!!!!!!!!!!!!!!!!!!!!!!!!!!!!!!!!!!!!!!!!!!!!!!!!!!!!!!!!!!!!!!!!!!!!!!!!!!!!!!!!!!!!!!!!!!!!!!!!!!!!!!!!!!!!!!!!!!!!',\n",
              " '!!!!!!!!!!!!!!!!!!!!!!!!!!!!!!!!!!!!!!!!!!!!!!!!!!!!!!!!!!!!!!!!!!!!!!!!!!!!!!!!!!!\\nA black and white photograph of two people walking down a corridor with arched ceilings and a tiled floor. The corridor is lined with tall windows on both sides, and the light coming through the windows creates a pattern on the floor. The people are walking away from the camera, and their figures are silhouetted against the light.<|im_end|>\\n!!!!!!!!!!!!!!!!!!!!!!!!!!!!!!!!!!!!!!!!!!!!!!!!!!!!!!!!!!!!!!!!!!!!!!!!!!!!!!!!!!!!!!!!!!!!!!!!!!!!!!!!!!!!!!!!!!!!!!!!!!!!!!!',\n",
              " '!!!!!!!!!!!!!!!!!!!!!!!!!!!!!!!!!!!!!!!!!!!!!!!!!!!!!!!!!!!!!!!!!!!!!!!!!!!!!!!!!!!\\nA person is riding a three-wheeled cart down a road, with a stuffed animal on the back. The road is lined with a barrier on the right side, and there is a sign on the left side indicating a no right turn. The person is wearing a red jacket and a helmet.<|im_end|>\\n!!!!!!!!!!!!!!!!!!!!!!!!!!!!!!!!!!!!!!!!!!!!!!!!!!!!!!!!!!!!!!!!!!!!!!!!!!!!!!!!!!!!!!!!!!!!!!!!!!!!!!!!!!!!!!!!!!!!!!!!!!!!!!!!!!!!!!',\n",
              " '!!!!!!!!!!!!!!!!!!!!!!!!!!!!!!!!!!!!!!!!!!!!!!!!!!!!!!!!!!!!!!!!!!!!!!!!!!!!!!!!!!!\\nA pair of blue-handled wire cutters with black grips and a silver cutting mechanism is displayed against a white background.<|im_end|>\\n!!!!!!!!!!!!!!!!!!!!!!!!!!!!!!!!!!!!!!!!!!!!!!!!!!!!!!!!!!!!!!!!!!!!!!!!!!!!!!!!!!!!!!!!!!!!!!!!!!!!!!!!!!!!!!!!!!!!!!!!!!!!!!!!!!!!!!!!!!!!!!!!!!!!!!!!!!!!!!!!!!!!!!!!!!',\n",
              " '!!!!!!!!!!!!!!!!!!!!!!!!!!!!!!!!!!!!!!!!!!!!!!!!!!!!!!!!!!!!!!!!!!!!!!!!!!!!!!!!!!!\\nA blank white notebook with a black cover and a white interior. The notebook has a red logo in the top right corner and a white border around the edges.<|im_end|>\\n!!!!!!!!!!!!!!!!!!!!!!!!!!!!!!!!!!!!!!!!!!!!!!!!!!!!!!!!!!!!!!!!!!!!!!!!!!!!!!!!!!!!!!!!!!!!!!!!!!!!!!!!!!!!!!!!!!!!!!!!!!!!!!!!!!!!!!!!!!!!!!!!!!!!!!!!!!!!!!!!!!']"
            ]
          },
          "metadata": {},
          "execution_count": 42
        }
      ]
    },
    {
      "cell_type": "code",
      "source": [
        "plt.plot(loss_history)"
      ],
      "metadata": {
        "colab": {
          "base_uri": "https://localhost:8080/",
          "height": 447
        },
        "outputId": "593b0302-0d27-46db-e10a-89ae2823fa23",
        "id": "WtSRpPchiWcD"
      },
      "execution_count": null,
      "outputs": [
        {
          "output_type": "execute_result",
          "data": {
            "text/plain": [
              "[<matplotlib.lines.Line2D at 0x7beef1f0a350>]"
            ]
          },
          "metadata": {},
          "execution_count": 33
        },
        {
          "output_type": "display_data",
          "data": {
            "text/plain": [
              "<Figure size 640x480 with 1 Axes>"
            ],
            "image/png": "[encoded data removed]"
          },
          "metadata": {}
        }
      ]
    },
    {
      "cell_type": "code",
      "source": [
        "plt.plot(train_acc_history)"
      ],
      "metadata": {
        "colab": {
          "base_uri": "https://localhost:8080/",
          "height": 447
        },
        "outputId": "abbd1619-ca74-4110-c497-6b7111a9c17a",
        "id": "1Q8BCtrDiWcE"
      },
      "execution_count": null,
      "outputs": [
        {
          "output_type": "execute_result",
          "data": {
            "text/plain": [
              "[<matplotlib.lines.Line2D at 0x7beef0972c90>]"
            ]
          },
          "metadata": {},
          "execution_count": 34
        },
        {
          "output_type": "display_data",
          "data": {
            "text/plain": [
              "<Figure size 640x480 with 1 Axes>"
            ],
            "image/png": "[encoded data removed]"
          },
          "metadata": {}
        }
      ]
    },
    {
      "cell_type": "code",
      "source": [
        "plt.plot(test_acc_history)"
      ],
      "metadata": {
        "colab": {
          "base_uri": "https://localhost:8080/",
          "height": 447
        },
        "outputId": "2f951ab7-c54d-4da0-fede-d7895b791a7b",
        "id": "WJER72F3iWcE"
      },
      "execution_count": null,
      "outputs": [
        {
          "output_type": "execute_result",
          "data": {
            "text/plain": [
              "[<matplotlib.lines.Line2D at 0x7beef1df0d90>]"
            ]
          },
          "metadata": {},
          "execution_count": 35
        },
        {
          "output_type": "display_data",
          "data": {
            "text/plain": [
              "<Figure size 640x480 with 1 Axes>"
            ],
            "image/png": "[encoded data removed]"
          },
          "metadata": {}
        }
      ]
    },
    {
      "cell_type": "code",
      "source": [],
      "metadata": {
        "id": "6Q8P5gLWbM4A"
      },
      "execution_count": null,
      "outputs": []
    },
    {
      "cell_type": "code",
      "source": [
        "def is_state_dict_identical(state_dict1, state_dict2):\n",
        "    return all([(state_dict1[key] == state_dict2[key]).all() for key in state_dict1])"
      ],
      "metadata": {
        "id": "l63nuoLp4FTh"
      },
      "execution_count": null,
      "outputs": []
    },
    {
      "cell_type": "code",
      "source": [
        "is_state_dict_identical(vision_encoder.state_dict(), torch.load('init_vision_encoder.pt'))"
      ],
      "metadata": {
        "colab": {
          "base_uri": "https://localhost:8080/"
        },
        "id": "QrcKZoD46mry",
        "outputId": "936de527-e1f3-4d24-f880-546fa13d1266"
      },
      "execution_count": null,
      "outputs": [
        {
          "output_type": "execute_result",
          "data": {
            "text/plain": [
              "False"
            ]
          },
          "metadata": {},
          "execution_count": 37
        }
      ]
    },
    {
      "cell_type": "code",
      "source": [
        "is_state_dict_identical(image_emb_compressor.state_dict(), torch.load('init_image_emb_compressor.pt'))"
      ],
      "metadata": {
        "colab": {
          "base_uri": "https://localhost:8080/"
        },
        "id": "LPgMt79E7mwr",
        "outputId": "e3f261e3-51d4-41e8-a939-dc59a4aeb6dc"
      },
      "execution_count": null,
      "outputs": [
        {
          "output_type": "execute_result",
          "data": {
            "text/plain": [
              "False"
            ]
          },
          "metadata": {},
          "execution_count": 38
        }
      ]
    },
    {
      "cell_type": "code",
      "source": [
        "is_state_dict_identical(llm_model.state_dict(), torch.load('init_llm_model.pt'))"
      ],
      "metadata": {
        "colab": {
          "base_uri": "https://localhost:8080/"
        },
        "id": "gl00L5rB77yw",
        "outputId": "70df853a-237c-4d39-c4c8-06dc7295b6bd"
      },
      "execution_count": null,
      "outputs": [
        {
          "output_type": "execute_result",
          "data": {
            "text/plain": [
              "True"
            ]
          },
          "metadata": {},
          "execution_count": 39
        }
      ]
    },
    {
      "cell_type": "code",
      "source": [],
      "metadata": {
        "id": "cGdp_vKVm1qi"
      },
      "execution_count": null,
      "outputs": []
    }
  ]
}